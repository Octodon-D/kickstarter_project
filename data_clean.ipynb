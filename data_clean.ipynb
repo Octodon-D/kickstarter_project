{
 "cells": [
  {
   "cell_type": "markdown",
   "id": "cab0b89e",
   "metadata": {},
   "source": [
    "### Importing the Libraries"
   ]
  },
  {
   "cell_type": "markdown",
   "id": "d059223e",
   "metadata": {},
   "source": [
    "At first, we will load the libraries, that we will use to conduct the analysis."
   ]
  },
  {
   "cell_type": "code",
   "execution_count": 57,
   "id": "5caf27c6",
   "metadata": {},
   "outputs": [],
   "source": [
    "# Basic imports\n",
    "import pandas as pd\n",
    "import numpy as np\n",
    "\n",
    "# Visualization libraries\n",
    "import matplotlib.pyplot as plt\n",
    "import seaborn as sns"
   ]
  },
  {
   "cell_type": "markdown",
   "id": "9ea3108e",
   "metadata": {},
   "source": [
    "Now, we will load the data. In total, we have 55 files that need to be loaded and merged. We will do this in the next step."
   ]
  },
  {
   "cell_type": "code",
   "execution_count": 58,
   "id": "a05c580a",
   "metadata": {},
   "outputs": [],
   "source": [
    "df = pd.read_csv(\"data/Kickstarter000.csv\")\n",
    "\n",
    "for i in range(1,56):\n",
    "    \n",
    "    num = str(1000 + i)\n",
    "    \n",
    "    dfi = pd.read_csv(f\"data/Kickstarter{num[1:4]}.csv\")\n",
    "    df = pd.concat([df,dfi], axis = 0)\n",
    "    \n",
    "df.to_csv(\"data/kickstarter_raw.csv\")"
   ]
  },
  {
   "cell_type": "markdown",
   "id": "3f7fe6cf",
   "metadata": {},
   "source": [
    "The new data set contains 209222 observations and 37 columns."
   ]
  },
  {
   "cell_type": "code",
   "execution_count": 99,
   "id": "4a0adde6",
   "metadata": {},
   "outputs": [],
   "source": [
    "df = pd.read_csv(\"data/kickstarter_raw.csv\", index_col=0)"
   ]
  },
  {
   "cell_type": "markdown",
   "id": "c173693c",
   "metadata": {},
   "source": [
    "### Data Preparation"
   ]
  },
  {
   "cell_type": "markdown",
   "id": "5f2942cc",
   "metadata": {},
   "source": [
    "At first we need to get a overview of the data to see where data cleaning is needed."
   ]
  },
  {
   "cell_type": "code",
   "execution_count": 60,
   "id": "97d9dc99",
   "metadata": {},
   "outputs": [
    {
     "name": "stdout",
     "output_type": "stream",
     "text": [
      "<class 'pandas.core.frame.DataFrame'>\n",
      "Int64Index: 209222 entries, 0 to 964\n",
      "Data columns (total 37 columns):\n",
      " #   Column                    Non-Null Count   Dtype  \n",
      "---  ------                    --------------   -----  \n",
      " 0   backers_count             209222 non-null  int64  \n",
      " 1   blurb                     209214 non-null  object \n",
      " 2   category                  209222 non-null  object \n",
      " 3   converted_pledged_amount  209222 non-null  int64  \n",
      " 4   country                   209222 non-null  object \n",
      " 5   created_at                209222 non-null  int64  \n",
      " 6   creator                   209222 non-null  object \n",
      " 7   currency                  209222 non-null  object \n",
      " 8   currency_symbol           209222 non-null  object \n",
      " 9   currency_trailing_code    209222 non-null  bool   \n",
      " 10  current_currency          209222 non-null  object \n",
      " 11  deadline                  209222 non-null  int64  \n",
      " 12  disable_communication     209222 non-null  bool   \n",
      " 13  friends                   300 non-null     object \n",
      " 14  fx_rate                   209222 non-null  float64\n",
      " 15  goal                      209222 non-null  float64\n",
      " 16  id                        209222 non-null  int64  \n",
      " 17  is_backing                300 non-null     object \n",
      " 18  is_starrable              209222 non-null  bool   \n",
      " 19  is_starred                300 non-null     object \n",
      " 20  launched_at               209222 non-null  int64  \n",
      " 21  location                  208996 non-null  object \n",
      " 22  name                      209222 non-null  object \n",
      " 23  permissions               300 non-null     object \n",
      " 24  photo                     209222 non-null  object \n",
      " 25  pledged                   209222 non-null  float64\n",
      " 26  profile                   209222 non-null  object \n",
      " 27  slug                      209222 non-null  object \n",
      " 28  source_url                209222 non-null  object \n",
      " 29  spotlight                 209222 non-null  bool   \n",
      " 30  staff_pick                209222 non-null  bool   \n",
      " 31  state                     209222 non-null  object \n",
      " 32  state_changed_at          209222 non-null  int64  \n",
      " 33  static_usd_rate           209222 non-null  float64\n",
      " 34  urls                      209222 non-null  object \n",
      " 35  usd_pledged               209222 non-null  float64\n",
      " 36  usd_type                  208742 non-null  object \n",
      "dtypes: bool(5), float64(5), int64(7), object(20)\n",
      "memory usage: 53.7+ MB\n"
     ]
    }
   ],
   "source": [
    "df.info()"
   ]
  },
  {
   "cell_type": "markdown",
   "id": "6eb5fca9",
   "metadata": {},
   "source": [
    "As we can see from above \"blurb\", \"friends\", \"is_backing\", \"is_starred\", \"location\", \"permissions\" and \"usd_type\" contain missing values. The variables \"friends\", \"is_backing\", \"is_starred\" and \"permissions\" have more than 90% missings. We will delete them from our dataset and take care of of the other variables with missings later. \n",
    "\n",
    "Further variables that can be delete as they do not have any valuable information for our analysis are \" \" ... In the next step, we will delete them together with the variables that have more than 90% missings."
   ]
  },
  {
   "cell_type": "code",
   "execution_count": 61,
   "id": "38322c11",
   "metadata": {},
   "outputs": [],
   "source": [
    "# Exclusion of the following columns from our data\n",
    "\n",
    "df = df.drop([\"currency_symbol\",\n",
    "         \"currency_trailing_code\",\n",
    "         \"friends\",\n",
    "         \"is_backing\",\n",
    "         \"is_starred\",\n",
    "         \"permissions\", \n",
    "         \"photo\",\n",
    "         \"source_url\",\n",
    "         \"urls\",\n",
    "         \"state_changed_at\",\n",
    "         \"spotlight\",\n",
    "         \"disable_communication\",\n",
    "         \"is_starrable\"], axis=1)\n",
    "\n"
   ]
  },
  {
   "cell_type": "markdown",
   "id": "52e27563",
   "metadata": {},
   "source": [
    "Further, we can see from above that the type of the columns \"created_at\", \"deadline\" and \"launched_at\" is not correct (integer instead of datetime format). In the next step, we will change that. Further, we will extract year, month and weekday out of the variables \"launched_at\" and \"dealine\" since we will later on explore these in more depth. "
   ]
  },
  {
   "cell_type": "code",
   "execution_count": 62,
   "id": "832ea5ce",
   "metadata": {},
   "outputs": [],
   "source": [
    "# convert unix date time to pandas datetime format\n",
    "df['created_at'] = pd.to_datetime(df['created_at'],unit='s')\n",
    "df['deadline'] = pd.to_datetime(df['deadline'],unit='s')\n",
    "df['launched_at'] = pd.to_datetime(df['launched_at'],unit='s')\n",
    "\n",
    "# pick out year, month and weekday out of date of launching\n",
    "df['yr_launched'] = df['launched_at'].dt.year\n",
    "df['mo_launched'] = df['launched_at'].dt.month\n",
    "df['wd_launched'] = df['launched_at'].dt.weekday\n",
    "\n",
    "# pick out year, month and weekday out of date of deadline\n",
    "df['yr_deadline'] = df['deadline'].dt.year\n",
    "df['mo_deadline'] = df['deadline'].dt.month\n",
    "df['wd_deadline'] = df['deadline'].dt.weekday"
   ]
  },
  {
   "cell_type": "markdown",
   "id": "f2c7d8bd",
   "metadata": {},
   "source": [
    "For our analysis it could be interesting to investigate the duration between deadline and launched date in more depth. Thus, in the next step, we will calculation the duration between the aformentioned variables."
   ]
  },
  {
   "cell_type": "code",
   "execution_count": 63,
   "id": "e97ae3d2",
   "metadata": {},
   "outputs": [],
   "source": [
    "# calculate duration of founding_phase (time between launching and deadline)\n",
    "founding_phase = df['deadline'] - df['launched_at']\n",
    "df['founding_phase'] = founding_phase.dt.days\n",
    "\n",
    "# calculate duration of phase_before (time between creation and launcing)\n",
    "phase_before = df['launched_at'] - df['created_at']\n",
    "df['phase_before'] = phase_before.dt.days"
   ]
  },
  {
   "cell_type": "markdown",
   "id": "619d81fa",
   "metadata": {},
   "source": [
    "The original variables \"deadline\" and \"launched_at\" are no longer needed. We can delete them."
   ]
  },
  {
   "cell_type": "code",
   "execution_count": 64,
   "id": "943a18a8",
   "metadata": {},
   "outputs": [],
   "source": [
    "# drop columns created_at, deadline, launched_at\n",
    "df = df.drop([\"created_at\", \"deadline\", \"launched_at\"], axis=1)"
   ]
  },
  {
   "cell_type": "markdown",
   "id": "c862e824",
   "metadata": {},
   "source": [
    "At next, we will create dummy variables of some categorical variables. Encoding of categorical variables simplifies.... "
   ]
  },
  {
   "cell_type": "markdown",
   "id": "f59d4028",
   "metadata": {},
   "source": [
    "The first variable we would like to encode is \"state\". Contains info about ... and is our target. Before, we encode we will explore this variable in more depth..."
   ]
  },
  {
   "cell_type": "code",
   "execution_count": 65,
   "id": "f13252e9",
   "metadata": {},
   "outputs": [
    {
     "data": {
      "text/plain": [
       "successful    117465\n",
       "failed         75199\n",
       "canceled        8624\n",
       "live            7311\n",
       "suspended        623\n",
       "Name: state, dtype: int64"
      ]
     },
     "execution_count": 65,
     "metadata": {},
     "output_type": "execute_result"
    }
   ],
   "source": [
    "# Counts\n",
    "df.state.value_counts()"
   ]
  },
  {
   "cell_type": "markdown",
   "id": "3ecb2ad2",
   "metadata": {},
   "source": [
    "We can see X levels. Overall most of the observations were successful.... For our research question only X relevant.. So exlusion of other levels....\n",
    "\n",
    "Balanced (more or less)"
   ]
  },
  {
   "cell_type": "code",
   "execution_count": 66,
   "id": "44c24dfa",
   "metadata": {},
   "outputs": [
    {
     "data": {
      "text/plain": [
       "successful    117465\n",
       "failed         75199\n",
       "Name: state, dtype: int64"
      ]
     },
     "execution_count": 66,
     "metadata": {},
     "output_type": "execute_result"
    }
   ],
   "source": [
    "df = df.query('state in [\"successful\", \"failed\"]')\n",
    "\n",
    "# Prove if it works\n",
    "df.state.value_counts()"
   ]
  },
  {
   "cell_type": "markdown",
   "id": "cda300ab",
   "metadata": {},
   "source": [
    "After dropping rows and colums the data set contains X observations and Y columns"
   ]
  },
  {
   "cell_type": "markdown",
   "id": "6ccd73a4",
   "metadata": {},
   "source": [
    "After exploration, we encode state... As well as staff_pick...\n",
    "\n"
   ]
  },
  {
   "cell_type": "code",
   "execution_count": 67,
   "id": "5b9633fc",
   "metadata": {},
   "outputs": [],
   "source": [
    "# Encoding of the state (target) variable:\n",
    "df['state'] = df['state'].apply(lambda x: 1 if x == 'successful' else 0)\n",
    "\n",
    "# 0 = failed\n",
    "# 1 = sucessful"
   ]
  },
  {
   "cell_type": "code",
   "execution_count": 68,
   "id": "dd772c94",
   "metadata": {},
   "outputs": [],
   "source": [
    "df['staff_pick'] = df['staff_pick'].apply(lambda x: 1 if x == True else 0)"
   ]
  },
  {
   "cell_type": "markdown",
   "id": "132698c1",
   "metadata": {},
   "source": [
    "Now, let's have a look at the frequency distribution of the individual variables in our data set. For this purpose, we will use histograms."
   ]
  },
  {
   "cell_type": "code",
   "execution_count": 69,
   "id": "e1bf6d9c",
   "metadata": {},
   "outputs": [
    {
     "data": {
      "image/png": "[encoded data removed]",
      "text/plain": [
       "<Figure size 1440x1080 with 20 Axes>"
      ]
     },
     "metadata": {
      "needs_background": "light"
     },
     "output_type": "display_data"
    }
   ],
   "source": [
    "df.hist(bins=50, figsize = (20,15));"
   ]
  },
  {
   "cell_type": "markdown",
   "id": "3122baff",
   "metadata": {},
   "source": [
    "A first glance on the distribution reveals that the variables \"bakers_Count\"... (--> outliers). We can also see, which vars are categorical. The information from the above printed histograms can be summarised as:\n",
    "- ...\n",
    "- \n"
   ]
  },
  {
   "cell_type": "markdown",
   "id": "e5c18122",
   "metadata": {},
   "source": [
    "As outliers can strongly affect our analysis we exclude... Before we do this we need to create a variable...."
   ]
  },
  {
   "cell_type": "code",
   "execution_count": 70,
   "id": "f32da6ae",
   "metadata": {},
   "outputs": [],
   "source": [
    "df[\"goal_usd\"] = df[\"goal\"]*df[\"static_usd_rate\"]"
   ]
  },
  {
   "cell_type": "code",
   "execution_count": 71,
   "id": "c312487d",
   "metadata": {},
   "outputs": [],
   "source": [
    "# get 98.5% quantile (highest 1.5%) of 'phase_before', 'usd_pledged', 'goal_usd'\n",
    "q_hi1  = df[\"phase_before\"].quantile(0.985)\n",
    "q_hi2  = df[\"usd_pledged\"].quantile(0.985)\n",
    "q_hi3  = df[\"goal_usd\"].quantile(0.985)\n",
    "\n",
    "# remove highest 1.5% percent of the data with the 98.5% quantiles\n",
    "df = df[(df[\"phase_before\"] < q_hi1) & (df[\"usd_pledged\"] < q_hi2) & (df[\"goal_usd\"] < q_hi3)]"
   ]
  },
  {
   "cell_type": "markdown",
   "id": "0ebea31d",
   "metadata": {},
   "source": [
    "\n",
    "Now, we come back to our variables that contain missing values."
   ]
  },
  {
   "cell_type": "code",
   "execution_count": 72,
   "id": "f43679a3",
   "metadata": {},
   "outputs": [
    {
     "data": {
      "text/plain": [
       "backers_count                 0\n",
       "blurb                         2\n",
       "category                      0\n",
       "converted_pledged_amount      0\n",
       "country                       0\n",
       "creator                       0\n",
       "currency                      0\n",
       "current_currency              0\n",
       "fx_rate                       0\n",
       "goal                          0\n",
       "id                            0\n",
       "location                    215\n",
       "name                          0\n",
       "pledged                       0\n",
       "profile                       0\n",
       "slug                          0\n",
       "staff_pick                    0\n",
       "state                         0\n",
       "static_usd_rate               0\n",
       "usd_pledged                   0\n",
       "usd_type                     37\n",
       "yr_launched                   0\n",
       "mo_launched                   0\n",
       "wd_launched                   0\n",
       "yr_deadline                   0\n",
       "mo_deadline                   0\n",
       "wd_deadline                   0\n",
       "founding_phase                0\n",
       "phase_before                  0\n",
       "goal_usd                      0\n",
       "dtype: int64"
      ]
     },
     "execution_count": 72,
     "metadata": {},
     "output_type": "execute_result"
    }
   ],
   "source": [
    "df.isnull().sum()"
   ]
  },
  {
   "cell_type": "markdown",
   "id": "9f6660a3",
   "metadata": {},
   "source": [
    "As shown above, the variables city/region/city_type and usd_type contain a relative low proportion of missings. As large dataset, deletion of the rows with missings should not be a problem."
   ]
  },
  {
   "cell_type": "code",
   "execution_count": 73,
   "id": "77c334e4",
   "metadata": {},
   "outputs": [],
   "source": [
    "# Drop rows which contain any NaN value in the selected columns\n",
    "df = df.dropna( how='any',\n",
    "                    subset=['location', 'usd_type', \"blurb\"])"
   ]
  },
  {
   "cell_type": "code",
   "execution_count": 74,
   "id": "dcf34ae1",
   "metadata": {},
   "outputs": [
    {
     "data": {
      "text/plain": [
       "backers_count               0\n",
       "blurb                       0\n",
       "category                    0\n",
       "converted_pledged_amount    0\n",
       "country                     0\n",
       "creator                     0\n",
       "currency                    0\n",
       "current_currency            0\n",
       "fx_rate                     0\n",
       "goal                        0\n",
       "id                          0\n",
       "location                    0\n",
       "name                        0\n",
       "pledged                     0\n",
       "profile                     0\n",
       "slug                        0\n",
       "staff_pick                  0\n",
       "state                       0\n",
       "static_usd_rate             0\n",
       "usd_pledged                 0\n",
       "usd_type                    0\n",
       "yr_launched                 0\n",
       "mo_launched                 0\n",
       "wd_launched                 0\n",
       "yr_deadline                 0\n",
       "mo_deadline                 0\n",
       "wd_deadline                 0\n",
       "founding_phase              0\n",
       "phase_before                0\n",
       "goal_usd                    0\n",
       "dtype: int64"
      ]
     },
     "execution_count": 74,
     "metadata": {},
     "output_type": "execute_result"
    }
   ],
   "source": [
    "df.isnull().sum()"
   ]
  },
  {
   "cell_type": "markdown",
   "id": "0d2dc694",
   "metadata": {},
   "source": [
    "Lets have a look at main_category relative large proportion of missings..."
   ]
  },
  {
   "cell_type": "code",
   "execution_count": 75,
   "id": "75c5ee55",
   "metadata": {},
   "outputs": [],
   "source": [
    "# Explore"
   ]
  },
  {
   "cell_type": "markdown",
   "id": "8b01bbeb",
   "metadata": {},
   "source": [
    "Inspection object types... category; text; probably important info -> extraction of content"
   ]
  },
  {
   "cell_type": "code",
   "execution_count": 76,
   "id": "ecc5b856",
   "metadata": {},
   "outputs": [],
   "source": [
    "df[\"category_dict\"] = df[\"category\"].apply(eval)\n",
    "df_category = df[\"category_dict\"].apply(pd.Series)\n",
    "#df_category.head()"
   ]
  },
  {
   "cell_type": "code",
   "execution_count": 77,
   "id": "d4354183",
   "metadata": {},
   "outputs": [
    {
     "name": "stdout",
     "output_type": "stream",
     "text": [
      "(184113, 7)\n"
     ]
    }
   ],
   "source": [
    "print(df_category.shape)\n",
    "all_categories = df_category[[\"id\", \"name\"]].drop_duplicates(\"name\")\n",
    "all_categories.rename(columns = {\"id\": \"parent_id\"}, inplace = True)\n",
    "#all_categories.head()"
   ]
  },
  {
   "cell_type": "code",
   "execution_count": 78,
   "id": "61d720c0",
   "metadata": {},
   "outputs": [],
   "source": [
    "df_category = df_category.merge( all_categories, how = \"left\", on = \"parent_id\", suffixes = [\"\", \"_parent\"])\n",
    "df[\"main_category\"] = df_category[\"name_parent\"]\n",
    "df[\"subcategory\"] = df_category[\"name\"]"
   ]
  },
  {
   "cell_type": "markdown",
   "id": "bc70cf82",
   "metadata": {},
   "source": [
    "As we can see Why missings? Main = subcategory.... Thus, we imputate missings with corresponding sub_category values"
   ]
  },
  {
   "cell_type": "code",
   "execution_count": 79,
   "id": "86159572",
   "metadata": {},
   "outputs": [],
   "source": [
    "# Imputation missing values\n",
    "df[\"main_category\"].fillna(df[\"subcategory\"], inplace = True) "
   ]
  },
  {
   "cell_type": "code",
   "execution_count": 80,
   "id": "52ed762e",
   "metadata": {},
   "outputs": [],
   "source": [
    "# Drop \"category_dict\" column\n",
    "df = df.drop([\"category\", \"category_dict\"], axis=1)"
   ]
  },
  {
   "cell_type": "code",
   "execution_count": 81,
   "id": "89347037",
   "metadata": {},
   "outputs": [],
   "source": [
    "# Extract name, state and type from location var...\n",
    "# Rename name var into \n",
    "# Drop location\n",
    "\n",
    "df[\"location\"].fillna(\"{}\", inplace = True)\n",
    "\n",
    "df[\"location\"] = df[\"location\"].str.replace(',\"is_root\":false', \"\")\n",
    "df[\"location\"] = df[\"location\"].str.replace(',\"is_root\":true', \"\" )\n",
    "df[\"location\"] = df[\"location\"].str.replace('null', \"{}\" )\n",
    "\n",
    "df[\"location_dict\"] = df[\"location\"].apply(eval)\n",
    "df_location = df[\"location_dict\"].apply(pd.Series)\n",
    "df_location.head()\n",
    "\n",
    "df[\"city\"] = df_location[\"name\"]\n",
    "df[\"region\"] = df_location[\"state\"]\n",
    "df[\"city_type\"] = df_location[\"type\"]"
   ]
  },
  {
   "cell_type": "code",
   "execution_count": 82,
   "id": "f6ed43fe",
   "metadata": {},
   "outputs": [],
   "source": [
    "# Drop \"location\" column\n",
    "df = df.drop([\"location\", \"location_dict\"], axis=1)"
   ]
  },
  {
   "cell_type": "code",
   "execution_count": 83,
   "id": "0274299a",
   "metadata": {},
   "outputs": [],
   "source": [
    "df[\"creator_id\"] = df[\"creator\"].str[6:22]\n",
    "df[\"creator_id\"] = df[\"creator_id\"].str.replace('\"', \"\")\n",
    "df[\"creator_id\"] = df[\"creator_id\"].str.split(\",\").str[0]\n",
    "df[\"creator_id\"] = df[\"creator_id\"].astype(int)\n",
    "\n",
    "df_creator = df[[\"creator_id\",\"state\"]].groupby(\"creator_id\").count()\n",
    "df_creator.rename(columns = {\"state\": \"creator_num_projects\"}, inplace = True)\n",
    "df_creator.reset_index()\n",
    "\n",
    "df = df.merge( df_creator, how = \"left\", on = \"creator_id\")"
   ]
  },
  {
   "cell_type": "markdown",
   "id": "f629a563",
   "metadata": {},
   "source": [
    "Extract number of words: sentimental analysis..."
   ]
  },
  {
   "cell_type": "code",
   "execution_count": 84,
   "id": "e5ce5cdd",
   "metadata": {},
   "outputs": [],
   "source": [
    "# Extract number of words\n",
    "df['words_blurb'] = df['blurb'].apply(lambda x: len(str(x).split()))"
   ]
  },
  {
   "cell_type": "code",
   "execution_count": 86,
   "id": "5234c01b",
   "metadata": {},
   "outputs": [
    {
     "name": "stdout",
     "output_type": "stream",
     "text": [
      "Collecting TextBlob\n",
      "  Downloading textblob-0.15.3-py2.py3-none-any.whl (636 kB)\n",
      "\u001b[K     |████████████████████████████████| 636 kB 3.2 MB/s eta 0:00:01\n",
      "\u001b[?25hCollecting nltk>=3.1\n",
      "  Downloading nltk-3.6.2-py3-none-any.whl (1.5 MB)\n",
      "\u001b[K     |████████████████████████████████| 1.5 MB 7.6 MB/s eta 0:00:01\n",
      "\u001b[?25hRequirement already satisfied: joblib in ./.venv/lib/python3.8/site-packages (from nltk>=3.1->TextBlob) (1.0.1)\n",
      "Collecting click\n",
      "  Downloading click-8.0.1-py3-none-any.whl (97 kB)\n",
      "\u001b[K     |████████████████████████████████| 97 kB 7.3 MB/s eta 0:00:011\n",
      "\u001b[?25hCollecting regex\n",
      "  Downloading regex-2021.4.4-cp38-cp38-macosx_10_9_x86_64.whl (284 kB)\n",
      "\u001b[K     |████████████████████████████████| 284 kB 5.7 MB/s eta 0:00:01\n",
      "\u001b[?25hCollecting tqdm\n",
      "  Downloading tqdm-4.61.1-py2.py3-none-any.whl (75 kB)\n",
      "\u001b[K     |████████████████████████████████| 75 kB 5.5 MB/s eta 0:00:01\n",
      "\u001b[?25hInstalling collected packages: tqdm, regex, click, nltk, TextBlob\n",
      "Successfully installed TextBlob-0.15.3 click-8.0.1 nltk-3.6.2 regex-2021.4.4 tqdm-4.61.1\n"
     ]
    }
   ],
   "source": [
    "!pip install TextBlob\n",
    "\n",
    "from textblob import TextBlob"
   ]
  },
  {
   "cell_type": "code",
   "execution_count": 87,
   "id": "cf3cc617",
   "metadata": {},
   "outputs": [
    {
     "name": "stdout",
     "output_type": "stream",
     "text": [
      "Professional high quality Film Holders,  CNCed aluminum body, available in 4x5\", 8x10\"and 11x14\". Proudly 100% Made in Sassuolo, Italy\n"
     ]
    },
    {
     "data": {
      "text/plain": [
       "Sentiment(polarity=0.365, subjectivity=0.51)"
      ]
     },
     "execution_count": 87,
     "metadata": {},
     "output_type": "execute_result"
    }
   ],
   "source": [
    "a = TextBlob(df.loc[1000, \"blurb\"])\n",
    "print(df.loc[1000, \"blurb\"])\n",
    "a.sentiment"
   ]
  },
  {
   "cell_type": "code",
   "execution_count": 88,
   "id": "541fbd2b",
   "metadata": {},
   "outputs": [],
   "source": [
    "df['polarity_blurb'] = df['blurb'].apply(lambda x: TextBlob(str(x)).sentiment[0])\n",
    "df['subjectivity_blurb'] = df['blurb'].apply(lambda x: TextBlob(str(x)).sentiment[1])"
   ]
  },
  {
   "cell_type": "code",
   "execution_count": 89,
   "id": "69f1e922",
   "metadata": {},
   "outputs": [],
   "source": [
    "df = df.drop([\"creator\",\n",
    "             \"blurb\",\n",
    "             \"static_usd_rate\",\n",
    "             \"fx_rate\",\n",
    "             \"currency\",\n",
    "             \"current_currency\",\n",
    "             \"pledged\",\n",
    "             \"goal\",\n",
    "             \"profile\",\n",
    "             \"converted_pledged_amount\",\n",
    "             \"slug\"], axis=1)"
   ]
  },
  {
   "cell_type": "code",
   "execution_count": 95,
   "id": "0f1f95c2",
   "metadata": {},
   "outputs": [],
   "source": [
    "df.to_csv(\"data/data_clean.csv\")\n",
    "df = pd.read_csv(\"data/data_clean.csv\", index_col=0)"
   ]
  },
  {
   "cell_type": "markdown",
   "id": "dcc8e7e6",
   "metadata": {},
   "source": [
    "# Fehleranalyse (research outlier)\n",
    "# usd_type keep? delete? (feature importance)"
   ]
  },
  {
   "cell_type": "code",
   "execution_count": 96,
   "id": "a627692c",
   "metadata": {},
   "outputs": [
    {
     "name": "stdout",
     "output_type": "stream",
     "text": [
      "<class 'pandas.core.frame.DataFrame'>\n",
      "Int64Index: 184113 entries, 0 to 184112\n",
      "Data columns (total 28 columns):\n",
      " #   Column                Non-Null Count   Dtype  \n",
      "---  ------                --------------   -----  \n",
      " 0   Unnamed: 0.1          184113 non-null  int64  \n",
      " 1   backers_count         184113 non-null  int64  \n",
      " 2   country               184113 non-null  object \n",
      " 3   id                    184113 non-null  int64  \n",
      " 4   name                  184113 non-null  object \n",
      " 5   staff_pick            184113 non-null  int64  \n",
      " 6   state                 184113 non-null  int64  \n",
      " 7   usd_pledged           184113 non-null  float64\n",
      " 8   usd_type              184113 non-null  object \n",
      " 9   yr_launched           184113 non-null  int64  \n",
      " 10  mo_launched           184113 non-null  int64  \n",
      " 11  wd_launched           184113 non-null  int64  \n",
      " 12  yr_deadline           184113 non-null  int64  \n",
      " 13  mo_deadline           184113 non-null  int64  \n",
      " 14  wd_deadline           184113 non-null  int64  \n",
      " 15  founding_phase        184113 non-null  int64  \n",
      " 16  phase_before          184113 non-null  int64  \n",
      " 17  goal_usd              184113 non-null  float64\n",
      " 18  main_category         184113 non-null  object \n",
      " 19  subcategory           184113 non-null  object \n",
      " 20  city                  184113 non-null  object \n",
      " 21  region                184113 non-null  object \n",
      " 22  city_type             184113 non-null  object \n",
      " 23  creator_id            184113 non-null  int64  \n",
      " 24  creator_num_projects  184113 non-null  int64  \n",
      " 25  words_blurb           184113 non-null  int64  \n",
      " 26  polarity_blurb        184113 non-null  float64\n",
      " 27  subjectivity_blurb    184113 non-null  float64\n",
      "dtypes: float64(4), int64(16), object(8)\n",
      "memory usage: 40.7+ MB\n"
     ]
    }
   ],
   "source": [
    "df.info()"
   ]
  },
  {
   "cell_type": "markdown",
   "id": "3a4e741d",
   "metadata": {},
   "source": [
    "Final data set... --> Describe"
   ]
  }
 ],
 "metadata": {
  "kernelspec": {
   "display_name": "Python 3",
   "language": "python",
   "name": "python3"
  },
  "language_info": {
   "codemirror_mode": {
    "name": "ipython",
    "version": 3
   },
   "file_extension": ".py",
   "mimetype": "text/x-python",
   "name": "python",
   "nbconvert_exporter": "python",
   "pygments_lexer": "ipython3",
   "version": "3.8.5"
  }
 },
 "nbformat": 4,
 "nbformat_minor": 5
}
