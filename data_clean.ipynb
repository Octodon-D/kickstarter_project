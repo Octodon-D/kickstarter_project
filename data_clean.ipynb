{
 "cells": [
  {
   "cell_type": "markdown",
   "id": "1a747b87",
   "metadata": {},
   "source": [
    "### Importing the Libraries"
   ]
  },
  {
   "cell_type": "code",
   "execution_count": 1,
   "id": "bcb83fdd",
   "metadata": {},
   "outputs": [],
   "source": [
    "import pandas as pd\n",
    "import numpy as np"
   ]
  },
  {
   "cell_type": "markdown",
   "id": "18ba514c",
   "metadata": {},
   "source": [
    "In total, we have 55 files that need to be merged. We will do this in the next step."
   ]
  },
  {
   "cell_type": "code",
   "execution_count": 2,
   "id": "db315128",
   "metadata": {},
   "outputs": [],
   "source": [
    "#df = pd.read_csv(\"data/Kickstarter000.csv\")\n",
    "\n",
    "#for i in range(1,56):\n",
    "    \n",
    "  #  num = str(1000 + i)\n",
    "    \n",
    "  #  dfi = pd.read_csv(f\"data/Kickstarter{num[1:4]}.csv\")\n",
    "  #  df = pd.concat([df,dfi], axis = 0)\n",
    "    \n",
    "#df.to_csv(\"data/kickstarter_raw.csv\")"
   ]
  },
  {
   "cell_type": "markdown",
   "id": "2fe970a1",
   "metadata": {},
   "source": [
    "The new dataframe contains 209222 observations and 37 columns."
   ]
  },
  {
   "cell_type": "code",
   "execution_count": 3,
   "id": "7dafee95",
   "metadata": {},
   "outputs": [],
   "source": [
    "df = pd.read_csv(\"data/kickstarter_raw.csv\")"
   ]
  },
  {
   "cell_type": "markdown",
   "id": "defc745d",
   "metadata": {},
   "source": [
    "### Data Preparation"
   ]
  },
  {
   "cell_type": "markdown",
   "id": "b02b2de6",
   "metadata": {},
   "source": [
    "At first we need to get a overview of the data to see where data cleaning is needed."
   ]
  },
  {
   "cell_type": "code",
   "execution_count": 4,
   "id": "1d342e47",
   "metadata": {},
   "outputs": [
    {
     "name": "stdout",
     "output_type": "stream",
     "text": [
      "<class 'pandas.core.frame.DataFrame'>\n",
      "RangeIndex: 209222 entries, 0 to 209221\n",
      "Data columns (total 38 columns):\n",
      " #   Column                    Non-Null Count   Dtype  \n",
      "---  ------                    --------------   -----  \n",
      " 0   Unnamed: 0                209222 non-null  int64  \n",
      " 1   backers_count             209222 non-null  int64  \n",
      " 2   blurb                     209214 non-null  object \n",
      " 3   category                  209222 non-null  object \n",
      " 4   converted_pledged_amount  209222 non-null  int64  \n",
      " 5   country                   209222 non-null  object \n",
      " 6   created_at                209222 non-null  int64  \n",
      " 7   creator                   209222 non-null  object \n",
      " 8   currency                  209222 non-null  object \n",
      " 9   currency_symbol           209222 non-null  object \n",
      " 10  currency_trailing_code    209222 non-null  bool   \n",
      " 11  current_currency          209222 non-null  object \n",
      " 12  deadline                  209222 non-null  int64  \n",
      " 13  disable_communication     209222 non-null  bool   \n",
      " 14  friends                   300 non-null     object \n",
      " 15  fx_rate                   209222 non-null  float64\n",
      " 16  goal                      209222 non-null  float64\n",
      " 17  id                        209222 non-null  int64  \n",
      " 18  is_backing                300 non-null     object \n",
      " 19  is_starrable              209222 non-null  bool   \n",
      " 20  is_starred                300 non-null     object \n",
      " 21  launched_at               209222 non-null  int64  \n",
      " 22  location                  208996 non-null  object \n",
      " 23  name                      209222 non-null  object \n",
      " 24  permissions               300 non-null     object \n",
      " 25  photo                     209222 non-null  object \n",
      " 26  pledged                   209222 non-null  float64\n",
      " 27  profile                   209222 non-null  object \n",
      " 28  slug                      209222 non-null  object \n",
      " 29  source_url                209222 non-null  object \n",
      " 30  spotlight                 209222 non-null  bool   \n",
      " 31  staff_pick                209222 non-null  bool   \n",
      " 32  state                     209222 non-null  object \n",
      " 33  state_changed_at          209222 non-null  int64  \n",
      " 34  static_usd_rate           209222 non-null  float64\n",
      " 35  urls                      209222 non-null  object \n",
      " 36  usd_pledged               209222 non-null  float64\n",
      " 37  usd_type                  208742 non-null  object \n",
      "dtypes: bool(5), float64(5), int64(8), object(20)\n",
      "memory usage: 53.7+ MB\n"
     ]
    }
   ],
   "source": [
    "df.info()"
   ]
  },
  {
   "cell_type": "markdown",
   "id": "eaf6bf4a",
   "metadata": {},
   "source": [
    "Missing values\n",
    "As we can see from above \"blurb\", \"friends\", \"is_backing\", \"is_starred\", \"location\", \"permissions\" and \"usd_type\" contain missing values. The variables \"friends\", \"is_backing\" ... contain missing values. We will clean them later.. bla ... Drop vars with more than 70% missing values?\n",
    "\n",
    "usd_type modus?\n",
    "location\n",
    "blurb delete rows?"
   ]
  },
  {
   "cell_type": "markdown",
   "id": "ae37a8fb",
   "metadata": {},
   "source": [
    "Variable types\n",
    "datetime format and drop of old date columns\n",
    "\n",
    "\n"
   ]
  },
  {
   "cell_type": "code",
   "execution_count": 5,
   "id": "e8e899d8",
   "metadata": {},
   "outputs": [],
   "source": [
    "# convert unix date time to pandas datetime format\n",
    "df['created_at'] = pd.to_datetime(df['created_at'],unit='s')\n",
    "df['deadline'] = pd.to_datetime(df['deadline'],unit='s')\n",
    "df['launched_at'] = pd.to_datetime(df['launched_at'],unit='s')\n",
    "\n",
    "# pick out year, month and weekday out of date of launching\n",
    "df['yr_launched'] = df['launched_at'].dt.year\n",
    "df['mo_launched'] = df['launched_at'].dt.month\n",
    "df['wd_launched'] = df['launched_at'].dt.weekday\n",
    "\n",
    "# pick out year, month and weekday out of date of deadline\n",
    "df['yr_deadline'] = df['deadline'].dt.year\n",
    "df['mo_deadline'] = df['deadline'].dt.month\n",
    "df['wd_deadline'] = df['deadline'].dt.weekday"
   ]
  },
  {
   "cell_type": "code",
   "execution_count": 6,
   "id": "fc68be11",
   "metadata": {},
   "outputs": [],
   "source": [
    "# calculate duration of founding_phase (time between launching and deadline)\n",
    "founding_phase = df['deadline'] - df['launched_at']\n",
    "df['founding_phase'] = founding_phase.dt.days\n",
    "\n",
    "# calculate duration of phase_before (time between creation and launcing)\n",
    "phase_before = df['launched_at'] - df['created_at']\n",
    "df['phase_before'] = phase_before.dt.days"
   ]
  },
  {
   "cell_type": "code",
   "execution_count": 7,
   "id": "4877a544",
   "metadata": {},
   "outputs": [],
   "source": [
    "# drop columns created_at, deadline, launched_at\n",
    "df = df.drop([\"created_at\", \"deadline\", \"launched_at\"], axis=1)\n"
   ]
  },
  {
   "cell_type": "code",
   "execution_count": 8,
   "id": "19fa28d7",
   "metadata": {},
   "outputs": [],
   "source": [
    "# 2. Inspection object types... category; text; probably important info -> extraction of content"
   ]
  },
  {
   "cell_type": "code",
   "execution_count": 9,
   "id": "f20c1b71",
   "metadata": {},
   "outputs": [
    {
     "data": {
      "text/html": [
       "<div>\n",
       "<style scoped>\n",
       "    .dataframe tbody tr th:only-of-type {\n",
       "        vertical-align: middle;\n",
       "    }\n",
       "\n",
       "    .dataframe tbody tr th {\n",
       "        vertical-align: top;\n",
       "    }\n",
       "\n",
       "    .dataframe thead th {\n",
       "        text-align: right;\n",
       "    }\n",
       "</style>\n",
       "<table border=\"1\" class=\"dataframe\">\n",
       "  <thead>\n",
       "    <tr style=\"text-align: right;\">\n",
       "      <th></th>\n",
       "      <th>id</th>\n",
       "      <th>name</th>\n",
       "      <th>slug</th>\n",
       "      <th>position</th>\n",
       "      <th>parent_id</th>\n",
       "      <th>color</th>\n",
       "      <th>urls</th>\n",
       "    </tr>\n",
       "  </thead>\n",
       "  <tbody>\n",
       "    <tr>\n",
       "      <th>0</th>\n",
       "      <td>43</td>\n",
       "      <td>Rock</td>\n",
       "      <td>music/rock</td>\n",
       "      <td>17</td>\n",
       "      <td>14.0</td>\n",
       "      <td>10878931</td>\n",
       "      <td>{'web': {'discover': 'http://www.kickstarter.c...</td>\n",
       "    </tr>\n",
       "    <tr>\n",
       "      <th>1</th>\n",
       "      <td>54</td>\n",
       "      <td>Mixed Media</td>\n",
       "      <td>art/mixed media</td>\n",
       "      <td>6</td>\n",
       "      <td>1.0</td>\n",
       "      <td>16760235</td>\n",
       "      <td>{'web': {'discover': 'http://www.kickstarter.c...</td>\n",
       "    </tr>\n",
       "    <tr>\n",
       "      <th>2</th>\n",
       "      <td>280</td>\n",
       "      <td>Photobooks</td>\n",
       "      <td>photography/photobooks</td>\n",
       "      <td>5</td>\n",
       "      <td>15.0</td>\n",
       "      <td>58341</td>\n",
       "      <td>{'web': {'discover': 'http://www.kickstarter.c...</td>\n",
       "    </tr>\n",
       "    <tr>\n",
       "      <th>3</th>\n",
       "      <td>266</td>\n",
       "      <td>Footwear</td>\n",
       "      <td>fashion/footwear</td>\n",
       "      <td>5</td>\n",
       "      <td>9.0</td>\n",
       "      <td>16752598</td>\n",
       "      <td>{'web': {'discover': 'http://www.kickstarter.c...</td>\n",
       "    </tr>\n",
       "    <tr>\n",
       "      <th>4</th>\n",
       "      <td>51</td>\n",
       "      <td>Software</td>\n",
       "      <td>technology/software</td>\n",
       "      <td>11</td>\n",
       "      <td>16.0</td>\n",
       "      <td>6526716</td>\n",
       "      <td>{'web': {'discover': 'http://www.kickstarter.c...</td>\n",
       "    </tr>\n",
       "  </tbody>\n",
       "</table>\n",
       "</div>"
      ],
      "text/plain": [
       "    id         name                    slug  position  parent_id     color  \\\n",
       "0   43         Rock              music/rock        17       14.0  10878931   \n",
       "1   54  Mixed Media         art/mixed media         6        1.0  16760235   \n",
       "2  280   Photobooks  photography/photobooks         5       15.0     58341   \n",
       "3  266     Footwear        fashion/footwear         5        9.0  16752598   \n",
       "4   51     Software     technology/software        11       16.0   6526716   \n",
       "\n",
       "                                                urls  \n",
       "0  {'web': {'discover': 'http://www.kickstarter.c...  \n",
       "1  {'web': {'discover': 'http://www.kickstarter.c...  \n",
       "2  {'web': {'discover': 'http://www.kickstarter.c...  \n",
       "3  {'web': {'discover': 'http://www.kickstarter.c...  \n",
       "4  {'web': {'discover': 'http://www.kickstarter.c...  "
      ]
     },
     "execution_count": 9,
     "metadata": {},
     "output_type": "execute_result"
    }
   ],
   "source": [
    "df[\"category_dict\"] = df[\"category\"].apply(eval)\n",
    "df_category = df[\"category_dict\"].apply(pd.Series)\n",
    "df_category.head()"
   ]
  },
  {
   "cell_type": "code",
   "execution_count": 10,
   "id": "d04b15c4",
   "metadata": {},
   "outputs": [
    {
     "name": "stdout",
     "output_type": "stream",
     "text": [
      "(209222, 7)\n"
     ]
    },
    {
     "data": {
      "text/html": [
       "<div>\n",
       "<style scoped>\n",
       "    .dataframe tbody tr th:only-of-type {\n",
       "        vertical-align: middle;\n",
       "    }\n",
       "\n",
       "    .dataframe tbody tr th {\n",
       "        vertical-align: top;\n",
       "    }\n",
       "\n",
       "    .dataframe thead th {\n",
       "        text-align: right;\n",
       "    }\n",
       "</style>\n",
       "<table border=\"1\" class=\"dataframe\">\n",
       "  <thead>\n",
       "    <tr style=\"text-align: right;\">\n",
       "      <th></th>\n",
       "      <th>parent_id</th>\n",
       "      <th>name</th>\n",
       "    </tr>\n",
       "  </thead>\n",
       "  <tbody>\n",
       "    <tr>\n",
       "      <th>0</th>\n",
       "      <td>43</td>\n",
       "      <td>Rock</td>\n",
       "    </tr>\n",
       "    <tr>\n",
       "      <th>1</th>\n",
       "      <td>54</td>\n",
       "      <td>Mixed Media</td>\n",
       "    </tr>\n",
       "    <tr>\n",
       "      <th>2</th>\n",
       "      <td>280</td>\n",
       "      <td>Photobooks</td>\n",
       "    </tr>\n",
       "    <tr>\n",
       "      <th>3</th>\n",
       "      <td>266</td>\n",
       "      <td>Footwear</td>\n",
       "    </tr>\n",
       "    <tr>\n",
       "      <th>4</th>\n",
       "      <td>51</td>\n",
       "      <td>Software</td>\n",
       "    </tr>\n",
       "  </tbody>\n",
       "</table>\n",
       "</div>"
      ],
      "text/plain": [
       "   parent_id         name\n",
       "0         43         Rock\n",
       "1         54  Mixed Media\n",
       "2        280   Photobooks\n",
       "3        266     Footwear\n",
       "4         51     Software"
      ]
     },
     "execution_count": 10,
     "metadata": {},
     "output_type": "execute_result"
    }
   ],
   "source": [
    "print(df_category.shape)\n",
    "all_categories = df_category[[\"id\", \"name\"]].drop_duplicates(\"name\")\n",
    "all_categories.rename(columns = {\"id\": \"parent_id\"}, inplace = True)\n",
    "all_categories.head()"
   ]
  },
  {
   "cell_type": "code",
   "execution_count": 11,
   "id": "c7724e27",
   "metadata": {},
   "outputs": [],
   "source": [
    "df_category = df_category.merge( all_categories, how = \"left\", on = \"parent_id\", suffixes = [\"\", \"_parent\"])\n",
    "df[\"main_category\"] = df_category[\"name_parent\"]\n",
    "df[\"subcategory\"] = df_category[\"name\"]"
   ]
  },
  {
   "cell_type": "code",
   "execution_count": 12,
   "id": "727f9960",
   "metadata": {},
   "outputs": [],
   "source": [
    "# Drop \"category_dict\" column\n",
    "df = df.drop([\"category\", \"category_dict\"], axis=1)"
   ]
  },
  {
   "cell_type": "code",
   "execution_count": 13,
   "id": "a8b788a9",
   "metadata": {},
   "outputs": [],
   "source": [
    "# Extract name, state and type from location var...\n",
    "# Rename name var into ?\n",
    "# Drop location\n",
    "\n",
    "df[\"location\"].fillna(\"{}\", inplace = True)\n",
    "\n",
    "df[\"location\"] = df[\"location\"].str.replace(',\"is_root\":false', \"\")\n",
    "df[\"location\"] = df[\"location\"].str.replace(',\"is_root\":true', \"\" )\n",
    "df[\"location\"] = df[\"location\"].str.replace('null', \"{}\" )\n",
    "\n",
    "df[\"location_dict\"] = df[\"location\"].apply(eval)\n",
    "df_location = df[\"location_dict\"].apply(pd.Series)\n",
    "df_location.head()\n",
    "\n",
    "df[\"city\"] = df_location[\"name\"]\n",
    "df[\"region\"] = df_location[\"state\"]\n",
    "df[\"city_type\"] = df_location[\"type\"]"
   ]
  },
  {
   "cell_type": "code",
   "execution_count": 14,
   "id": "7ff1a312",
   "metadata": {},
   "outputs": [],
   "source": [
    "# Drop \"location\" column\n",
    "df = df.drop([\"location\", \"location_dict\"], axis=1)"
   ]
  },
  {
   "cell_type": "markdown",
   "id": "fe72ef2f",
   "metadata": {},
   "source": [
    "### To-do Get creator id out of creator"
   ]
  },
  {
   "cell_type": "code",
   "execution_count": 15,
   "id": "c04ac204",
   "metadata": {},
   "outputs": [
    {
     "data": {
      "text/plain": [
       "Index(['Unnamed: 0', 'backers_count', 'blurb', 'converted_pledged_amount',\n",
       "       'country', 'creator', 'currency', 'currency_symbol',\n",
       "       'currency_trailing_code', 'current_currency', 'disable_communication',\n",
       "       'friends', 'fx_rate', 'goal', 'id', 'is_backing', 'is_starrable',\n",
       "       'is_starred', 'name', 'permissions', 'photo', 'pledged', 'profile',\n",
       "       'slug', 'source_url', 'spotlight', 'staff_pick', 'state',\n",
       "       'state_changed_at', 'static_usd_rate', 'urls', 'usd_pledged',\n",
       "       'usd_type', 'yr_launched', 'mo_launched', 'wd_launched', 'yr_deadline',\n",
       "       'mo_deadline', 'wd_deadline', 'founding_phase', 'phase_before',\n",
       "       'main_category', 'subcategory', 'city', 'region', 'city_type'],\n",
       "      dtype='object')"
      ]
     },
     "execution_count": 15,
     "metadata": {},
     "output_type": "execute_result"
    }
   ],
   "source": [
    "#df[\"creator\"] = df[\"creator\"].str.replace('\"is_registered\":null, ', \"\" )\n",
    "#df[\"creator\"] = df[\"creator\"].str.replace('\"chosen_currency\":null, ', \"\" )\n",
    "#df[\"creator\"] = df[\"creator\"].str.replace('null', \"'hi'\")\n",
    "\n",
    "#df[\"creator_dict\"] = df[\"creator\"].apply(eval)\n",
    "#df_creator = df[\"creator_dict\"].apply(pd.Series)\n",
    "\n",
    "#df[\"user_id\"] = df_creator[\"id\"]\n",
    "df.columns"
   ]
  },
  {
   "cell_type": "code",
   "execution_count": 16,
   "id": "8596f802",
   "metadata": {},
   "outputs": [],
   "source": [
    "# Exclusion of the following X columns\n",
    "# Add above? \n",
    "df = df.drop([\"currency_symbol\",\n",
    "         \"currency_trailing_code\",\n",
    "         \"friends\",\n",
    "         \"is_backing\",\n",
    "         \"is_starred\",\n",
    "         \"permissions\", \n",
    "         \"photo\",\n",
    "         \"source_url\",\n",
    "         \"urls\",\n",
    "         \"state_changed_at\",\n",
    "         \"spotlight\",\n",
    "         \"Unnamed: 0\"], axis=1)\n",
    "\n",
    "\n",
    "         #,\"Unnamed: 0.1\""
   ]
  },
  {
   "cell_type": "code",
   "execution_count": 17,
   "id": "10ec2825",
   "metadata": {},
   "outputs": [
    {
     "data": {
      "text/plain": [
       "(192664, 34)"
      ]
     },
     "execution_count": 17,
     "metadata": {},
     "output_type": "execute_result"
    }
   ],
   "source": [
    "# Exclusion other levels than \"successful and \"failed\". But at first, have a look at the counts...\n",
    "# Reason why exclusion of other levels...\n",
    "\n",
    "df.state.value_counts()\n",
    "\n",
    "# successful    117465\n",
    "# failed         75199\n",
    "\n",
    "# 192664 Sum of \"successful\" and \"failed\"\n",
    "\n",
    "df = df.query('state in [\"successful\", \"failed\"]')\n",
    "\n",
    "# Prove if it works\n",
    "df.state.value_counts()\n",
    "df.shape\n",
    "\n",
    "# After dropping rows and colums the data set contains X observations and Y columns\n"
   ]
  },
  {
   "cell_type": "markdown",
   "id": "780c0dda",
   "metadata": {},
   "source": [
    "For our model/analysis we need to create a X variable of the target va"
   ]
  },
  {
   "cell_type": "code",
   "execution_count": 18,
   "id": "f26c51ab",
   "metadata": {},
   "outputs": [],
   "source": [
    "# Encoding of the state (target) variable:\n",
    "df['state'] = df['state'].apply(lambda x: 1 if x == 'successful' else 0)\n",
    "\n",
    "# 0 = failed\n",
    "# 1 = sucessful"
   ]
  },
  {
   "cell_type": "code",
   "execution_count": 19,
   "id": "f540f553",
   "metadata": {},
   "outputs": [],
   "source": [
    "# Blurb var \n",
    "# Hypothesis\n",
    "# Extract number of words\n",
    "df['words_blurb'] = df['blurb'].apply(lambda x: len(str(x).split()))\n",
    "\n",
    "\n",
    "# Sentiment analysis?"
   ]
  },
  {
   "cell_type": "markdown",
   "id": "c3fc01b4",
   "metadata": {},
   "source": [
    "Spotlight allows creators to **make a home for their project on Kickstarter after they’ve been successfully funded.** Each creator can take control of their page and build a customized, central hub for news, updates, links to finished work, and anything else they want the world to know about their project.\n"
   ]
  },
  {
   "cell_type": "code",
   "execution_count": 20,
   "id": "6077ca96",
   "metadata": {},
   "outputs": [
    {
     "name": "stderr",
     "output_type": "stream",
     "text": [
      "<ipython-input-20-d675ab0df0b1>:4: SettingWithCopyWarning: \n",
      "A value is trying to be set on a copy of a slice from a DataFrame.\n",
      "Try using .loc[row_indexer,col_indexer] = value instead\n",
      "\n",
      "See the caveats in the documentation: https://pandas.pydata.org/pandas-docs/stable/user_guide/indexing.html#returning-a-view-versus-a-copy\n",
      "  test[\"compare\"] = test[\"goal\"] - test[\"pledged\"]\n"
     ]
    },
    {
     "data": {
      "text/html": [
       "<div>\n",
       "<style scoped>\n",
       "    .dataframe tbody tr th:only-of-type {\n",
       "        vertical-align: middle;\n",
       "    }\n",
       "\n",
       "    .dataframe tbody tr th {\n",
       "        vertical-align: top;\n",
       "    }\n",
       "\n",
       "    .dataframe thead th {\n",
       "        text-align: right;\n",
       "    }\n",
       "</style>\n",
       "<table border=\"1\" class=\"dataframe\">\n",
       "  <thead>\n",
       "    <tr style=\"text-align: right;\">\n",
       "      <th></th>\n",
       "      <th>state</th>\n",
       "      <th>currency</th>\n",
       "      <th>usd_pledged</th>\n",
       "      <th>pledged</th>\n",
       "      <th>goal</th>\n",
       "      <th>compare</th>\n",
       "    </tr>\n",
       "  </thead>\n",
       "  <tbody>\n",
       "  </tbody>\n",
       "</table>\n",
       "</div>"
      ],
      "text/plain": [
       "Empty DataFrame\n",
       "Columns: [state, currency, usd_pledged, pledged, goal, compare]\n",
       "Index: []"
      ]
     },
     "execution_count": 20,
     "metadata": {},
     "output_type": "execute_result"
    }
   ],
   "source": [
    "#df[[\"static_usd_rate\", \"fx_rate\", \"currency\", \"current_currency\", \"usd_pledged\", \"pledged\", \"usd_type\"]].head(20)\n",
    "#test = df[[\"state\", \"currency\", \"usd_pledged\", \"pledged\", \"goal\"]]\n",
    "\n",
    "#test[\"compare\"] = test[\"goal\"] - test[\"pledged\"]\n",
    "#test[test[\"state\"] == \"successful\"]\n",
    "#test.query(\"state == 'successful' and compare > 0\")\n",
    "\n",
    "#df.currency.unique()\n",
    "\n",
    "\n",
    "#61310 index --> exclusion (nicht stimmig)"
   ]
  },
  {
   "cell_type": "code",
   "execution_count": 21,
   "id": "b663d02e",
   "metadata": {},
   "outputs": [],
   "source": [
    "df[\"goal_usd\"] = df[\"goal\"]*df[\"static_usd_rate\"]"
   ]
  },
  {
   "cell_type": "code",
   "execution_count": 22,
   "id": "fa6928e1",
   "metadata": {},
   "outputs": [],
   "source": [
    "df = df.drop([\"creator\",\n",
    "             \"blurb\",\n",
    "             \"static_usd_rate\",\n",
    "             \"fx_rate\",\n",
    "             \"currency\",\n",
    "             \"current_currency\",\n",
    "             \"pledged\",\n",
    "             \"goal\",\n",
    "             \"profile\",\n",
    "             \"converted_pledged_amount\",\n",
    "             \"slug\"], axis=1)"
   ]
  },
  {
   "cell_type": "code",
   "execution_count": 23,
   "id": "e1ee9913",
   "metadata": {},
   "outputs": [
    {
     "name": "stdout",
     "output_type": "stream",
     "text": [
      "<class 'pandas.core.frame.DataFrame'>\n",
      "Int64Index: 192664 entries, 0 to 209221\n",
      "Data columns (total 25 columns):\n",
      " #   Column                 Non-Null Count   Dtype  \n",
      "---  ------                 --------------   -----  \n",
      " 0   backers_count          192664 non-null  int64  \n",
      " 1   country                192664 non-null  object \n",
      " 2   disable_communication  192664 non-null  bool   \n",
      " 3   id                     192664 non-null  int64  \n",
      " 4   is_starrable           192664 non-null  bool   \n",
      " 5   name                   192664 non-null  object \n",
      " 6   staff_pick             192664 non-null  bool   \n",
      " 7   state                  192664 non-null  int64  \n",
      " 8   usd_pledged            192664 non-null  float64\n",
      " 9   usd_type               192626 non-null  object \n",
      " 10  yr_launched            192664 non-null  int64  \n",
      " 11  mo_launched            192664 non-null  int64  \n",
      " 12  wd_launched            192664 non-null  int64  \n",
      " 13  yr_deadline            192664 non-null  int64  \n",
      " 14  mo_deadline            192664 non-null  int64  \n",
      " 15  wd_deadline            192664 non-null  int64  \n",
      " 16  founding_phase         192664 non-null  int64  \n",
      " 17  phase_before           192664 non-null  int64  \n",
      " 18  main_category          184388 non-null  object \n",
      " 19  subcategory            192664 non-null  object \n",
      " 20  city                   192449 non-null  object \n",
      " 21  region                 192449 non-null  object \n",
      " 22  city_type              192449 non-null  object \n",
      " 23  words_blurb            192664 non-null  int64  \n",
      " 24  goal_usd               192664 non-null  float64\n",
      "dtypes: bool(3), float64(2), int64(12), object(8)\n",
      "memory usage: 34.4+ MB\n"
     ]
    }
   ],
   "source": [
    "df.info()"
   ]
  },
  {
   "cell_type": "code",
   "execution_count": null,
   "id": "ffa28d6f",
   "metadata": {},
   "outputs": [],
   "source": [
    "# Ex id for model; analysis duplicates of id for bus. understand. (compare rows)\n",
    "\n",
    "df.id.nunique()"
   ]
  },
  {
   "cell_type": "markdown",
   "id": "a6becb1a",
   "metadata": {},
   "source": [
    "Final vars am Ende beschreiben"
   ]
  },
  {
   "cell_type": "code",
   "execution_count": 81,
   "id": "c51b3384",
   "metadata": {},
   "outputs": [],
   "source": [
    "# df.to_csv(\"data/data_clean.csv\")\n",
    "#df = pd.read_csv(\"data/data_clean.csv\")"
   ]
  },
  {
   "cell_type": "code",
   "execution_count": null,
   "id": "9e85624d",
   "metadata": {},
   "outputs": [],
   "source": []
  }
 ],
 "metadata": {
  "kernelspec": {
   "display_name": "Python 3",
   "language": "python",
   "name": "python3"
  },
  "language_info": {
   "codemirror_mode": {
    "name": "ipython",
    "version": 3
   },
   "file_extension": ".py",
   "mimetype": "text/x-python",
   "name": "python",
   "nbconvert_exporter": "python",
   "pygments_lexer": "ipython3",
   "version": "3.8.5"
  }
 },
 "nbformat": 4,
 "nbformat_minor": 5
}
