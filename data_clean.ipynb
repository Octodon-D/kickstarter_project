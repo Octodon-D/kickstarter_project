{
 "cells": [
  {
   "cell_type": "markdown",
   "id": "471e12a8",
   "metadata": {},
   "source": [
    "### Importing the Libraries"
   ]
  },
  {
   "cell_type": "markdown",
   "id": "f2275e5d",
   "metadata": {},
   "source": [
    "At first, we will load the libraries, that we will use to conduct the analysis."
   ]
  },
  {
   "cell_type": "code",
   "execution_count": 36,
   "id": "b997295c",
   "metadata": {},
   "outputs": [],
   "source": [
    "# Basic imports\n",
    "import pandas as pd\n",
    "import numpy as np\n",
    "\n",
    "# Visualization libraries\n",
    "import matplotlib.pyplot as plt\n",
    "import seaborn as sns"
   ]
  },
  {
   "cell_type": "markdown",
   "id": "41507502",
   "metadata": {},
   "source": [
    "Now, we will load the data. In total, we have 55 files that need to be loaded and merged. We will do this in the next step."
   ]
  },
  {
   "cell_type": "code",
   "execution_count": 37,
   "id": "41011d68",
   "metadata": {},
   "outputs": [],
   "source": [
    "df = pd.read_csv(\"data/Kickstarter000.csv\")\n",
    "\n",
    "for i in range(1,56):\n",
    "    \n",
    "    num = str(1000 + i)\n",
    "    \n",
    "    dfi = pd.read_csv(f\"data/Kickstarter{num[1:4]}.csv\")\n",
    "    df = pd.concat([df,dfi], axis = 0)\n",
    "\n",
    "df.reset_index()    \n",
    "df.to_csv(\"data/kickstarter_raw.csv\")"
   ]
  },
  {
   "cell_type": "markdown",
   "id": "628deaad",
   "metadata": {},
   "source": [
    "The new data set contains 209222 observations and 37 columns."
   ]
  },
  {
   "cell_type": "code",
   "execution_count": 38,
   "id": "34a40eb0",
   "metadata": {},
   "outputs": [],
   "source": [
    "df = pd.read_csv(\"data/kickstarter_raw.csv\", index_col=0)"
   ]
  },
  {
   "cell_type": "markdown",
   "id": "d4bd4055",
   "metadata": {},
   "source": [
    "### Data Preparation"
   ]
  },
  {
   "cell_type": "markdown",
   "id": "843cffa4",
   "metadata": {},
   "source": [
    "At first we need to get a overview of the data to see where data cleaning is needed."
   ]
  },
  {
   "cell_type": "code",
   "execution_count": 39,
   "id": "edbd2d23",
   "metadata": {},
   "outputs": [
    {
     "name": "stdout",
     "output_type": "stream",
     "text": [
      "<class 'pandas.core.frame.DataFrame'>\n",
      "Int64Index: 209222 entries, 0 to 964\n",
      "Data columns (total 37 columns):\n",
      " #   Column                    Non-Null Count   Dtype  \n",
      "---  ------                    --------------   -----  \n",
      " 0   backers_count             209222 non-null  int64  \n",
      " 1   blurb                     209214 non-null  object \n",
      " 2   category                  209222 non-null  object \n",
      " 3   converted_pledged_amount  209222 non-null  int64  \n",
      " 4   country                   209222 non-null  object \n",
      " 5   created_at                209222 non-null  int64  \n",
      " 6   creator                   209222 non-null  object \n",
      " 7   currency                  209222 non-null  object \n",
      " 8   currency_symbol           209222 non-null  object \n",
      " 9   currency_trailing_code    209222 non-null  bool   \n",
      " 10  current_currency          209222 non-null  object \n",
      " 11  deadline                  209222 non-null  int64  \n",
      " 12  disable_communication     209222 non-null  bool   \n",
      " 13  friends                   300 non-null     object \n",
      " 14  fx_rate                   209222 non-null  float64\n",
      " 15  goal                      209222 non-null  float64\n",
      " 16  id                        209222 non-null  int64  \n",
      " 17  is_backing                300 non-null     object \n",
      " 18  is_starrable              209222 non-null  bool   \n",
      " 19  is_starred                300 non-null     object \n",
      " 20  launched_at               209222 non-null  int64  \n",
      " 21  location                  208996 non-null  object \n",
      " 22  name                      209222 non-null  object \n",
      " 23  permissions               300 non-null     object \n",
      " 24  photo                     209222 non-null  object \n",
      " 25  pledged                   209222 non-null  float64\n",
      " 26  profile                   209222 non-null  object \n",
      " 27  slug                      209222 non-null  object \n",
      " 28  source_url                209222 non-null  object \n",
      " 29  spotlight                 209222 non-null  bool   \n",
      " 30  staff_pick                209222 non-null  bool   \n",
      " 31  state                     209222 non-null  object \n",
      " 32  state_changed_at          209222 non-null  int64  \n",
      " 33  static_usd_rate           209222 non-null  float64\n",
      " 34  urls                      209222 non-null  object \n",
      " 35  usd_pledged               209222 non-null  float64\n",
      " 36  usd_type                  208742 non-null  object \n",
      "dtypes: bool(5), float64(5), int64(7), object(20)\n",
      "memory usage: 53.7+ MB\n"
     ]
    }
   ],
   "source": [
    "df.info()"
   ]
  },
  {
   "cell_type": "markdown",
   "id": "a7bdb948",
   "metadata": {},
   "source": [
    "As we can see from above \"blurb\", \"friends\", \"is_backing\", \"is_starred\", \"location\", \"permissions\" and \"usd_type\" contain missing values. The variables \"friends\", \"is_backing\", \"is_starred\" and \"permissions\" have more than 90% missings. We will delete them from our dataset and take care of of the other variables with missings later. \n",
    "\n",
    "Further variables that can be delete as they do not have any valuable information for our analysis are \" \" ... In the next step, we will delete them together with the variables that have more than 90% missings."
   ]
  },
  {
   "cell_type": "code",
   "execution_count": 40,
   "id": "1ad808a0",
   "metadata": {},
   "outputs": [],
   "source": [
    "# Exclusion of the following columns from our data\n",
    "\n",
    "df = df.drop([\"currency_symbol\",\n",
    "         \"currency_trailing_code\",\n",
    "         \"friends\",\n",
    "         \"is_backing\",\n",
    "         \"is_starred\",\n",
    "         \"permissions\", \n",
    "         \"photo\",\n",
    "         \"source_url\",\n",
    "         \"urls\",\n",
    "         \"state_changed_at\",\n",
    "         \"spotlight\",\n",
    "         \"disable_communication\",\n",
    "         \"is_starrable\"], axis=1)\n",
    "\n"
   ]
  },
  {
   "cell_type": "markdown",
   "id": "e4f68b0d",
   "metadata": {},
   "source": [
    "Further, we can see from above that the type of the columns \"created_at\", \"deadline\" and \"launched_at\" is not correct (integer instead of datetime format). In the next step, we will change that. Further, we will extract year, month and weekday out of the variables \"launched_at\" and \"dealine\" since we will later on explore these in more depth. "
   ]
  },
  {
   "cell_type": "code",
   "execution_count": 41,
   "id": "12e6d465",
   "metadata": {},
   "outputs": [],
   "source": [
    "# convert unix date time to pandas datetime format\n",
    "df['created_at'] = pd.to_datetime(df['created_at'],unit='s')\n",
    "df['deadline'] = pd.to_datetime(df['deadline'],unit='s')\n",
    "df['launched_at'] = pd.to_datetime(df['launched_at'],unit='s')\n",
    "\n",
    "# pick out year, month and weekday out of date of launching\n",
    "df['yr_launched'] = df['launched_at'].dt.year\n",
    "df['mo_launched'] = df['launched_at'].dt.month\n",
    "df['wd_launched'] = df['launched_at'].dt.weekday\n",
    "\n",
    "# pick out year, month and weekday out of date of deadline\n",
    "df['yr_deadline'] = df['deadline'].dt.year\n",
    "df['mo_deadline'] = df['deadline'].dt.month\n",
    "df['wd_deadline'] = df['deadline'].dt.weekday"
   ]
  },
  {
   "cell_type": "markdown",
   "id": "f7ccdb03",
   "metadata": {},
   "source": [
    "For our analysis it could be interesting to investigate the duration between deadline and launched date in more depth. Thus, in the next step, we will calculation the duration between the aformentioned variables."
   ]
  },
  {
   "cell_type": "code",
   "execution_count": 42,
   "id": "a98e1f1a",
   "metadata": {},
   "outputs": [],
   "source": [
    "# calculate duration of founding_phase (time between launching and deadline)\n",
    "founding_phase = df['deadline'] - df['launched_at']\n",
    "df['founding_phase'] = founding_phase.dt.days\n",
    "\n",
    "# calculate duration of phase_before (time between creation and launcing)\n",
    "phase_before = df['launched_at'] - df['created_at']\n",
    "df['phase_before'] = phase_before.dt.days"
   ]
  },
  {
   "cell_type": "markdown",
   "id": "b14d1116",
   "metadata": {},
   "source": [
    "The original variables \"deadline\" and \"launched_at\" are no longer needed. We can delete them."
   ]
  },
  {
   "cell_type": "code",
   "execution_count": 43,
   "id": "e4f70165",
   "metadata": {},
   "outputs": [],
   "source": [
    "# drop columns created_at, deadline, launched_at\n",
    "df = df.drop([\"created_at\", \"deadline\", \"launched_at\"], axis=1)"
   ]
  },
  {
   "cell_type": "markdown",
   "id": "34735645",
   "metadata": {},
   "source": [
    "At next, we will create dummy variables of some categorical variables. Encoding of categorical variables simplifies.... "
   ]
  },
  {
   "cell_type": "markdown",
   "id": "22b72b20",
   "metadata": {},
   "source": [
    "The first variable we would like to encode is \"state\". Contains info about ... and is our target. Before, we encode we will explore this variable in more depth..."
   ]
  },
  {
   "cell_type": "code",
   "execution_count": 44,
   "id": "3ff61c06",
   "metadata": {},
   "outputs": [
    {
     "data": {
      "text/plain": [
       "successful    117465\n",
       "failed         75199\n",
       "canceled        8624\n",
       "live            7311\n",
       "suspended        623\n",
       "Name: state, dtype: int64"
      ]
     },
     "execution_count": 44,
     "metadata": {},
     "output_type": "execute_result"
    }
   ],
   "source": [
    "# Counts\n",
    "df.state.value_counts()"
   ]
  },
  {
   "cell_type": "markdown",
   "id": "204dba68",
   "metadata": {},
   "source": [
    "We can see X levels. Overall most of the observations were successful.... For our research question only X relevant.. So exlusion of other levels....\n",
    "\n",
    "Balanced (more or less)"
   ]
  },
  {
   "cell_type": "code",
   "execution_count": 45,
   "id": "eb4c7daf",
   "metadata": {},
   "outputs": [
    {
     "data": {
      "text/plain": [
       "successful    117465\n",
       "failed         75199\n",
       "Name: state, dtype: int64"
      ]
     },
     "execution_count": 45,
     "metadata": {},
     "output_type": "execute_result"
    }
   ],
   "source": [
    "df = df.query('state in [\"successful\", \"failed\"]')\n",
    "\n",
    "# Prove if it works\n",
    "df.state.value_counts()"
   ]
  },
  {
   "cell_type": "markdown",
   "id": "bd6eb2b1",
   "metadata": {},
   "source": [
    "After dropping rows and colums the data set contains X observations and Y columns"
   ]
  },
  {
   "cell_type": "markdown",
   "id": "bd664c9f",
   "metadata": {},
   "source": [
    "After exploration, we encode state... As well as staff_pick...\n",
    "\n"
   ]
  },
  {
   "cell_type": "code",
   "execution_count": 46,
   "id": "db9b6cbc",
   "metadata": {},
   "outputs": [],
   "source": [
    "# Encoding of the state (target) variable:\n",
    "df['state'] = df['state'].apply(lambda x: 1 if x == 'successful' else 0)\n",
    "\n",
    "# 0 = failed\n",
    "# 1 = sucessful"
   ]
  },
  {
   "cell_type": "code",
   "execution_count": 47,
   "id": "4850e3c3",
   "metadata": {},
   "outputs": [],
   "source": [
    "df['staff_pick'] = df['staff_pick'].apply(lambda x: 1 if x == True else 0)"
   ]
  },
  {
   "cell_type": "markdown",
   "id": "096da34c",
   "metadata": {},
   "source": [
    "Now, let's have a look at the frequency distribution of the individual variables in our data set. For this purpose, we will use histograms."
   ]
  },
  {
   "cell_type": "code",
   "execution_count": 48,
   "id": "3c0e1e29",
   "metadata": {},
   "outputs": [
    {
     "data": {
      "image/png": "[encoded data removed]",
      "text/plain": [
       "<Figure size 1440x1080 with 20 Axes>"
      ]
     },
     "metadata": {
      "needs_background": "light"
     },
     "output_type": "display_data"
    }
   ],
   "source": [
    "df.hist(bins=50, figsize = (20,15));"
   ]
  },
  {
   "cell_type": "markdown",
   "id": "7610e5cd",
   "metadata": {},
   "source": [
    "A first glance on the distribution reveals that the variables \"bakers_Count\"... (--> outliers). We can also see, which vars are categorical. The information from the above printed histograms can be summarised as:\n",
    "- ...\n",
    "- \n"
   ]
  },
  {
   "cell_type": "markdown",
   "id": "143cbb84",
   "metadata": {},
   "source": [
    "As outliers can strongly affect our analysis we exclude... Before we do this we need to create a variable...."
   ]
  },
  {
   "cell_type": "code",
   "execution_count": 49,
   "id": "02b77e7c",
   "metadata": {},
   "outputs": [],
   "source": [
    "df[\"goal_usd\"] = df[\"goal\"]*df[\"static_usd_rate\"]"
   ]
  },
  {
   "cell_type": "code",
   "execution_count": 50,
   "id": "6e8d7567",
   "metadata": {},
   "outputs": [],
   "source": [
    "# get 98.5% quantile (highest 1.5%) of 'phase_before', 'usd_pledged', 'goal_usd'\n",
    "q_hi1  = df[\"phase_before\"].quantile(0.985)\n",
    "q_hi2  = df[\"usd_pledged\"].quantile(0.985)\n",
    "q_hi3  = df[\"goal_usd\"].quantile(0.985)\n",
    "\n",
    "# remove highest 1.5% percent of the data with the 98.5% quantiles\n",
    "df = df[(df[\"phase_before\"] < q_hi1) & (df[\"usd_pledged\"] < q_hi2) & (df[\"goal_usd\"] < q_hi3)]"
   ]
  },
  {
   "cell_type": "markdown",
   "id": "798627b9",
   "metadata": {},
   "source": [
    "\n",
    "Now, we come back to our variables that contain missing values."
   ]
  },
  {
   "cell_type": "code",
   "execution_count": 51,
   "id": "c33b64a7",
   "metadata": {},
   "outputs": [
    {
     "data": {
      "text/plain": [
       "backers_count                 0\n",
       "blurb                         2\n",
       "category                      0\n",
       "converted_pledged_amount      0\n",
       "country                       0\n",
       "creator                       0\n",
       "currency                      0\n",
       "current_currency              0\n",
       "fx_rate                       0\n",
       "goal                          0\n",
       "id                            0\n",
       "location                    215\n",
       "name                          0\n",
       "pledged                       0\n",
       "profile                       0\n",
       "slug                          0\n",
       "staff_pick                    0\n",
       "state                         0\n",
       "static_usd_rate               0\n",
       "usd_pledged                   0\n",
       "usd_type                     37\n",
       "yr_launched                   0\n",
       "mo_launched                   0\n",
       "wd_launched                   0\n",
       "yr_deadline                   0\n",
       "mo_deadline                   0\n",
       "wd_deadline                   0\n",
       "founding_phase                0\n",
       "phase_before                  0\n",
       "goal_usd                      0\n",
       "dtype: int64"
      ]
     },
     "execution_count": 51,
     "metadata": {},
     "output_type": "execute_result"
    }
   ],
   "source": [
    "df.isnull().sum()"
   ]
  },
  {
   "cell_type": "markdown",
   "id": "857918fe",
   "metadata": {},
   "source": [
    "As shown above, the variables city/region/city_type and usd_type contain a relative low proportion of missings. As large dataset, deletion of the rows with missings should not be a problem."
   ]
  },
  {
   "cell_type": "code",
   "execution_count": 52,
   "id": "c1151e24",
   "metadata": {},
   "outputs": [],
   "source": [
    "# Drop rows which contain any NaN value in the selected columns\n",
    "df = df.dropna( how='any',\n",
    "                    subset=['location', 'usd_type', \"blurb\"])"
   ]
  },
  {
   "cell_type": "code",
   "execution_count": 53,
   "id": "59c486e7",
   "metadata": {},
   "outputs": [
    {
     "data": {
      "text/plain": [
       "backers_count               0\n",
       "blurb                       0\n",
       "category                    0\n",
       "converted_pledged_amount    0\n",
       "country                     0\n",
       "creator                     0\n",
       "currency                    0\n",
       "current_currency            0\n",
       "fx_rate                     0\n",
       "goal                        0\n",
       "id                          0\n",
       "location                    0\n",
       "name                        0\n",
       "pledged                     0\n",
       "profile                     0\n",
       "slug                        0\n",
       "staff_pick                  0\n",
       "state                       0\n",
       "static_usd_rate             0\n",
       "usd_pledged                 0\n",
       "usd_type                    0\n",
       "yr_launched                 0\n",
       "mo_launched                 0\n",
       "wd_launched                 0\n",
       "yr_deadline                 0\n",
       "mo_deadline                 0\n",
       "wd_deadline                 0\n",
       "founding_phase              0\n",
       "phase_before                0\n",
       "goal_usd                    0\n",
       "dtype: int64"
      ]
     },
     "execution_count": 53,
     "metadata": {},
     "output_type": "execute_result"
    }
   ],
   "source": [
    "df.isnull().sum()"
   ]
  },
  {
   "cell_type": "markdown",
   "id": "0c72fe3b",
   "metadata": {},
   "source": [
    "Lets have a look at main_category relative large proportion of missings..."
   ]
  },
  {
   "cell_type": "code",
   "execution_count": 54,
   "id": "9377ba81",
   "metadata": {},
   "outputs": [],
   "source": [
    "# Explore"
   ]
  },
  {
   "cell_type": "markdown",
   "id": "2edb6737",
   "metadata": {},
   "source": [
    "Inspection object types... category; text; probably important info -> extraction of content"
   ]
  },
  {
   "cell_type": "code",
   "execution_count": 55,
   "id": "72bba828",
   "metadata": {},
   "outputs": [
    {
     "data": {
      "text/html": [
       "<div>\n",
       "<style scoped>\n",
       "    .dataframe tbody tr th:only-of-type {\n",
       "        vertical-align: middle;\n",
       "    }\n",
       "\n",
       "    .dataframe tbody tr th {\n",
       "        vertical-align: top;\n",
       "    }\n",
       "\n",
       "    .dataframe thead th {\n",
       "        text-align: right;\n",
       "    }\n",
       "</style>\n",
       "<table border=\"1\" class=\"dataframe\">\n",
       "  <thead>\n",
       "    <tr style=\"text-align: right;\">\n",
       "      <th></th>\n",
       "      <th>id</th>\n",
       "      <th>name</th>\n",
       "      <th>slug</th>\n",
       "      <th>position</th>\n",
       "      <th>parent_id</th>\n",
       "      <th>color</th>\n",
       "      <th>urls</th>\n",
       "    </tr>\n",
       "  </thead>\n",
       "  <tbody>\n",
       "    <tr>\n",
       "      <th>0</th>\n",
       "      <td>43</td>\n",
       "      <td>Rock</td>\n",
       "      <td>music/rock</td>\n",
       "      <td>17</td>\n",
       "      <td>14.0</td>\n",
       "      <td>10878931</td>\n",
       "      <td>{'web': {'discover': 'http://www.kickstarter.c...</td>\n",
       "    </tr>\n",
       "    <tr>\n",
       "      <th>1</th>\n",
       "      <td>54</td>\n",
       "      <td>Mixed Media</td>\n",
       "      <td>art/mixed media</td>\n",
       "      <td>6</td>\n",
       "      <td>1.0</td>\n",
       "      <td>16760235</td>\n",
       "      <td>{'web': {'discover': 'http://www.kickstarter.c...</td>\n",
       "    </tr>\n",
       "    <tr>\n",
       "      <th>2</th>\n",
       "      <td>280</td>\n",
       "      <td>Photobooks</td>\n",
       "      <td>photography/photobooks</td>\n",
       "      <td>5</td>\n",
       "      <td>15.0</td>\n",
       "      <td>58341</td>\n",
       "      <td>{'web': {'discover': 'http://www.kickstarter.c...</td>\n",
       "    </tr>\n",
       "    <tr>\n",
       "      <th>3</th>\n",
       "      <td>266</td>\n",
       "      <td>Footwear</td>\n",
       "      <td>fashion/footwear</td>\n",
       "      <td>5</td>\n",
       "      <td>9.0</td>\n",
       "      <td>16752598</td>\n",
       "      <td>{'web': {'discover': 'http://www.kickstarter.c...</td>\n",
       "    </tr>\n",
       "    <tr>\n",
       "      <th>4</th>\n",
       "      <td>51</td>\n",
       "      <td>Software</td>\n",
       "      <td>technology/software</td>\n",
       "      <td>11</td>\n",
       "      <td>16.0</td>\n",
       "      <td>6526716</td>\n",
       "      <td>{'web': {'discover': 'http://www.kickstarter.c...</td>\n",
       "    </tr>\n",
       "    <tr>\n",
       "      <th>5</th>\n",
       "      <td>262</td>\n",
       "      <td>Accessories</td>\n",
       "      <td>fashion/accessories</td>\n",
       "      <td>1</td>\n",
       "      <td>9.0</td>\n",
       "      <td>16752598</td>\n",
       "      <td>{'web': {'discover': 'http://www.kickstarter.c...</td>\n",
       "    </tr>\n",
       "    <tr>\n",
       "      <th>6</th>\n",
       "      <td>48</td>\n",
       "      <td>Nonfiction</td>\n",
       "      <td>publishing/nonfiction</td>\n",
       "      <td>9</td>\n",
       "      <td>18.0</td>\n",
       "      <td>14867664</td>\n",
       "      <td>{'web': {'discover': 'http://www.kickstarter.c...</td>\n",
       "    </tr>\n",
       "    <tr>\n",
       "      <th>7</th>\n",
       "      <td>51</td>\n",
       "      <td>Software</td>\n",
       "      <td>technology/software</td>\n",
       "      <td>11</td>\n",
       "      <td>16.0</td>\n",
       "      <td>6526716</td>\n",
       "      <td>{'web': {'discover': 'http://www.kickstarter.c...</td>\n",
       "    </tr>\n",
       "    <tr>\n",
       "      <th>8</th>\n",
       "      <td>25</td>\n",
       "      <td>Sculpture</td>\n",
       "      <td>art/sculpture</td>\n",
       "      <td>10</td>\n",
       "      <td>1.0</td>\n",
       "      <td>16760235</td>\n",
       "      <td>{'web': {'discover': 'http://www.kickstarter.c...</td>\n",
       "    </tr>\n",
       "    <tr>\n",
       "      <th>9</th>\n",
       "      <td>273</td>\n",
       "      <td>Playing Cards</td>\n",
       "      <td>games/playing cards</td>\n",
       "      <td>4</td>\n",
       "      <td>12.0</td>\n",
       "      <td>51627</td>\n",
       "      <td>{'web': {'discover': 'http://www.kickstarter.c...</td>\n",
       "    </tr>\n",
       "  </tbody>\n",
       "</table>\n",
       "</div>"
      ],
      "text/plain": [
       "    id           name                    slug  position  parent_id     color  \\\n",
       "0   43           Rock              music/rock        17       14.0  10878931   \n",
       "1   54    Mixed Media         art/mixed media         6        1.0  16760235   \n",
       "2  280     Photobooks  photography/photobooks         5       15.0     58341   \n",
       "3  266       Footwear        fashion/footwear         5        9.0  16752598   \n",
       "4   51       Software     technology/software        11       16.0   6526716   \n",
       "5  262    Accessories     fashion/accessories         1        9.0  16752598   \n",
       "6   48     Nonfiction   publishing/nonfiction         9       18.0  14867664   \n",
       "7   51       Software     technology/software        11       16.0   6526716   \n",
       "8   25      Sculpture           art/sculpture        10        1.0  16760235   \n",
       "9  273  Playing Cards     games/playing cards         4       12.0     51627   \n",
       "\n",
       "                                                urls  \n",
       "0  {'web': {'discover': 'http://www.kickstarter.c...  \n",
       "1  {'web': {'discover': 'http://www.kickstarter.c...  \n",
       "2  {'web': {'discover': 'http://www.kickstarter.c...  \n",
       "3  {'web': {'discover': 'http://www.kickstarter.c...  \n",
       "4  {'web': {'discover': 'http://www.kickstarter.c...  \n",
       "5  {'web': {'discover': 'http://www.kickstarter.c...  \n",
       "6  {'web': {'discover': 'http://www.kickstarter.c...  \n",
       "7  {'web': {'discover': 'http://www.kickstarter.c...  \n",
       "8  {'web': {'discover': 'http://www.kickstarter.c...  \n",
       "9  {'web': {'discover': 'http://www.kickstarter.c...  "
      ]
     },
     "execution_count": 55,
     "metadata": {},
     "output_type": "execute_result"
    }
   ],
   "source": [
    "df[\"category_dict\"] = df[\"category\"].apply(eval)\n",
    "df_category = df[\"category_dict\"].apply(pd.Series)\n",
    "df_category.head(10)"
   ]
  },
  {
   "cell_type": "code",
   "execution_count": 56,
   "id": "deeee8d3",
   "metadata": {},
   "outputs": [],
   "source": [
    "df_category[\"main_category\"] = df_category[\"slug\"].str.split(\"/\").str[0]"
   ]
  },
  {
   "cell_type": "code",
   "execution_count": 57,
   "id": "1bbf1fd6",
   "metadata": {},
   "outputs": [
    {
     "data": {
      "text/html": [
       "<div>\n",
       "<style scoped>\n",
       "    .dataframe tbody tr th:only-of-type {\n",
       "        vertical-align: middle;\n",
       "    }\n",
       "\n",
       "    .dataframe tbody tr th {\n",
       "        vertical-align: top;\n",
       "    }\n",
       "\n",
       "    .dataframe thead th {\n",
       "        text-align: right;\n",
       "    }\n",
       "</style>\n",
       "<table border=\"1\" class=\"dataframe\">\n",
       "  <thead>\n",
       "    <tr style=\"text-align: right;\">\n",
       "      <th></th>\n",
       "      <th>id</th>\n",
       "      <th>name</th>\n",
       "      <th>slug</th>\n",
       "      <th>position</th>\n",
       "      <th>parent_id</th>\n",
       "      <th>color</th>\n",
       "      <th>urls</th>\n",
       "      <th>main_category</th>\n",
       "    </tr>\n",
       "  </thead>\n",
       "  <tbody>\n",
       "    <tr>\n",
       "      <th>0</th>\n",
       "      <td>43</td>\n",
       "      <td>Rock</td>\n",
       "      <td>music/rock</td>\n",
       "      <td>17</td>\n",
       "      <td>14.0</td>\n",
       "      <td>10878931</td>\n",
       "      <td>{'web': {'discover': 'http://www.kickstarter.c...</td>\n",
       "      <td>music</td>\n",
       "    </tr>\n",
       "    <tr>\n",
       "      <th>1</th>\n",
       "      <td>54</td>\n",
       "      <td>Mixed Media</td>\n",
       "      <td>art/mixed media</td>\n",
       "      <td>6</td>\n",
       "      <td>1.0</td>\n",
       "      <td>16760235</td>\n",
       "      <td>{'web': {'discover': 'http://www.kickstarter.c...</td>\n",
       "      <td>art</td>\n",
       "    </tr>\n",
       "    <tr>\n",
       "      <th>2</th>\n",
       "      <td>280</td>\n",
       "      <td>Photobooks</td>\n",
       "      <td>photography/photobooks</td>\n",
       "      <td>5</td>\n",
       "      <td>15.0</td>\n",
       "      <td>58341</td>\n",
       "      <td>{'web': {'discover': 'http://www.kickstarter.c...</td>\n",
       "      <td>photography</td>\n",
       "    </tr>\n",
       "    <tr>\n",
       "      <th>3</th>\n",
       "      <td>266</td>\n",
       "      <td>Footwear</td>\n",
       "      <td>fashion/footwear</td>\n",
       "      <td>5</td>\n",
       "      <td>9.0</td>\n",
       "      <td>16752598</td>\n",
       "      <td>{'web': {'discover': 'http://www.kickstarter.c...</td>\n",
       "      <td>fashion</td>\n",
       "    </tr>\n",
       "    <tr>\n",
       "      <th>4</th>\n",
       "      <td>51</td>\n",
       "      <td>Software</td>\n",
       "      <td>technology/software</td>\n",
       "      <td>11</td>\n",
       "      <td>16.0</td>\n",
       "      <td>6526716</td>\n",
       "      <td>{'web': {'discover': 'http://www.kickstarter.c...</td>\n",
       "      <td>technology</td>\n",
       "    </tr>\n",
       "  </tbody>\n",
       "</table>\n",
       "</div>"
      ],
      "text/plain": [
       "    id         name                    slug  position  parent_id     color  \\\n",
       "0   43         Rock              music/rock        17       14.0  10878931   \n",
       "1   54  Mixed Media         art/mixed media         6        1.0  16760235   \n",
       "2  280   Photobooks  photography/photobooks         5       15.0     58341   \n",
       "3  266     Footwear        fashion/footwear         5        9.0  16752598   \n",
       "4   51     Software     technology/software        11       16.0   6526716   \n",
       "\n",
       "                                                urls main_category  \n",
       "0  {'web': {'discover': 'http://www.kickstarter.c...         music  \n",
       "1  {'web': {'discover': 'http://www.kickstarter.c...           art  \n",
       "2  {'web': {'discover': 'http://www.kickstarter.c...   photography  \n",
       "3  {'web': {'discover': 'http://www.kickstarter.c...       fashion  \n",
       "4  {'web': {'discover': 'http://www.kickstarter.c...    technology  "
      ]
     },
     "execution_count": 57,
     "metadata": {},
     "output_type": "execute_result"
    }
   ],
   "source": [
    "df_category.head()"
   ]
  },
  {
   "cell_type": "markdown",
   "id": "6d93c11b",
   "metadata": {},
   "source": [
    "print(df_category.shape)\n",
    "all_categories = df_category[[\"id\", \"name\"]].drop_duplicates(\"name\")\n",
    "all_categories.rename(columns = {\"id\": \"parent_id\"}, inplace = True)\n",
    "#all_categories.head()"
   ]
  },
  {
   "cell_type": "code",
   "execution_count": 58,
   "id": "e926e236",
   "metadata": {},
   "outputs": [],
   "source": [
    "#df_category = df_category.merge( all_categories, how = \"left\", on = \"parent_id\", suffixes = [\"\", \"_parent\"])\n",
    "df[\"main_category\"] = df_category[\"main_category\"] \n",
    "df[\"subcategory\"] = df_category[\"name\"]"
   ]
  },
  {
   "cell_type": "code",
   "execution_count": 74,
   "id": "fa830b4f",
   "metadata": {},
   "outputs": [
    {
     "name": "stdout",
     "output_type": "stream",
     "text": [
      "<class 'pandas.core.frame.DataFrame'>\n",
      "Int64Index: 184113 entries, 0 to 184112\n",
      "Data columns (total 27 columns):\n",
      " #   Column                Non-Null Count   Dtype  \n",
      "---  ------                --------------   -----  \n",
      " 0   backers_count         184113 non-null  int64  \n",
      " 1   country               184113 non-null  object \n",
      " 2   id                    184113 non-null  int64  \n",
      " 3   name                  184113 non-null  object \n",
      " 4   staff_pick            184113 non-null  int64  \n",
      " 5   state                 184113 non-null  int64  \n",
      " 6   usd_pledged           184113 non-null  float64\n",
      " 7   usd_type              184113 non-null  object \n",
      " 8   yr_launched           184113 non-null  int64  \n",
      " 9   mo_launched           184113 non-null  int64  \n",
      " 10  wd_launched           184113 non-null  int64  \n",
      " 11  yr_deadline           184113 non-null  int64  \n",
      " 12  mo_deadline           184113 non-null  int64  \n",
      " 13  wd_deadline           184113 non-null  int64  \n",
      " 14  founding_phase        184113 non-null  int64  \n",
      " 15  phase_before          184113 non-null  int64  \n",
      " 16  goal_usd              184113 non-null  float64\n",
      " 17  main_category         184113 non-null  object \n",
      " 18  subcategory           184113 non-null  object \n",
      " 19  city                  184113 non-null  object \n",
      " 20  region                184113 non-null  object \n",
      " 21  city_type             184113 non-null  object \n",
      " 22  creator_id            184113 non-null  int64  \n",
      " 23  creator_num_projects  184113 non-null  int64  \n",
      " 24  words_blurb           184113 non-null  int64  \n",
      " 25  polarity_blurb        184113 non-null  float64\n",
      " 26  subjectivity_blurb    184113 non-null  float64\n",
      "dtypes: float64(4), int64(15), object(8)\n",
      "memory usage: 39.3+ MB\n"
     ]
    }
   ],
   "source": [
    "df.info()"
   ]
  },
  {
   "cell_type": "markdown",
   "id": "4fb604f3",
   "metadata": {},
   "source": [
    "As we can see Why missings? Main = subcategory.... Thus, we imputate missings with corresponding sub_category values"
   ]
  },
  {
   "cell_type": "code",
   "execution_count": 63,
   "id": "4bb98223",
   "metadata": {},
   "outputs": [],
   "source": [
    "# Drop \"category_dict\" column\n",
    "df = df.drop([\"category\", \"category_dict\"], axis=1)"
   ]
  },
  {
   "cell_type": "code",
   "execution_count": 64,
   "id": "9abaadaa",
   "metadata": {},
   "outputs": [],
   "source": [
    "# Extract name, state and type from location var...\n",
    "# Rename name var into \n",
    "# Drop location\n",
    "\n",
    "df[\"location\"].fillna(\"{}\", inplace = True)\n",
    "\n",
    "df[\"location\"] = df[\"location\"].str.replace(',\"is_root\":false', \"\")\n",
    "df[\"location\"] = df[\"location\"].str.replace(',\"is_root\":true', \"\" )\n",
    "df[\"location\"] = df[\"location\"].str.replace('null', \"{}\" )\n",
    "\n",
    "df[\"location_dict\"] = df[\"location\"].apply(eval)\n",
    "df_location = df[\"location_dict\"].apply(pd.Series)\n",
    "df_location.head()\n",
    "\n",
    "df[\"city\"] = df_location[\"name\"]\n",
    "df[\"region\"] = df_location[\"state\"]\n",
    "df[\"city_type\"] = df_location[\"type\"]"
   ]
  },
  {
   "cell_type": "code",
   "execution_count": 65,
   "id": "b24c35ab",
   "metadata": {},
   "outputs": [],
   "source": [
    "# Drop \"location\" column\n",
    "df = df.drop([\"location\", \"location_dict\"], axis=1)"
   ]
  },
  {
   "cell_type": "code",
   "execution_count": 66,
   "id": "f693c9fb",
   "metadata": {},
   "outputs": [],
   "source": [
    "df[\"creator_id\"] = df[\"creator\"].str[6:22]\n",
    "df[\"creator_id\"] = df[\"creator_id\"].str.replace('\"', \"\")\n",
    "df[\"creator_id\"] = df[\"creator_id\"].str.split(\",\").str[0]\n",
    "df[\"creator_id\"] = df[\"creator_id\"].astype(int)\n",
    "\n",
    "df_creator = df[[\"creator_id\",\"state\"]].groupby(\"creator_id\").count()\n",
    "df_creator.rename(columns = {\"state\": \"creator_num_projects\"}, inplace = True)\n",
    "df_creator.reset_index()\n",
    "\n",
    "df = df.merge( df_creator, how = \"left\", on = \"creator_id\")"
   ]
  },
  {
   "cell_type": "markdown",
   "id": "19a717fa",
   "metadata": {},
   "source": [
    "Extract number of words: sentimental analysis..."
   ]
  },
  {
   "cell_type": "code",
   "execution_count": 67,
   "id": "f671058a",
   "metadata": {},
   "outputs": [],
   "source": [
    "# Extract number of words\n",
    "df['words_blurb'] = df['blurb'].apply(lambda x: len(str(x).split()))"
   ]
  },
  {
   "cell_type": "code",
   "execution_count": 68,
   "id": "1693f7a3",
   "metadata": {},
   "outputs": [
    {
     "name": "stdout",
     "output_type": "stream",
     "text": [
      "Requirement already satisfied: TextBlob in ./.venv/lib/python3.8/site-packages (0.15.3)\n",
      "Requirement already satisfied: nltk>=3.1 in ./.venv/lib/python3.8/site-packages (from TextBlob) (3.6.2)\n",
      "Requirement already satisfied: regex in ./.venv/lib/python3.8/site-packages (from nltk>=3.1->TextBlob) (2021.4.4)\n",
      "Requirement already satisfied: tqdm in ./.venv/lib/python3.8/site-packages (from nltk>=3.1->TextBlob) (4.56.0)\n",
      "Requirement already satisfied: joblib in ./.venv/lib/python3.8/site-packages (from nltk>=3.1->TextBlob) (1.0.0)\n",
      "Requirement already satisfied: click in ./.venv/lib/python3.8/site-packages (from nltk>=3.1->TextBlob) (7.1.2)\n",
      "\u001b[33mWARNING: You are using pip version 21.1.2; however, version 21.1.3 is available.\n",
      "You should consider upgrading via the '/Users/juanperez/neuefische/kickstarter_project/.venv/bin/python -m pip install --upgrade pip' command.\u001b[0m\n"
     ]
    }
   ],
   "source": [
    "#!pip install TextBlob\n",
    "\n",
    "from textblob import TextBlob"
   ]
  },
  {
   "cell_type": "code",
   "execution_count": 69,
   "id": "33d25b57",
   "metadata": {},
   "outputs": [
    {
     "name": "stdout",
     "output_type": "stream",
     "text": [
      "Professional high quality Film Holders,  CNCed aluminum body, available in 4x5\", 8x10\"and 11x14\". Proudly 100% Made in Sassuolo, Italy\n"
     ]
    },
    {
     "data": {
      "text/plain": [
       "Sentiment(polarity=0.365, subjectivity=0.51)"
      ]
     },
     "execution_count": 69,
     "metadata": {},
     "output_type": "execute_result"
    }
   ],
   "source": [
    "a = TextBlob(df.loc[1000, \"blurb\"])\n",
    "print(df.loc[1000, \"blurb\"])\n",
    "a.sentiment"
   ]
  },
  {
   "cell_type": "code",
   "execution_count": 70,
   "id": "5e28a136",
   "metadata": {},
   "outputs": [],
   "source": [
    "df['polarity_blurb'] = df['blurb'].apply(lambda x: TextBlob(str(x)).sentiment[0])\n",
    "df['subjectivity_blurb'] = df['blurb'].apply(lambda x: TextBlob(str(x)).sentiment[1])"
   ]
  },
  {
   "cell_type": "code",
   "execution_count": 71,
   "id": "7030040b",
   "metadata": {},
   "outputs": [],
   "source": [
    "df = df.drop([\"creator\",\n",
    "             \"blurb\",\n",
    "             \"static_usd_rate\",\n",
    "             \"fx_rate\",\n",
    "             \"currency\",\n",
    "             \"current_currency\",\n",
    "             \"pledged\",\n",
    "             \"goal\",\n",
    "             \"profile\",\n",
    "             \"converted_pledged_amount\",\n",
    "             \"slug\"], axis=1)"
   ]
  },
  {
   "cell_type": "code",
   "execution_count": 72,
   "id": "6961a1fd",
   "metadata": {},
   "outputs": [],
   "source": [
    "df.to_csv(\"data/data_clean.csv\")\n",
    "df = pd.read_csv(\"data/data_clean.csv\", index_col=0)"
   ]
  },
  {
   "cell_type": "markdown",
   "id": "393aaee5",
   "metadata": {},
   "source": [
    "# Fehleranalyse (research outlier)\n",
    "# usd_type keep? delete? (feature importance)"
   ]
  },
  {
   "cell_type": "code",
   "execution_count": 73,
   "id": "8beb957e",
   "metadata": {},
   "outputs": [
    {
     "name": "stdout",
     "output_type": "stream",
     "text": [
      "<class 'pandas.core.frame.DataFrame'>\n",
      "Int64Index: 184113 entries, 0 to 184112\n",
      "Data columns (total 27 columns):\n",
      " #   Column                Non-Null Count   Dtype  \n",
      "---  ------                --------------   -----  \n",
      " 0   backers_count         184113 non-null  int64  \n",
      " 1   country               184113 non-null  object \n",
      " 2   id                    184113 non-null  int64  \n",
      " 3   name                  184113 non-null  object \n",
      " 4   staff_pick            184113 non-null  int64  \n",
      " 5   state                 184113 non-null  int64  \n",
      " 6   usd_pledged           184113 non-null  float64\n",
      " 7   usd_type              184113 non-null  object \n",
      " 8   yr_launched           184113 non-null  int64  \n",
      " 9   mo_launched           184113 non-null  int64  \n",
      " 10  wd_launched           184113 non-null  int64  \n",
      " 11  yr_deadline           184113 non-null  int64  \n",
      " 12  mo_deadline           184113 non-null  int64  \n",
      " 13  wd_deadline           184113 non-null  int64  \n",
      " 14  founding_phase        184113 non-null  int64  \n",
      " 15  phase_before          184113 non-null  int64  \n",
      " 16  goal_usd              184113 non-null  float64\n",
      " 17  main_category         184113 non-null  object \n",
      " 18  subcategory           184113 non-null  object \n",
      " 19  city                  184113 non-null  object \n",
      " 20  region                184113 non-null  object \n",
      " 21  city_type             184113 non-null  object \n",
      " 22  creator_id            184113 non-null  int64  \n",
      " 23  creator_num_projects  184113 non-null  int64  \n",
      " 24  words_blurb           184113 non-null  int64  \n",
      " 25  polarity_blurb        184113 non-null  float64\n",
      " 26  subjectivity_blurb    184113 non-null  float64\n",
      "dtypes: float64(4), int64(15), object(8)\n",
      "memory usage: 39.3+ MB\n"
     ]
    }
   ],
   "source": [
    "df.info()"
   ]
  },
  {
   "cell_type": "markdown",
   "id": "36aa4a62",
   "metadata": {},
   "source": [
    "Final data set... --> Describe"
   ]
  }
 ],
 "metadata": {
  "kernelspec": {
   "display_name": "Python 3",
   "language": "python",
   "name": "python3"
  },
  "language_info": {
   "codemirror_mode": {
    "name": "ipython",
    "version": 3
   },
   "file_extension": ".py",
   "mimetype": "text/x-python",
   "name": "python",
   "nbconvert_exporter": "python",
   "pygments_lexer": "ipython3",
   "version": "3.8.5"
  }
 },
 "nbformat": 4,
 "nbformat_minor": 5
}
