{
 "cells": [
  {
   "cell_type": "markdown",
   "id": "1b0910fc",
   "metadata": {},
   "source": [
    "# Fitting the model"
   ]
  },
  {
   "cell_type": "markdown",
   "id": "19558b24",
   "metadata": {},
   "source": [
    "## Data Preprocessing"
   ]
  },
  {
   "cell_type": "markdown",
   "id": "7d760583",
   "metadata": {},
   "source": [
    "First we need to import the libraries and the data."
   ]
  },
  {
   "cell_type": "code",
   "execution_count": 38,
   "id": "6be18fe3",
   "metadata": {},
   "outputs": [],
   "source": [
    "import numpy as np\n",
    "import pandas as pd\n",
    "import warnings\n",
    "import matplotlib.pyplot as plt\n",
    "import seaborn as sns\n",
    "\n",
    "from sklearn.pipeline import Pipeline\n",
    "from sklearn.compose import ColumnTransformer\n",
    "from sklearn.preprocessing import OneHotEncoder, StandardScaler\n",
    "from sklearn.impute import SimpleImputer\n",
    "from sklearn.model_selection import train_test_split\n",
    "from sklearn.model_selection import GridSearchCV, RandomizedSearchCV\n",
    "from sklearn.model_selection import cross_val_predict, cross_val_score, cross_validate\n",
    "from sklearn.metrics import roc_curve, confusion_matrix, accuracy_score, recall_score, precision_score\n",
    "\n",
    "from sklearn.linear_model import LogisticRegression\n",
    "\n",
    "# Set random seed \n",
    "RSEED = 42\n",
    "warnings.filterwarnings(\"ignore\")"
   ]
  },
  {
   "cell_type": "code",
   "execution_count": 39,
   "id": "2e3f9cfd",
   "metadata": {},
   "outputs": [
    {
     "data": {
      "text/html": [
       "<div>\n",
       "<style scoped>\n",
       "    .dataframe tbody tr th:only-of-type {\n",
       "        vertical-align: middle;\n",
       "    }\n",
       "\n",
       "    .dataframe tbody tr th {\n",
       "        vertical-align: top;\n",
       "    }\n",
       "\n",
       "    .dataframe thead th {\n",
       "        text-align: right;\n",
       "    }\n",
       "</style>\n",
       "<table border=\"1\" class=\"dataframe\">\n",
       "  <thead>\n",
       "    <tr style=\"text-align: right;\">\n",
       "      <th></th>\n",
       "      <th>backers_count</th>\n",
       "      <th>country</th>\n",
       "      <th>id</th>\n",
       "      <th>name</th>\n",
       "      <th>staff_pick</th>\n",
       "      <th>state</th>\n",
       "      <th>usd_pledged</th>\n",
       "      <th>usd_type</th>\n",
       "      <th>yr_launched</th>\n",
       "      <th>mo_launched</th>\n",
       "      <th>...</th>\n",
       "      <th>main_category</th>\n",
       "      <th>subcategory</th>\n",
       "      <th>city</th>\n",
       "      <th>region</th>\n",
       "      <th>city_type</th>\n",
       "      <th>creator_id</th>\n",
       "      <th>creator_num_projects</th>\n",
       "      <th>words_blurb</th>\n",
       "      <th>polarity_blurb</th>\n",
       "      <th>subjectivity_blurb</th>\n",
       "    </tr>\n",
       "  </thead>\n",
       "  <tbody>\n",
       "    <tr>\n",
       "      <th>0</th>\n",
       "      <td>21</td>\n",
       "      <td>US</td>\n",
       "      <td>287514992</td>\n",
       "      <td>New Final Round Album</td>\n",
       "      <td>0</td>\n",
       "      <td>1</td>\n",
       "      <td>802.00000</td>\n",
       "      <td>international</td>\n",
       "      <td>2013</td>\n",
       "      <td>12</td>\n",
       "      <td>...</td>\n",
       "      <td>music</td>\n",
       "      <td>Rock</td>\n",
       "      <td>Chicago</td>\n",
       "      <td>IL</td>\n",
       "      <td>Town</td>\n",
       "      <td>1495925645</td>\n",
       "      <td>1</td>\n",
       "      <td>26</td>\n",
       "      <td>0.178788</td>\n",
       "      <td>0.518182</td>\n",
       "    </tr>\n",
       "    <tr>\n",
       "      <th>1</th>\n",
       "      <td>97</td>\n",
       "      <td>US</td>\n",
       "      <td>385129759</td>\n",
       "      <td>Princess Pals Enamel Pin Series</td>\n",
       "      <td>0</td>\n",
       "      <td>1</td>\n",
       "      <td>2259.00000</td>\n",
       "      <td>international</td>\n",
       "      <td>2019</td>\n",
       "      <td>2</td>\n",
       "      <td>...</td>\n",
       "      <td>art</td>\n",
       "      <td>Mixed Media</td>\n",
       "      <td>Sacramento</td>\n",
       "      <td>CA</td>\n",
       "      <td>Town</td>\n",
       "      <td>1175589980</td>\n",
       "      <td>4</td>\n",
       "      <td>9</td>\n",
       "      <td>0.625000</td>\n",
       "      <td>1.000000</td>\n",
       "    </tr>\n",
       "    <tr>\n",
       "      <th>2</th>\n",
       "      <td>88</td>\n",
       "      <td>US</td>\n",
       "      <td>681033598</td>\n",
       "      <td>Their Life Through Their Lens-the Amish and Me...</td>\n",
       "      <td>1</td>\n",
       "      <td>1</td>\n",
       "      <td>29638.00000</td>\n",
       "      <td>international</td>\n",
       "      <td>2016</td>\n",
       "      <td>11</td>\n",
       "      <td>...</td>\n",
       "      <td>photography</td>\n",
       "      <td>Photobooks</td>\n",
       "      <td>Columbus</td>\n",
       "      <td>OH</td>\n",
       "      <td>Town</td>\n",
       "      <td>1196856269</td>\n",
       "      <td>2</td>\n",
       "      <td>25</td>\n",
       "      <td>0.225000</td>\n",
       "      <td>0.366667</td>\n",
       "    </tr>\n",
       "    <tr>\n",
       "      <th>3</th>\n",
       "      <td>193</td>\n",
       "      <td>IT</td>\n",
       "      <td>1031782682</td>\n",
       "      <td>WAO: THE ECO EFFECT SHOES</td>\n",
       "      <td>0</td>\n",
       "      <td>1</td>\n",
       "      <td>49075.15252</td>\n",
       "      <td>international</td>\n",
       "      <td>2018</td>\n",
       "      <td>10</td>\n",
       "      <td>...</td>\n",
       "      <td>fashion</td>\n",
       "      <td>Footwear</td>\n",
       "      <td>Venice</td>\n",
       "      <td>Veneto</td>\n",
       "      <td>Town</td>\n",
       "      <td>1569700626</td>\n",
       "      <td>2</td>\n",
       "      <td>13</td>\n",
       "      <td>0.000000</td>\n",
       "      <td>0.100000</td>\n",
       "    </tr>\n",
       "    <tr>\n",
       "      <th>4</th>\n",
       "      <td>20</td>\n",
       "      <td>US</td>\n",
       "      <td>904085819</td>\n",
       "      <td>Apple Watch Development Course</td>\n",
       "      <td>0</td>\n",
       "      <td>0</td>\n",
       "      <td>549.00000</td>\n",
       "      <td>domestic</td>\n",
       "      <td>2015</td>\n",
       "      <td>3</td>\n",
       "      <td>...</td>\n",
       "      <td>technology</td>\n",
       "      <td>Software</td>\n",
       "      <td>Redmond</td>\n",
       "      <td>WA</td>\n",
       "      <td>Town</td>\n",
       "      <td>1870845385</td>\n",
       "      <td>1</td>\n",
       "      <td>22</td>\n",
       "      <td>0.156250</td>\n",
       "      <td>0.400000</td>\n",
       "    </tr>\n",
       "  </tbody>\n",
       "</table>\n",
       "<p>5 rows × 27 columns</p>\n",
       "</div>"
      ],
      "text/plain": [
       "   backers_count country          id  \\\n",
       "0             21      US   287514992   \n",
       "1             97      US   385129759   \n",
       "2             88      US   681033598   \n",
       "3            193      IT  1031782682   \n",
       "4             20      US   904085819   \n",
       "\n",
       "                                                name  staff_pick  state  \\\n",
       "0                              New Final Round Album           0      1   \n",
       "1                    Princess Pals Enamel Pin Series           0      1   \n",
       "2  Their Life Through Their Lens-the Amish and Me...           1      1   \n",
       "3                          WAO: THE ECO EFFECT SHOES           0      1   \n",
       "4                     Apple Watch Development Course           0      0   \n",
       "\n",
       "   usd_pledged       usd_type  yr_launched  mo_launched  ...  main_category  \\\n",
       "0    802.00000  international         2013           12  ...          music   \n",
       "1   2259.00000  international         2019            2  ...            art   \n",
       "2  29638.00000  international         2016           11  ...    photography   \n",
       "3  49075.15252  international         2018           10  ...        fashion   \n",
       "4    549.00000       domestic         2015            3  ...     technology   \n",
       "\n",
       "   subcategory        city  region  city_type  creator_id  \\\n",
       "0         Rock     Chicago      IL       Town  1495925645   \n",
       "1  Mixed Media  Sacramento      CA       Town  1175589980   \n",
       "2   Photobooks    Columbus      OH       Town  1196856269   \n",
       "3     Footwear      Venice  Veneto       Town  1569700626   \n",
       "4     Software     Redmond      WA       Town  1870845385   \n",
       "\n",
       "   creator_num_projects words_blurb polarity_blurb subjectivity_blurb  \n",
       "0                     1          26       0.178788           0.518182  \n",
       "1                     4           9       0.625000           1.000000  \n",
       "2                     2          25       0.225000           0.366667  \n",
       "3                     2          13       0.000000           0.100000  \n",
       "4                     1          22       0.156250           0.400000  \n",
       "\n",
       "[5 rows x 27 columns]"
      ]
     },
     "execution_count": 39,
     "metadata": {},
     "output_type": "execute_result"
    }
   ],
   "source": [
    "df = pd.read_csv('data/data_clean.csv', index_col = 0)\n",
    "df.head()"
   ]
  },
  {
   "cell_type": "code",
   "execution_count": 40,
   "id": "9d55231b",
   "metadata": {},
   "outputs": [
    {
     "name": "stdout",
     "output_type": "stream",
     "text": [
      "<class 'pandas.core.frame.DataFrame'>\n",
      "Int64Index: 184113 entries, 0 to 184112\n",
      "Data columns (total 27 columns):\n",
      " #   Column                Non-Null Count   Dtype  \n",
      "---  ------                --------------   -----  \n",
      " 0   backers_count         184113 non-null  int64  \n",
      " 1   country               184113 non-null  object \n",
      " 2   id                    184113 non-null  int64  \n",
      " 3   name                  184113 non-null  object \n",
      " 4   staff_pick            184113 non-null  int64  \n",
      " 5   state                 184113 non-null  int64  \n",
      " 6   usd_pledged           184113 non-null  float64\n",
      " 7   usd_type              184113 non-null  object \n",
      " 8   yr_launched           184113 non-null  int64  \n",
      " 9   mo_launched           184113 non-null  int64  \n",
      " 10  wd_launched           184113 non-null  int64  \n",
      " 11  yr_deadline           184113 non-null  int64  \n",
      " 12  mo_deadline           184113 non-null  int64  \n",
      " 13  wd_deadline           184113 non-null  int64  \n",
      " 14  founding_phase        184113 non-null  int64  \n",
      " 15  phase_before          184113 non-null  int64  \n",
      " 16  goal_usd              184113 non-null  float64\n",
      " 17  main_category         184113 non-null  object \n",
      " 18  subcategory           184113 non-null  object \n",
      " 19  city                  184113 non-null  object \n",
      " 20  region                184113 non-null  object \n",
      " 21  city_type             184113 non-null  object \n",
      " 22  creator_id            184113 non-null  int64  \n",
      " 23  creator_num_projects  184113 non-null  int64  \n",
      " 24  words_blurb           184113 non-null  int64  \n",
      " 25  polarity_blurb        184113 non-null  float64\n",
      " 26  subjectivity_blurb    184113 non-null  float64\n",
      "dtypes: float64(4), int64(15), object(8)\n",
      "memory usage: 39.3+ MB\n"
     ]
    }
   ],
   "source": [
    "df.info()"
   ]
  },
  {
   "cell_type": "markdown",
   "id": "49c0a947",
   "metadata": {},
   "source": [
    "Let us delete all the variables that are not going to be useful in our model:\n",
    "+ **\"id\", \"creator_id\", \"name\"**: are not interesting to make a prediction\n",
    "+ **\"disable_communication\", \"is starrable\"**: only False\n",
    "+ **\"city\", \"region\"**: these two variables will create too many columns in the One Hot encoding process. We keep \"country\"\n",
    "+ **\"yr_deadline\",\"mo_deadline\", \"wd_deadline\"**: these variables are hihgly correlated with the launching date and \"funding_phase\""
   ]
  },
  {
   "cell_type": "code",
   "execution_count": 41,
   "id": "097db7ce",
   "metadata": {},
   "outputs": [],
   "source": [
    "df.dropna(\n",
    "    axis=0,\n",
    "    how='any',\n",
    "    thresh=None,\n",
    "    subset=None,\n",
    "    inplace=True\n",
    ")"
   ]
  },
  {
   "cell_type": "code",
   "execution_count": 42,
   "id": "4683f362",
   "metadata": {},
   "outputs": [
    {
     "name": "stdout",
     "output_type": "stream",
     "text": [
      "<class 'pandas.core.frame.DataFrame'>\n",
      "Int64Index: 184113 entries, 0 to 184112\n",
      "Data columns (total 18 columns):\n",
      " #   Column                Non-Null Count   Dtype  \n",
      "---  ------                --------------   -----  \n",
      " 0   backers_count         184113 non-null  int64  \n",
      " 1   country               184113 non-null  object \n",
      " 2   staff_pick            184113 non-null  int64  \n",
      " 3   state                 184113 non-null  int64  \n",
      " 4   usd_pledged           184113 non-null  float64\n",
      " 5   usd_type              184113 non-null  object \n",
      " 6   yr_launched           184113 non-null  int64  \n",
      " 7   mo_launched           184113 non-null  int64  \n",
      " 8   wd_launched           184113 non-null  int64  \n",
      " 9   founding_phase        184113 non-null  int64  \n",
      " 10  phase_before          184113 non-null  int64  \n",
      " 11  goal_usd              184113 non-null  float64\n",
      " 12  main_category         184113 non-null  object \n",
      " 13  city_type             184113 non-null  object \n",
      " 14  creator_num_projects  184113 non-null  int64  \n",
      " 15  words_blurb           184113 non-null  int64  \n",
      " 16  polarity_blurb        184113 non-null  float64\n",
      " 17  subjectivity_blurb    184113 non-null  float64\n",
      "dtypes: float64(4), int64(10), object(4)\n",
      "memory usage: 26.7+ MB\n"
     ]
    }
   ],
   "source": [
    "df.drop(['id', 'name', 'yr_deadline',\"mo_deadline\", \"wd_deadline\", \"city\", \"region\",\"subcategory\",\"creator_id\"], axis=1, inplace=True)  \n",
    "df.info()"
   ]
  },
  {
   "cell_type": "markdown",
   "id": "9429c1be",
   "metadata": {},
   "source": [
    "We split the variables in Categorical and Numerical variables."
   ]
  },
  {
   "cell_type": "code",
   "execution_count": 43,
   "id": "a291c056",
   "metadata": {},
   "outputs": [],
   "source": [
    "cat_features = list(df.columns[df.dtypes==object])\n",
    "\n",
    "num_features = list(df.columns[df.dtypes!=object])\n",
    "\n",
    "num_features.remove('usd_pledged')\n",
    "num_features.remove(\"backers_count\")\n",
    "num_features.remove(\"state\")"
   ]
  },
  {
   "cell_type": "markdown",
   "id": "7b5204d6",
   "metadata": {},
   "source": [
    " We also split the target of the data and then into Train and Test."
   ]
  },
  {
   "cell_type": "code",
   "execution_count": 44,
   "id": "fd2cdbfb",
   "metadata": {},
   "outputs": [
    {
     "name": "stdout",
     "output_type": "stream",
     "text": [
      "We have 184113 observations in our dataset and 15 features\n",
      "Our target vector has also 184113 values\n"
     ]
    }
   ],
   "source": [
    "# Define predictors and target variable\n",
    "\n",
    "X = df.drop(['usd_pledged', \"backers_count\", \"state\"], axis=1)\n",
    "y = df['state']\n",
    "\n",
    "print(f\"We have {X.shape[0]} observations in our dataset and {X.shape[1]} features\")\n",
    "print(f\"Our target vector has also {y.shape[0]} values\")"
   ]
  },
  {
   "cell_type": "code",
   "execution_count": 45,
   "id": "2f82fd98",
   "metadata": {},
   "outputs": [],
   "source": [
    "X_train, X_test, y_train, y_test = train_test_split(X, y, test_size=0.2, random_state=RSEED)"
   ]
  },
  {
   "cell_type": "markdown",
   "id": "7326aab4",
   "metadata": {},
   "source": [
    "## First model"
   ]
  },
  {
   "cell_type": "markdown",
   "id": "ff099e0f",
   "metadata": {},
   "source": [
    "We need to set a reference in order to compare how good our model is. We will use the *Logistic Regression* for this purpose. But first we need to convert the categorical variables into numerical with a *OneHotEconde* and we will also scale the data. "
   ]
  },
  {
   "cell_type": "code",
   "execution_count": 46,
   "id": "f7e284a9",
   "metadata": {},
   "outputs": [],
   "source": [
    "num_pipeline = Pipeline([\n",
    "    ('std_scaler', StandardScaler())\n",
    "])\n",
    "\n",
    "# Pipeline for categorical features \n",
    "cat_pipeline = Pipeline([\n",
    "    ('imputer_cat', SimpleImputer(strategy='constant', fill_value='missing')),\n",
    "    ('1hot', OneHotEncoder(handle_unknown='ignore'))\n",
    "])"
   ]
  },
  {
   "cell_type": "code",
   "execution_count": 47,
   "id": "1073b7f7",
   "metadata": {},
   "outputs": [],
   "source": [
    "preprocessor = ColumnTransformer([\n",
    "    ('num', num_pipeline, num_features),\n",
    "    ('cat', cat_pipeline, cat_features)\n",
    "])"
   ]
  },
  {
   "cell_type": "code",
   "execution_count": 48,
   "id": "3fc3bf24",
   "metadata": {},
   "outputs": [],
   "source": [
    "pipe_logreg = Pipeline([\n",
    "    ('preprocessor', preprocessor),\n",
    "    ('logreg', LogisticRegression(max_iter=1000))\n",
    "])"
   ]
  },
  {
   "cell_type": "code",
   "execution_count": 49,
   "id": "11732a18",
   "metadata": {},
   "outputs": [],
   "source": [
    "y_train_predicted = cross_val_predict(pipe_logreg, X_train, y_train, cv=5)"
   ]
  },
  {
   "cell_type": "code",
   "execution_count": 50,
   "id": "d3c065c9",
   "metadata": {},
   "outputs": [],
   "source": [
    "def print_scores(y_true, y_predicted):\n",
    "# This function prints out the scores and the confussion matrix\n",
    "\n",
    "    print('Cross validation scores:')\n",
    "    print('-------------------------')\n",
    "    print(\"Accuracy: {:.2f}\".format(accuracy_score(y_true, y_predicted)))\n",
    "    print(\"Recall: {:.2f}\".format(recall_score(y_true, y_predicted)))\n",
    "    print(\"Precision: {:.2f}\".format(precision_score(y_true, y_predicted)))\n",
    "\n",
    "    cm = confusion_matrix(y_true, y_predicted)\n",
    "    print(\"\")\n",
    "    print(\"Confusion matrix:\")\n",
    "    print('-------------------------')\n",
    "    print(cm)"
   ]
  },
  {
   "cell_type": "code",
   "execution_count": 51,
   "id": "82415024",
   "metadata": {},
   "outputs": [
    {
     "name": "stdout",
     "output_type": "stream",
     "text": [
      "Cross validation scores:\n",
      "-------------------------\n",
      "Accuracy: 0.75\n",
      "Recall: 0.86\n",
      "Precision: 0.77\n",
      "\n",
      "Confusion matrix:\n",
      "-------------------------\n",
      "[[33202 23863]\n",
      " [12273 77952]]\n"
     ]
    }
   ],
   "source": [
    "print_scores(y_train, y_train_predicted)"
   ]
  },
  {
   "cell_type": "code",
   "execution_count": 52,
   "id": "6c96ed94",
   "metadata": {},
   "outputs": [],
   "source": [
    "pipe_logreg.fit(X_train, y_train)\n",
    "y_pred = pipe_logreg.predict(X_test)"
   ]
  },
  {
   "cell_type": "code",
   "execution_count": 53,
   "id": "4259da58",
   "metadata": {},
   "outputs": [
    {
     "name": "stdout",
     "output_type": "stream",
     "text": [
      "Cross validation scores:\n",
      "-------------------------\n",
      "Accuracy: 0.75\n",
      "Recall: 0.86\n",
      "Precision: 0.76\n",
      "\n",
      "Confusion matrix:\n",
      "-------------------------\n",
      "[[ 8254  6051]\n",
      " [ 3148 19370]]\n"
     ]
    }
   ],
   "source": [
    "print_scores(y_test, y_pred)"
   ]
  },
  {
   "cell_type": "markdown",
   "id": "5a2de731",
   "metadata": {},
   "source": [
    "## Model Benchmark"
   ]
  },
  {
   "cell_type": "markdown",
   "id": "6c6ad2ef",
   "metadata": {},
   "source": [
    "With a reference we can now try different models and see how the score, we will use the accuracy as metric."
   ]
  },
  {
   "cell_type": "code",
   "execution_count": 54,
   "id": "63142ccf",
   "metadata": {},
   "outputs": [],
   "source": [
    "from sklearn.tree import DecisionTreeClassifier\n",
    "from sklearn.ensemble import RandomForestClassifier\n",
    "from sklearn.linear_model import RidgeClassifier\n",
    "from sklearn.ensemble import AdaBoostClassifier\n",
    "import xgboost as xgb"
   ]
  },
  {
   "cell_type": "code",
   "execution_count": 55,
   "id": "3f35b325",
   "metadata": {},
   "outputs": [
    {
     "name": "stdout",
     "output_type": "stream",
     "text": [
      "Model DecisionTree done!\n",
      "Model RandomForest done!\n",
      "Model AdaBoost done!\n",
      "Model XGBoost done!\n",
      "Model RidgeRegression done!\n",
      "Model LogisticRegression done!\n"
     ]
    }
   ],
   "source": [
    "models = [DecisionTreeClassifier(max_depth=6, random_state=RSEED ),\n",
    "        RandomForestClassifier(n_estimators=200,max_depth=6 , random_state=RSEED, n_jobs = -1), \n",
    "        AdaBoostClassifier(random_state=RSEED),        \n",
    "        xgb.XGBClassifier(random_state=RSEED, n_jobs = -1, eval_metric = \"error\"),\n",
    "        RidgeClassifier(),\n",
    "        LogisticRegression(max_iter=1000)]\n",
    "\n",
    "model_name = [\"DecisionTree\", \"RandomForest\",\"AdaBoost\",\"XGBoost\", \"RidgeRegression\", \"LogisticRegression\"]\n",
    "accuracy = []\n",
    "recall = []\n",
    "precision = []\n",
    "accuracy_test = []\n",
    "recall_test = []\n",
    "precision_test = []\n",
    "\n",
    "X_train_prep = preprocessor.fit_transform(X_train)\n",
    "X_test_prep = preprocessor.transform(X_test)\n",
    "\n",
    "k = len(models)\n",
    "\n",
    "for i in range(k):\n",
    "    model = models[i].fit(X_train_prep, y_train)  \n",
    "    y_pred = models[i].predict(X_train_prep)\n",
    "    y_pred_test = models[i].predict(X_test_prep)\n",
    "    \n",
    "    accuracy.append(accuracy_score(y_train, y_pred))\n",
    "    recall.append(recall_score(y_train, y_pred))\n",
    "    precision.append(precision_score(y_train, y_pred))\n",
    "    \n",
    "    accuracy_test.append(accuracy_score(y_test, y_pred_test))\n",
    "    recall_test.append(recall_score(y_test, y_pred_test))\n",
    "    precision_test.append(precision_score(y_test, y_pred_test))\n",
    "    \n",
    "    print(f\"Model {model_name[i]} done!\")\n",
    "\n",
    "df_scores = pd.DataFrame({\"name\": model_name,\n",
    "                         \"accuracy_train\": accuracy,\n",
    "                         \"recall_train\": recall,\n",
    "                         \"precission_train\": precision,\n",
    "                         \"accuracy_test\": accuracy_test,\n",
    "                         \"recall_test\": recall_test,\n",
    "                         \"precission_test\": precision_test,\n",
    "                         })\n"
   ]
  },
  {
   "cell_type": "code",
   "execution_count": 56,
   "id": "c0eaaf03",
   "metadata": {},
   "outputs": [
    {
     "data": {
      "text/html": [
       "<div>\n",
       "<style scoped>\n",
       "    .dataframe tbody tr th:only-of-type {\n",
       "        vertical-align: middle;\n",
       "    }\n",
       "\n",
       "    .dataframe tbody tr th {\n",
       "        vertical-align: top;\n",
       "    }\n",
       "\n",
       "    .dataframe thead th {\n",
       "        text-align: right;\n",
       "    }\n",
       "</style>\n",
       "<table border=\"1\" class=\"dataframe\">\n",
       "  <thead>\n",
       "    <tr style=\"text-align: right;\">\n",
       "      <th></th>\n",
       "      <th>name</th>\n",
       "      <th>accuracy_train</th>\n",
       "      <th>recall_train</th>\n",
       "      <th>precission_train</th>\n",
       "      <th>accuracy_test</th>\n",
       "      <th>recall_test</th>\n",
       "      <th>precission_test</th>\n",
       "    </tr>\n",
       "  </thead>\n",
       "  <tbody>\n",
       "    <tr>\n",
       "      <th>3</th>\n",
       "      <td>XGBoost</td>\n",
       "      <td>0.852156</td>\n",
       "      <td>0.895905</td>\n",
       "      <td>0.867149</td>\n",
       "      <td>0.835565</td>\n",
       "      <td>0.879519</td>\n",
       "      <td>0.855618</td>\n",
       "    </tr>\n",
       "    <tr>\n",
       "      <th>2</th>\n",
       "      <td>AdaBoost</td>\n",
       "      <td>0.789789</td>\n",
       "      <td>0.844444</td>\n",
       "      <td>0.818218</td>\n",
       "      <td>0.786139</td>\n",
       "      <td>0.837819</td>\n",
       "      <td>0.817099</td>\n",
       "    </tr>\n",
       "    <tr>\n",
       "      <th>1</th>\n",
       "      <td>RandomForest</td>\n",
       "      <td>0.782938</td>\n",
       "      <td>0.920887</td>\n",
       "      <td>0.769894</td>\n",
       "      <td>0.778807</td>\n",
       "      <td>0.915579</td>\n",
       "      <td>0.767544</td>\n",
       "    </tr>\n",
       "    <tr>\n",
       "      <th>0</th>\n",
       "      <td>DecisionTree</td>\n",
       "      <td>0.778593</td>\n",
       "      <td>0.759246</td>\n",
       "      <td>0.862845</td>\n",
       "      <td>0.776607</td>\n",
       "      <td>0.754330</td>\n",
       "      <td>0.863110</td>\n",
       "    </tr>\n",
       "    <tr>\n",
       "      <th>5</th>\n",
       "      <td>LogisticRegression</td>\n",
       "      <td>0.754926</td>\n",
       "      <td>0.863940</td>\n",
       "      <td>0.765933</td>\n",
       "      <td>0.750183</td>\n",
       "      <td>0.860201</td>\n",
       "      <td>0.761968</td>\n",
       "    </tr>\n",
       "    <tr>\n",
       "      <th>4</th>\n",
       "      <td>RidgeRegression</td>\n",
       "      <td>0.722432</td>\n",
       "      <td>0.874857</td>\n",
       "      <td>0.727328</td>\n",
       "      <td>0.718274</td>\n",
       "      <td>0.872813</td>\n",
       "      <td>0.723531</td>\n",
       "    </tr>\n",
       "  </tbody>\n",
       "</table>\n",
       "</div>"
      ],
      "text/plain": [
       "                 name  accuracy_train  recall_train  precission_train  \\\n",
       "3             XGBoost        0.852156      0.895905          0.867149   \n",
       "2            AdaBoost        0.789789      0.844444          0.818218   \n",
       "1        RandomForest        0.782938      0.920887          0.769894   \n",
       "0        DecisionTree        0.778593      0.759246          0.862845   \n",
       "5  LogisticRegression        0.754926      0.863940          0.765933   \n",
       "4     RidgeRegression        0.722432      0.874857          0.727328   \n",
       "\n",
       "   accuracy_test  recall_test  precission_test  \n",
       "3       0.835565     0.879519         0.855618  \n",
       "2       0.786139     0.837819         0.817099  \n",
       "1       0.778807     0.915579         0.767544  \n",
       "0       0.776607     0.754330         0.863110  \n",
       "5       0.750183     0.860201         0.761968  \n",
       "4       0.718274     0.872813         0.723531  "
      ]
     },
     "execution_count": 56,
     "metadata": {},
     "output_type": "execute_result"
    }
   ],
   "source": [
    "df_scores.sort_values(\"accuracy_test\", ascending = False).head(20)"
   ]
  },
  {
   "cell_type": "code",
   "execution_count": 57,
   "id": "11f8e5f5",
   "metadata": {},
   "outputs": [
    {
     "data": {
      "text/plain": [
       "Text(0.5, 1.0, 'Model Accuracy ')"
      ]
     },
     "execution_count": 57,
     "metadata": {},
     "output_type": "execute_result"
    },
    {
     "data": {
      "image/png": "[encoded data removed]",
      "text/plain": [
       "<Figure size 432x288 with 1 Axes>"
      ]
     },
     "metadata": {
      "needs_background": "light"
     },
     "output_type": "display_data"
    }
   ],
   "source": [
    "ax = plt.Figure()\n",
    "\n",
    "plot1 = df_scores.sort_values(\"accuracy_test\", ascending = True).plot(kind= \"barh\", x= \"name\", y = \"accuracy_test\", legend=None)\n",
    "plt.xlim([0,1])\n",
    "plot1.set_xlabel('Accuracy Test', fontsize = 12)\n",
    "plot1.set_ylabel('', fontsize = 12)\n",
    "plot1.set_title('Model Accuracy ', fontsize = 16)"
   ]
  },
  {
   "cell_type": "markdown",
   "id": "d07f64e8",
   "metadata": {},
   "source": [
    "Good! Now we will take the best candidates and optimaze them."
   ]
  },
  {
   "cell_type": "markdown",
   "id": "17d6478e",
   "metadata": {},
   "source": [
    "## XGBoost"
   ]
  },
  {
   "cell_type": "markdown",
   "id": "14e599aa",
   "metadata": {},
   "source": [
    "We start with the best one: XGBoost. To find the best paramters we use a RandomizedSearch and then a GridSearch around the best parameters combination from the previous step"
   ]
  },
  {
   "cell_type": "code",
   "execution_count": 58,
   "id": "0b17a68d",
   "metadata": {},
   "outputs": [
    {
     "data": {
      "text/plain": [
       "'\\nparam_grid_xgb = {\\n    \\'n_estimators\\': [100],\\n    \\'max_depth\\': list(range(3,15)),\\n    \"learning_rate\": np.linspace(0.0001, 1).astype(float),\\n    \\'booster\\': [\"gbtree\"]}\\n\\n# Instantiate random search and define the metric to optimize \\nrs_xgb = RandomizedSearchCV(xgb.XGBClassifier(random_state = RSEED,n_jobs = -1), param_grid_xgb, scoring=\\'accuracy\\',\\n                  cv=5, verbose=5, n_jobs=-1, n_iter=10, random_state = RSEED)\\n\\n# Fit randomized search object to data\\nrs_xgb.fit(X_train_prep, y_train)\\n\\nrs_xgb.best_params_\\n'"
      ]
     },
     "execution_count": 58,
     "metadata": {},
     "output_type": "execute_result"
    }
   ],
   "source": [
    "##Cell used for the optimization\n",
    "'''\n",
    "param_grid_xgb = {\n",
    "    'n_estimators': [100],\n",
    "    'max_depth': list(range(3,15)),\n",
    "    \"learning_rate\": np.linspace(0.0001, 1).astype(float),\n",
    "    'booster': [\"gbtree\"]}\n",
    "\n",
    "# Instantiate random search and define the metric to optimize \n",
    "rs_xgb = RandomizedSearchCV(xgb.XGBClassifier(random_state = RSEED,n_jobs = -1), param_grid_xgb, scoring='accuracy',\n",
    "                  cv=5, verbose=5, n_jobs=-1, n_iter=10, random_state = RSEED)\n",
    "\n",
    "# Fit randomized search object to data\n",
    "rs_xgb.fit(X_train_prep, y_train)\n",
    "\n",
    "rs_xgb.best_params_\n",
    "'''"
   ]
  },
  {
   "cell_type": "code",
   "execution_count": 59,
   "id": "2214ea6f",
   "metadata": {},
   "outputs": [
    {
     "data": {
      "text/plain": [
       "'\\nparam_grid_xgb = {\\n    \\'n_estimators\\': [100],\\n    \\'max_depth\\' : [9],\\n    \"learning_rate\": list(np.linspace(0.1,0.2,3)),\\n    \\'booster\\': [\"gbtree\"]}\\n\\ngrid_xgb = GridSearchCV(xgb.XGBClassifier(random_state = RSEED, n_jobs = -1), param_grid=param_grid_xgb, cv=5, scoring=\\'accuracy\\', \\n                           verbose=5, n_jobs=-1)\\ngrid_xgb.fit(X_train_prep, y_train)\\n\\nbest_xgb = grid_xgb.best_estimator_\\n'"
      ]
     },
     "execution_count": 59,
     "metadata": {},
     "output_type": "execute_result"
    }
   ],
   "source": [
    "# parameters around  the best model of the Random Search {'n_estimators': 25,'max_depth': 7,'learning_rate': 0.34700408163265306, 'booster': 'gbtree'}\n",
    "\n",
    "'''\n",
    "param_grid_xgb = {\n",
    "    'n_estimators': [100],\n",
    "    'max_depth' : [9],\n",
    "    \"learning_rate\": list(np.linspace(0.1,0.2,3)),\n",
    "    'booster': [\"gbtree\"]}\n",
    "\n",
    "grid_xgb = GridSearchCV(xgb.XGBClassifier(random_state = RSEED, n_jobs = -1), param_grid=param_grid_xgb, cv=5, scoring='accuracy', \n",
    "                           verbose=5, n_jobs=-1)\n",
    "grid_xgb.fit(X_train_prep, y_train)\n",
    "\n",
    "best_xgb = grid_xgb.best_estimator_\n",
    "'''"
   ]
  },
  {
   "cell_type": "code",
   "execution_count": 60,
   "id": "1a9714f6",
   "metadata": {},
   "outputs": [],
   "source": [
    "best_xgb = xgb.XGBClassifier(random_state = RSEED, n_jobs = -1,\n",
    "                             n_estimators = 100, booster = \"gbtree\",\n",
    "                             learning_rate = 0.1, max_depth = 9,\n",
    "                            eval_metric = \"error\")\n",
    "\n",
    "best_xgb.fit(X_train_prep, y_train)\n",
    "y_train_pred = best_xgb.predict(X_train_prep)\n",
    "y_pred = best_xgb.predict(X_test_prep)\n",
    "\n",
    "#grid_xgb.best_params_"
   ]
  },
  {
   "cell_type": "code",
   "execution_count": 61,
   "id": "32352ffe",
   "metadata": {},
   "outputs": [
    {
     "name": "stdout",
     "output_type": "stream",
     "text": [
      "Cross validation scores:\n",
      "-------------------------\n",
      "Accuracy: 0.86\n",
      "Recall: 0.90\n",
      "Precision: 0.87\n",
      "\n",
      "Confusion matrix:\n",
      "-------------------------\n",
      "[[45410 11655]\n",
      " [ 8939 81286]]\n",
      "Cross validation scores:\n",
      "-------------------------\n",
      "Accuracy: 0.84\n",
      "Recall: 0.88\n",
      "Precision: 0.86\n",
      "\n",
      "Confusion matrix:\n",
      "-------------------------\n",
      "[[10961  3344]\n",
      " [ 2666 19852]]\n"
     ]
    }
   ],
   "source": [
    "print_scores(y_train, y_train_pred)\n",
    "print_scores(y_test, y_pred)"
   ]
  },
  {
   "cell_type": "markdown",
   "id": "d88ef11d",
   "metadata": {},
   "source": [
    "Well, we got an extra % of accuracy. Let us check out which are the most important parameters in our model."
   ]
  },
  {
   "cell_type": "code",
   "execution_count": 62,
   "id": "bdc1cf75",
   "metadata": {},
   "outputs": [
    {
     "data": {
      "image/png": "[encoded data removed]",
      "text/plain": [
       "<Figure size 720x504 with 1 Axes>"
      ]
     },
     "metadata": {
      "needs_background": "light"
     },
     "output_type": "display_data"
    }
   ],
   "source": [
    "hot_encoder = preprocessor.named_transformers_[\"cat\"]['1hot']\n",
    "hot_encoder_names = hot_encoder.get_feature_names()\n",
    "column_names = num_features + list(hot_encoder_names)\n",
    "\n",
    "importance = list(best_xgb.feature_importances_)\n",
    "\n",
    "\n",
    "fig, ax = plt.subplots(figsize = (10,7))\n",
    "\n",
    "df_importance = pd.DataFrame({\"Feature\": column_names, \"Importance\": importance})\n",
    "df_importance.sort_values(\"Importance\", ascending = True, inplace = True)\n",
    "\n",
    "ax.barh(df_importance[\"Feature\"].tail(10), df_importance[\"Importance\"].tail(10))\n",
    "\n",
    "ax.set_xlabel('Feature importance', fontsize = 14)\n",
    "ax.set_ylabel('', fontsize = 12)\n",
    "ax.set_title('Top10 Features', fontsize = 20)\n",
    "\n",
    "plt.savefig('Features_importance.png', transparent=True)"
   ]
  },
  {
   "cell_type": "code",
   "execution_count": 63,
   "id": "18c8d9b4",
   "metadata": {},
   "outputs": [],
   "source": [
    "model_name.append(\"XGBoost optimized\")\n",
    "\n",
    "accuracy.append(accuracy_score(y_train, y_train_pred))\n",
    "recall.append(recall_score(y_train, y_train_pred))\n",
    "precision.append(precision_score(y_train, y_train_pred))\n",
    "    \n",
    "accuracy_test.append(accuracy_score(y_test, y_pred))\n",
    "recall_test.append(recall_score(y_test, y_pred))\n",
    "precision_test.append(precision_score(y_test, y_pred))"
   ]
  },
  {
   "cell_type": "markdown",
   "id": "4fac56d8",
   "metadata": {},
   "source": [
    "## AdaBoost"
   ]
  },
  {
   "cell_type": "markdown",
   "id": "2314ef24",
   "metadata": {},
   "source": [
    "We use the same strategy to optimize the AdaBoost model."
   ]
  },
  {
   "cell_type": "code",
   "execution_count": 64,
   "id": "3145c351",
   "metadata": {},
   "outputs": [
    {
     "data": {
      "text/plain": [
       "\"'\\n\\nparam_grid_ada = {\\n    'n_estimators': np.linspace(100, 500, 20).astype(int)}\\n\\n# Instantiate random search and define the metric to optimize \\nrs_ada = RandomizedSearchCV(AdaBoostClassifier(random_state=RSEED), param_grid_ada, scoring='accuracy',\\n                  cv=5, verbose=5, n_jobs=-1, n_iter=10, random_state=RSEED)\\n\\n# Fit randomized search object to data\\nrs_ada.fit(X_train_prep, y_train)\\n\\nbest_ada = rs_ada.best_estimator_\\n\\ny_train_pred = best_ada.predict(X_train_prep)\\ny_pred = best_ada.predict(X_test_prep)\\nrs_ada.best_params_\\nprint_scores(y_train, y_train_pred)\\nprint_scores(y_test, y_pred)\\n\""
      ]
     },
     "execution_count": 64,
     "metadata": {},
     "output_type": "execute_result"
    }
   ],
   "source": [
    "''''\n",
    "\n",
    "param_grid_ada = {\n",
    "    'n_estimators': np.linspace(100, 500, 20).astype(int)}\n",
    "\n",
    "# Instantiate random search and define the metric to optimize \n",
    "rs_ada = RandomizedSearchCV(AdaBoostClassifier(random_state=RSEED), param_grid_ada, scoring='accuracy',\n",
    "                  cv=5, verbose=5, n_jobs=-1, n_iter=10, random_state=RSEED)\n",
    "\n",
    "# Fit randomized search object to data\n",
    "rs_ada.fit(X_train_prep, y_train)\n",
    "\n",
    "best_ada = rs_ada.best_estimator_\n",
    "\n",
    "y_train_pred = best_ada.predict(X_train_prep)\n",
    "y_pred = best_ada.predict(X_test_prep)\n",
    "rs_ada.best_params_\n",
    "print_scores(y_train, y_train_pred)\n",
    "print_scores(y_test, y_pred)\n",
    "'''"
   ]
  },
  {
   "cell_type": "code",
   "execution_count": 65,
   "id": "51a19da7",
   "metadata": {},
   "outputs": [
    {
     "data": {
      "text/plain": [
       "'\\nparam_grid_ada = {\\n    \\'n_estimators\\': np.linspace(150, 250, 3).astype(int),\\n    \"learning_rate\": np.linspace(0.5, 1, 3).astype(float)}\\n\\ngrid_ada = GridSearchCV(AdaBoostClassifier(random_state=RSEED), param_grid=param_grid_ada, cv=5, scoring=\\'accuracy\\', \\n                           verbose=5, n_jobs=-1)\\n\\ngrid_ada.fit(X_train_prep, y_train)\\n\\nbest_grid_ada = grid_ada.best_estimator_\\n\\ny_train_pred = best_grid_ada.predict(X_train_prep)\\ny_pred = best_grid_ada.predict(X_test_prep)\\n\\ngrid_ada.best_params_\\n'"
      ]
     },
     "execution_count": 65,
     "metadata": {},
     "output_type": "execute_result"
    }
   ],
   "source": [
    "\n",
    "'''\n",
    "param_grid_ada = {\n",
    "    'n_estimators': np.linspace(150, 250, 3).astype(int),\n",
    "    \"learning_rate\": np.linspace(0.5, 1, 3).astype(float)}\n",
    "\n",
    "grid_ada = GridSearchCV(AdaBoostClassifier(random_state=RSEED), param_grid=param_grid_ada, cv=5, scoring='accuracy', \n",
    "                           verbose=5, n_jobs=-1)\n",
    "\n",
    "grid_ada.fit(X_train_prep, y_train)\n",
    "\n",
    "best_grid_ada = grid_ada.best_estimator_\n",
    "\n",
    "y_train_pred = best_grid_ada.predict(X_train_prep)\n",
    "y_pred = best_grid_ada.predict(X_test_prep)\n",
    "\n",
    "grid_ada.best_params_\n",
    "'''"
   ]
  },
  {
   "cell_type": "code",
   "execution_count": 66,
   "id": "9f8e94ac",
   "metadata": {},
   "outputs": [
    {
     "name": "stdout",
     "output_type": "stream",
     "text": [
      "Cross validation scores:\n",
      "-------------------------\n",
      "Accuracy: 0.79\n",
      "Recall: 0.85\n",
      "Precision: 0.82\n",
      "\n",
      "Confusion matrix:\n",
      "-------------------------\n",
      "[[40369 16696]\n",
      " [13915 76310]]\n",
      "Cross validation scores:\n",
      "-------------------------\n",
      "Accuracy: 0.79\n",
      "Recall: 0.84\n",
      "Precision: 0.82\n",
      "\n",
      "Confusion matrix:\n",
      "-------------------------\n",
      "[[10128  4177]\n",
      " [ 3598 18920]]\n"
     ]
    }
   ],
   "source": [
    "ada2 = AdaBoostClassifier(n_estimators=225, learning_rate=1.0, random_state=RSEED)\n",
    "ada2.fit(X_train_prep, y_train)\n",
    "\n",
    "y_train_pred = ada2.predict(X_train_prep)\n",
    "y_pred = ada2.predict(X_test_prep)\n",
    "\n",
    "print_scores(y_train, y_train_pred)\n",
    "print_scores(y_test, y_pred)"
   ]
  },
  {
   "cell_type": "code",
   "execution_count": 67,
   "id": "86fb326d",
   "metadata": {},
   "outputs": [],
   "source": [
    "model_name.append(\"AdaBoost optimized\")\n",
    "\n",
    "accuracy.append(accuracy_score(y_train, y_train_pred))\n",
    "recall.append(recall_score(y_train, y_train_pred))\n",
    "precision.append(precision_score(y_train, y_train_pred))\n",
    "    \n",
    "accuracy_test.append(accuracy_score(y_test, y_pred))\n",
    "recall_test.append(recall_score(y_test, y_pred))\n",
    "precision_test.append(precision_score(y_test, y_pred))"
   ]
  },
  {
   "cell_type": "markdown",
   "id": "8115faaf",
   "metadata": {},
   "source": [
    "## Voting Classifier"
   ]
  },
  {
   "cell_type": "code",
   "execution_count": 68,
   "id": "6016e4c2",
   "metadata": {},
   "outputs": [
    {
     "data": {
      "text/plain": [
       "\"\\nclf1 = DecisionTreeClassifier(random_state=RSEED)\\nclf2 = RandomForestClassifier(random_state=RSEED)\\nclf3 = LogisticRegression(random_state=RSEED)\\n\\nparams = {'dt__max_depth': [5, 10], 'rf__n_estimators': [20, 200],'rf__max_depth': [5, 10], 'rf__max_features': [6, 8], }\\n\\neclf = VotingClassifier(estimators=[('dt', clf1), ('rf', clf2), ('lr', clf3)], voting='hard')\\n\\nrandom_search = RandomizedSearchCV(eclf, param_distributions=params,n_iter=4)\\nrandom_search.fit(X_train_prep, y_train)\\n\\nbest_rs = random_search.best_estimator_\\nrandom_search.best_params_\\n\\n\""
      ]
     },
     "execution_count": 68,
     "metadata": {},
     "output_type": "execute_result"
    }
   ],
   "source": [
    "from sklearn.ensemble import VotingClassifier\n",
    "\n",
    "# Cell used for the optimization\n",
    "# {'rf__n_estimators': 200,'rf__max_features': 8,'rf__max_depth': 10,'dt__max_depth': 10}\n",
    "\n",
    "'''\n",
    "clf1 = DecisionTreeClassifier(random_state=RSEED)\n",
    "clf2 = RandomForestClassifier(random_state=RSEED)\n",
    "clf3 = LogisticRegression(random_state=RSEED)\n",
    "\n",
    "params = {'dt__max_depth': [5, 10], 'rf__n_estimators': [20, 200],'rf__max_depth': [5, 10], 'rf__max_features': [6, 8], }\n",
    "\n",
    "eclf = VotingClassifier(estimators=[('dt', clf1), ('rf', clf2), ('lr', clf3)], voting='hard')\n",
    "\n",
    "random_search = RandomizedSearchCV(eclf, param_distributions=params,n_iter=4)\n",
    "random_search.fit(X_train_prep, y_train)\n",
    "\n",
    "best_rs = random_search.best_estimator_\n",
    "random_search.best_params_\n",
    "\n",
    "'''"
   ]
  },
  {
   "cell_type": "code",
   "execution_count": 69,
   "id": "e8e67117",
   "metadata": {},
   "outputs": [],
   "source": [
    "clf1 = DecisionTreeClassifier(random_state=RSEED, max_depth = 10)\n",
    "clf2 = RandomForestClassifier(random_state=RSEED, max_depth = 10, max_features = 8, n_estimators = 200)\n",
    "clf3 = LogisticRegression(random_state=RSEED)\n",
    "\n",
    "eclf = VotingClassifier(estimators=[('dt', clf1), ('rf', clf2), ('lr', clf3)], voting='hard')"
   ]
  },
  {
   "cell_type": "code",
   "execution_count": 70,
   "id": "bb4544cc",
   "metadata": {},
   "outputs": [
    {
     "name": "stdout",
     "output_type": "stream",
     "text": [
      "Cross validation scores:\n",
      "-------------------------\n",
      "Accuracy: 0.82\n",
      "Recall: 0.88\n",
      "Precision: 0.83\n",
      "\n",
      "Confusion matrix:\n",
      "-------------------------\n",
      "[[40230 16835]\n",
      " [10395 79830]]\n",
      "Cross validation scores:\n",
      "-------------------------\n",
      "Accuracy: 0.81\n",
      "Recall: 0.88\n",
      "Precision: 0.82\n",
      "\n",
      "Confusion matrix:\n",
      "-------------------------\n",
      "[[10015  4290]\n",
      " [ 2754 19764]]\n"
     ]
    }
   ],
   "source": [
    "eclf.fit(X_train_prep,y_train)\n",
    "\n",
    "y_train_pred = eclf.predict(X_train_prep)\n",
    "y_pred = eclf.predict(X_test_prep)\n",
    "\n",
    "print_scores(y_train, y_train_pred)\n",
    "print_scores(y_test, y_pred)"
   ]
  },
  {
   "cell_type": "code",
   "execution_count": 71,
   "id": "6fcee02f",
   "metadata": {},
   "outputs": [],
   "source": [
    "model_name.append(\"Voting Classifier\")\n",
    "\n",
    "accuracy.append(accuracy_score(y_train, y_train_pred))\n",
    "recall.append(recall_score(y_train, y_train_pred))\n",
    "precision.append(precision_score(y_train, y_train_pred))\n",
    "    \n",
    "accuracy_test.append(accuracy_score(y_test, y_pred))\n",
    "recall_test.append(recall_score(y_test, y_pred))\n",
    "precision_test.append(precision_score(y_test, y_pred))"
   ]
  },
  {
   "cell_type": "code",
   "execution_count": 72,
   "id": "f69a19e5",
   "metadata": {},
   "outputs": [],
   "source": [
    "df_scores = pd.DataFrame({\"name\": model_name,\n",
    "                         \"accuracy_train\": accuracy,\n",
    "                         \"recall_train\": recall,\n",
    "                         \"precission_train\": precision,\n",
    "                         \"accuracy_test\": accuracy_test,\n",
    "                         \"recall_test\": recall_test,\n",
    "                         \"precission_test\": precision_test,\n",
    "                         })"
   ]
  },
  {
   "cell_type": "code",
   "execution_count": 78,
   "id": "fba2d3da",
   "metadata": {},
   "outputs": [
    {
     "data": {
      "text/html": [
       "<div>\n",
       "<style scoped>\n",
       "    .dataframe tbody tr th:only-of-type {\n",
       "        vertical-align: middle;\n",
       "    }\n",
       "\n",
       "    .dataframe tbody tr th {\n",
       "        vertical-align: top;\n",
       "    }\n",
       "\n",
       "    .dataframe thead th {\n",
       "        text-align: right;\n",
       "    }\n",
       "</style>\n",
       "<table border=\"1\" class=\"dataframe\">\n",
       "  <thead>\n",
       "    <tr style=\"text-align: right;\">\n",
       "      <th></th>\n",
       "      <th>name</th>\n",
       "      <th>accuracy_train</th>\n",
       "      <th>recall_train</th>\n",
       "      <th>precission_train</th>\n",
       "      <th>accuracy_test</th>\n",
       "      <th>recall_test</th>\n",
       "      <th>precission_test</th>\n",
       "    </tr>\n",
       "  </thead>\n",
       "  <tbody>\n",
       "    <tr>\n",
       "      <th>6</th>\n",
       "      <td>XGBoost optimized</td>\n",
       "      <td>0.860181</td>\n",
       "      <td>0.900925</td>\n",
       "      <td>0.874598</td>\n",
       "      <td>0.836787</td>\n",
       "      <td>0.881606</td>\n",
       "      <td>0.855837</td>\n",
       "    </tr>\n",
       "    <tr>\n",
       "      <th>3</th>\n",
       "      <td>XGBoost</td>\n",
       "      <td>0.852156</td>\n",
       "      <td>0.895905</td>\n",
       "      <td>0.867149</td>\n",
       "      <td>0.835565</td>\n",
       "      <td>0.879519</td>\n",
       "      <td>0.855618</td>\n",
       "    </tr>\n",
       "    <tr>\n",
       "      <th>8</th>\n",
       "      <td>Voting Classifier</td>\n",
       "      <td>0.815127</td>\n",
       "      <td>0.884788</td>\n",
       "      <td>0.825842</td>\n",
       "      <td>0.808707</td>\n",
       "      <td>0.877698</td>\n",
       "      <td>0.821651</td>\n",
       "    </tr>\n",
       "    <tr>\n",
       "      <th>7</th>\n",
       "      <td>AdaBoost optimized</td>\n",
       "      <td>0.792172</td>\n",
       "      <td>0.845774</td>\n",
       "      <td>0.820485</td>\n",
       "      <td>0.788855</td>\n",
       "      <td>0.840217</td>\n",
       "      <td>0.819154</td>\n",
       "    </tr>\n",
       "    <tr>\n",
       "      <th>2</th>\n",
       "      <td>AdaBoost</td>\n",
       "      <td>0.789789</td>\n",
       "      <td>0.844444</td>\n",
       "      <td>0.818218</td>\n",
       "      <td>0.786139</td>\n",
       "      <td>0.837819</td>\n",
       "      <td>0.817099</td>\n",
       "    </tr>\n",
       "    <tr>\n",
       "      <th>1</th>\n",
       "      <td>RandomForest</td>\n",
       "      <td>0.782938</td>\n",
       "      <td>0.920887</td>\n",
       "      <td>0.769894</td>\n",
       "      <td>0.778807</td>\n",
       "      <td>0.915579</td>\n",
       "      <td>0.767544</td>\n",
       "    </tr>\n",
       "    <tr>\n",
       "      <th>0</th>\n",
       "      <td>DecisionTree</td>\n",
       "      <td>0.778593</td>\n",
       "      <td>0.759246</td>\n",
       "      <td>0.862845</td>\n",
       "      <td>0.776607</td>\n",
       "      <td>0.754330</td>\n",
       "      <td>0.863110</td>\n",
       "    </tr>\n",
       "    <tr>\n",
       "      <th>5</th>\n",
       "      <td>LogisticRegression</td>\n",
       "      <td>0.754926</td>\n",
       "      <td>0.863940</td>\n",
       "      <td>0.765933</td>\n",
       "      <td>0.750183</td>\n",
       "      <td>0.860201</td>\n",
       "      <td>0.761968</td>\n",
       "    </tr>\n",
       "    <tr>\n",
       "      <th>4</th>\n",
       "      <td>RidgeRegression</td>\n",
       "      <td>0.722432</td>\n",
       "      <td>0.874857</td>\n",
       "      <td>0.727328</td>\n",
       "      <td>0.718274</td>\n",
       "      <td>0.872813</td>\n",
       "      <td>0.723531</td>\n",
       "    </tr>\n",
       "  </tbody>\n",
       "</table>\n",
       "</div>"
      ],
      "text/plain": [
       "                 name  accuracy_train  recall_train  precission_train  \\\n",
       "6   XGBoost optimized        0.860181      0.900925          0.874598   \n",
       "3             XGBoost        0.852156      0.895905          0.867149   \n",
       "8   Voting Classifier        0.815127      0.884788          0.825842   \n",
       "7  AdaBoost optimized        0.792172      0.845774          0.820485   \n",
       "2            AdaBoost        0.789789      0.844444          0.818218   \n",
       "1        RandomForest        0.782938      0.920887          0.769894   \n",
       "0        DecisionTree        0.778593      0.759246          0.862845   \n",
       "5  LogisticRegression        0.754926      0.863940          0.765933   \n",
       "4     RidgeRegression        0.722432      0.874857          0.727328   \n",
       "\n",
       "   accuracy_test  recall_test  precission_test  \n",
       "6       0.836787     0.881606         0.855837  \n",
       "3       0.835565     0.879519         0.855618  \n",
       "8       0.808707     0.877698         0.821651  \n",
       "7       0.788855     0.840217         0.819154  \n",
       "2       0.786139     0.837819         0.817099  \n",
       "1       0.778807     0.915579         0.767544  \n",
       "0       0.776607     0.754330         0.863110  \n",
       "5       0.750183     0.860201         0.761968  \n",
       "4       0.718274     0.872813         0.723531  "
      ]
     },
     "execution_count": 78,
     "metadata": {},
     "output_type": "execute_result"
    }
   ],
   "source": [
    "df_scores.sort_values(\"accuracy_test\", ascending = False).head(10)"
   ]
  },
  {
   "cell_type": "code",
   "execution_count": 74,
   "id": "60b793a0",
   "metadata": {},
   "outputs": [
    {
     "data": {
      "image/png": "[encoded data removed]",
      "text/plain": [
       "<Figure size 720x504 with 1 Axes>"
      ]
     },
     "metadata": {
      "needs_background": "light"
     },
     "output_type": "display_data"
    }
   ],
   "source": [
    "df_scores.sort_values(\"accuracy_test\", ascending = True , inplace= True)\n",
    "\n",
    "fig, ax = plt.subplots(figsize = (10,7))\n",
    "\n",
    "color_list = [\"lightblue\"] * len(df_scores[\"name\"].to_list())\n",
    "\n",
    "color_list[-1] = \"lightgreen\"\n",
    "color_list[-3] = \"lightgreen\"\n",
    "color_list[-4] = \"lightgreen\"\n",
    "\n",
    "#plot1 = df_scores.sort_values(\"accuracy_test\", ascending = True).plot\n",
    "\n",
    "hbars = ax.barh(df_scores[\"name\"], df_scores[\"accuracy_test\"], align='center', color =color_list)\n",
    "\n",
    "plt.xlim([0,1])\n",
    "\n",
    "ax.set_xlabel('Accuracy Test', fontsize = 12)\n",
    "ax.set_ylabel('.')\n",
    "ax.set_title('Model Accuracy ', fontsize = 24)\n",
    "\n",
    "plt.savefig('Models_accuracy.png', transparent=False)"
   ]
  },
  {
   "cell_type": "code",
   "execution_count": null,
   "id": "803ba194",
   "metadata": {},
   "outputs": [],
   "source": []
  },
  {
   "cell_type": "code",
   "execution_count": null,
   "id": "fac623c0",
   "metadata": {},
   "outputs": [],
   "source": []
  }
 ],
 "metadata": {
  "kernelspec": {
   "display_name": "Python 3",
   "language": "python",
   "name": "python3"
  },
  "language_info": {
   "codemirror_mode": {
    "name": "ipython",
    "version": 3
   },
   "file_extension": ".py",
   "mimetype": "text/x-python",
   "name": "python",
   "nbconvert_exporter": "python",
   "pygments_lexer": "ipython3",
   "version": "3.8.5"
  }
 },
 "nbformat": 4,
 "nbformat_minor": 5
}
