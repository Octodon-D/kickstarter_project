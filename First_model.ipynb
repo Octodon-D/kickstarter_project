{
 "cells": [
  {
   "cell_type": "markdown",
   "id": "140c324a",
   "metadata": {},
   "source": [
    "# Fitting the model"
   ]
  },
  {
   "cell_type": "markdown",
   "id": "b4cca629",
   "metadata": {},
   "source": [
    "## Data Preprocessing"
   ]
  },
  {
   "cell_type": "markdown",
   "id": "f87473e9",
   "metadata": {},
   "source": [
    "First we need to import the libraries and the data."
   ]
  },
  {
   "cell_type": "code",
   "execution_count": 1,
   "id": "ca5fd758",
   "metadata": {},
   "outputs": [],
   "source": [
    "import numpy as np\n",
    "import pandas as pd\n",
    "import warnings\n",
    "import matplotlib.pyplot as plt\n",
    "import seaborn as sns\n",
    "\n",
    "from sklearn.pipeline import Pipeline\n",
    "from sklearn.compose import ColumnTransformer\n",
    "from sklearn.preprocessing import OneHotEncoder, StandardScaler\n",
    "from sklearn.impute import SimpleImputer\n",
    "from sklearn.model_selection import train_test_split\n",
    "from sklearn.model_selection import GridSearchCV, RandomizedSearchCV\n",
    "from sklearn.model_selection import cross_val_predict, cross_val_score, cross_validate\n",
    "from sklearn.metrics import roc_curve, confusion_matrix, accuracy_score, recall_score, precision_score\n",
    "\n",
    "from sklearn.linear_model import LogisticRegression\n",
    "\n",
    "# Set random seed \n",
    "RSEED = 42\n",
    "warnings.filterwarnings(\"ignore\")"
   ]
  },
  {
   "cell_type": "code",
   "execution_count": 2,
   "id": "9c4d4de5",
   "metadata": {},
   "outputs": [
    {
     "data": {
      "text/html": [
       "<div>\n",
       "<style scoped>\n",
       "    .dataframe tbody tr th:only-of-type {\n",
       "        vertical-align: middle;\n",
       "    }\n",
       "\n",
       "    .dataframe tbody tr th {\n",
       "        vertical-align: top;\n",
       "    }\n",
       "\n",
       "    .dataframe thead th {\n",
       "        text-align: right;\n",
       "    }\n",
       "</style>\n",
       "<table border=\"1\" class=\"dataframe\">\n",
       "  <thead>\n",
       "    <tr style=\"text-align: right;\">\n",
       "      <th></th>\n",
       "      <th>backers_count</th>\n",
       "      <th>country</th>\n",
       "      <th>id</th>\n",
       "      <th>name</th>\n",
       "      <th>staff_pick</th>\n",
       "      <th>state</th>\n",
       "      <th>usd_pledged</th>\n",
       "      <th>usd_type</th>\n",
       "      <th>yr_launched</th>\n",
       "      <th>mo_launched</th>\n",
       "      <th>...</th>\n",
       "      <th>main_category</th>\n",
       "      <th>subcategory</th>\n",
       "      <th>city</th>\n",
       "      <th>region</th>\n",
       "      <th>city_type</th>\n",
       "      <th>creator_id</th>\n",
       "      <th>creator_num_projects</th>\n",
       "      <th>words_blurb</th>\n",
       "      <th>polarity_blurb</th>\n",
       "      <th>subjectivity_blurb</th>\n",
       "    </tr>\n",
       "  </thead>\n",
       "  <tbody>\n",
       "    <tr>\n",
       "      <th>0</th>\n",
       "      <td>21</td>\n",
       "      <td>US</td>\n",
       "      <td>287514992</td>\n",
       "      <td>New Final Round Album</td>\n",
       "      <td>0</td>\n",
       "      <td>1</td>\n",
       "      <td>802.00000</td>\n",
       "      <td>international</td>\n",
       "      <td>2013</td>\n",
       "      <td>12</td>\n",
       "      <td>...</td>\n",
       "      <td>Music</td>\n",
       "      <td>Rock</td>\n",
       "      <td>Chicago</td>\n",
       "      <td>IL</td>\n",
       "      <td>Town</td>\n",
       "      <td>1495925645</td>\n",
       "      <td>1</td>\n",
       "      <td>26</td>\n",
       "      <td>0.178788</td>\n",
       "      <td>0.518182</td>\n",
       "    </tr>\n",
       "    <tr>\n",
       "      <th>1</th>\n",
       "      <td>97</td>\n",
       "      <td>US</td>\n",
       "      <td>385129759</td>\n",
       "      <td>Princess Pals Enamel Pin Series</td>\n",
       "      <td>0</td>\n",
       "      <td>1</td>\n",
       "      <td>2259.00000</td>\n",
       "      <td>international</td>\n",
       "      <td>2019</td>\n",
       "      <td>2</td>\n",
       "      <td>...</td>\n",
       "      <td>Art</td>\n",
       "      <td>Mixed Media</td>\n",
       "      <td>Sacramento</td>\n",
       "      <td>CA</td>\n",
       "      <td>Town</td>\n",
       "      <td>1175589980</td>\n",
       "      <td>4</td>\n",
       "      <td>9</td>\n",
       "      <td>0.625000</td>\n",
       "      <td>1.000000</td>\n",
       "    </tr>\n",
       "    <tr>\n",
       "      <th>2</th>\n",
       "      <td>88</td>\n",
       "      <td>US</td>\n",
       "      <td>681033598</td>\n",
       "      <td>Their Life Through Their Lens-the Amish and Me...</td>\n",
       "      <td>1</td>\n",
       "      <td>1</td>\n",
       "      <td>29638.00000</td>\n",
       "      <td>international</td>\n",
       "      <td>2016</td>\n",
       "      <td>11</td>\n",
       "      <td>...</td>\n",
       "      <td>Photography</td>\n",
       "      <td>Photobooks</td>\n",
       "      <td>Columbus</td>\n",
       "      <td>OH</td>\n",
       "      <td>Town</td>\n",
       "      <td>1196856269</td>\n",
       "      <td>2</td>\n",
       "      <td>25</td>\n",
       "      <td>0.225000</td>\n",
       "      <td>0.366667</td>\n",
       "    </tr>\n",
       "    <tr>\n",
       "      <th>3</th>\n",
       "      <td>193</td>\n",
       "      <td>IT</td>\n",
       "      <td>1031782682</td>\n",
       "      <td>WAO: THE ECO EFFECT SHOES</td>\n",
       "      <td>0</td>\n",
       "      <td>1</td>\n",
       "      <td>49075.15252</td>\n",
       "      <td>international</td>\n",
       "      <td>2018</td>\n",
       "      <td>10</td>\n",
       "      <td>...</td>\n",
       "      <td>Fashion</td>\n",
       "      <td>Footwear</td>\n",
       "      <td>Venice</td>\n",
       "      <td>Veneto</td>\n",
       "      <td>Town</td>\n",
       "      <td>1569700626</td>\n",
       "      <td>2</td>\n",
       "      <td>13</td>\n",
       "      <td>0.000000</td>\n",
       "      <td>0.100000</td>\n",
       "    </tr>\n",
       "    <tr>\n",
       "      <th>4</th>\n",
       "      <td>20</td>\n",
       "      <td>US</td>\n",
       "      <td>904085819</td>\n",
       "      <td>Apple Watch Development Course</td>\n",
       "      <td>0</td>\n",
       "      <td>0</td>\n",
       "      <td>549.00000</td>\n",
       "      <td>domestic</td>\n",
       "      <td>2015</td>\n",
       "      <td>3</td>\n",
       "      <td>...</td>\n",
       "      <td>Technology</td>\n",
       "      <td>Software</td>\n",
       "      <td>Redmond</td>\n",
       "      <td>WA</td>\n",
       "      <td>Town</td>\n",
       "      <td>1870845385</td>\n",
       "      <td>1</td>\n",
       "      <td>22</td>\n",
       "      <td>0.156250</td>\n",
       "      <td>0.400000</td>\n",
       "    </tr>\n",
       "  </tbody>\n",
       "</table>\n",
       "<p>5 rows × 27 columns</p>\n",
       "</div>"
      ],
      "text/plain": [
       "   backers_count country          id  \\\n",
       "0             21      US   287514992   \n",
       "1             97      US   385129759   \n",
       "2             88      US   681033598   \n",
       "3            193      IT  1031782682   \n",
       "4             20      US   904085819   \n",
       "\n",
       "                                                name  staff_pick  state  \\\n",
       "0                              New Final Round Album           0      1   \n",
       "1                    Princess Pals Enamel Pin Series           0      1   \n",
       "2  Their Life Through Their Lens-the Amish and Me...           1      1   \n",
       "3                          WAO: THE ECO EFFECT SHOES           0      1   \n",
       "4                     Apple Watch Development Course           0      0   \n",
       "\n",
       "   usd_pledged       usd_type  yr_launched  mo_launched  ...  main_category  \\\n",
       "0    802.00000  international         2013           12  ...          Music   \n",
       "1   2259.00000  international         2019            2  ...            Art   \n",
       "2  29638.00000  international         2016           11  ...    Photography   \n",
       "3  49075.15252  international         2018           10  ...        Fashion   \n",
       "4    549.00000       domestic         2015            3  ...     Technology   \n",
       "\n",
       "   subcategory        city  region  city_type  creator_id  \\\n",
       "0         Rock     Chicago      IL       Town  1495925645   \n",
       "1  Mixed Media  Sacramento      CA       Town  1175589980   \n",
       "2   Photobooks    Columbus      OH       Town  1196856269   \n",
       "3     Footwear      Venice  Veneto       Town  1569700626   \n",
       "4     Software     Redmond      WA       Town  1870845385   \n",
       "\n",
       "   creator_num_projects words_blurb polarity_blurb subjectivity_blurb  \n",
       "0                     1          26       0.178788           0.518182  \n",
       "1                     4           9       0.625000           1.000000  \n",
       "2                     2          25       0.225000           0.366667  \n",
       "3                     2          13       0.000000           0.100000  \n",
       "4                     1          22       0.156250           0.400000  \n",
       "\n",
       "[5 rows x 27 columns]"
      ]
     },
     "execution_count": 2,
     "metadata": {},
     "output_type": "execute_result"
    }
   ],
   "source": [
    "df = pd.read_csv('data/data_clean.csv', index_col = 0)\n",
    "df.head()"
   ]
  },
  {
   "cell_type": "code",
   "execution_count": 3,
   "id": "75e3e9e3",
   "metadata": {},
   "outputs": [
    {
     "name": "stdout",
     "output_type": "stream",
     "text": [
      "<class 'pandas.core.frame.DataFrame'>\n",
      "Int64Index: 184113 entries, 0 to 184112\n",
      "Data columns (total 27 columns):\n",
      " #   Column                Non-Null Count   Dtype  \n",
      "---  ------                --------------   -----  \n",
      " 0   backers_count         184113 non-null  int64  \n",
      " 1   country               184113 non-null  object \n",
      " 2   id                    184113 non-null  int64  \n",
      " 3   name                  184113 non-null  object \n",
      " 4   staff_pick            184113 non-null  int64  \n",
      " 5   state                 184113 non-null  int64  \n",
      " 6   usd_pledged           184113 non-null  float64\n",
      " 7   usd_type              184113 non-null  object \n",
      " 8   yr_launched           184113 non-null  int64  \n",
      " 9   mo_launched           184113 non-null  int64  \n",
      " 10  wd_launched           184113 non-null  int64  \n",
      " 11  yr_deadline           184113 non-null  int64  \n",
      " 12  mo_deadline           184113 non-null  int64  \n",
      " 13  wd_deadline           184113 non-null  int64  \n",
      " 14  founding_phase        184113 non-null  int64  \n",
      " 15  phase_before          184113 non-null  int64  \n",
      " 16  goal_usd              184113 non-null  float64\n",
      " 17  main_category         184113 non-null  object \n",
      " 18  subcategory           184113 non-null  object \n",
      " 19  city                  184113 non-null  object \n",
      " 20  region                184113 non-null  object \n",
      " 21  city_type             184113 non-null  object \n",
      " 22  creator_id            184113 non-null  int64  \n",
      " 23  creator_num_projects  184113 non-null  int64  \n",
      " 24  words_blurb           184113 non-null  int64  \n",
      " 25  polarity_blurb        184113 non-null  float64\n",
      " 26  subjectivity_blurb    184113 non-null  float64\n",
      "dtypes: float64(4), int64(15), object(8)\n",
      "memory usage: 39.3+ MB\n"
     ]
    }
   ],
   "source": [
    "df.info()"
   ]
  },
  {
   "cell_type": "markdown",
   "id": "db9ab311",
   "metadata": {},
   "source": [
    "Let us delete all the variables that are not going to be useful in our model:\n",
    "+ **\"id\", \"creator_id\", \"name\"**: are not interesting to make a prediction\n",
    "+ **\"disable_communication\", \"is starrable\"**: only False\n",
    "+ **\"city\", \"region\"**: these two variables will create too many columns in the One Hot encoding process. We keep \"country\"\n",
    "+ **\"yr_deadline\",\"mo_deadline\", \"wd_deadline\"**: these variables are hihgly correlated with the launching date and \"funding_phase\""
   ]
  },
  {
   "cell_type": "code",
   "execution_count": 4,
   "id": "12ac2ca0",
   "metadata": {},
   "outputs": [
    {
     "name": "stdout",
     "output_type": "stream",
     "text": [
      "<class 'pandas.core.frame.DataFrame'>\n",
      "Int64Index: 184113 entries, 0 to 184112\n",
      "Data columns (total 18 columns):\n",
      " #   Column                Non-Null Count   Dtype  \n",
      "---  ------                --------------   -----  \n",
      " 0   backers_count         184113 non-null  int64  \n",
      " 1   country               184113 non-null  object \n",
      " 2   staff_pick            184113 non-null  int64  \n",
      " 3   state                 184113 non-null  int64  \n",
      " 4   usd_pledged           184113 non-null  float64\n",
      " 5   usd_type              184113 non-null  object \n",
      " 6   yr_launched           184113 non-null  int64  \n",
      " 7   mo_launched           184113 non-null  int64  \n",
      " 8   wd_launched           184113 non-null  int64  \n",
      " 9   founding_phase        184113 non-null  int64  \n",
      " 10  phase_before          184113 non-null  int64  \n",
      " 11  goal_usd              184113 non-null  float64\n",
      " 12  main_category         184113 non-null  object \n",
      " 13  city_type             184113 non-null  object \n",
      " 14  creator_num_projects  184113 non-null  int64  \n",
      " 15  words_blurb           184113 non-null  int64  \n",
      " 16  polarity_blurb        184113 non-null  float64\n",
      " 17  subjectivity_blurb    184113 non-null  float64\n",
      "dtypes: float64(4), int64(10), object(4)\n",
      "memory usage: 26.7+ MB\n"
     ]
    }
   ],
   "source": [
    "df.drop(['id', 'name', 'yr_deadline',\"mo_deadline\", \"wd_deadline\", \"city\", \"region\",\"subcategory\",\"creator_id\"], axis=1, inplace=True)  \n",
    "df.info()"
   ]
  },
  {
   "cell_type": "markdown",
   "id": "010c7008",
   "metadata": {},
   "source": [
    "We split the variables in Categorical and Numerical variables."
   ]
  },
  {
   "cell_type": "code",
   "execution_count": 5,
   "id": "1a643c97",
   "metadata": {},
   "outputs": [],
   "source": [
    "cat_features = list(df.columns[df.dtypes==object])\n",
    "\n",
    "num_features = list(df.columns[df.dtypes!=object])\n",
    "\n",
    "num_features.remove('usd_pledged')\n",
    "num_features.remove(\"backers_count\")\n",
    "num_features.remove(\"state\")"
   ]
  },
  {
   "cell_type": "markdown",
   "id": "e5c55ba2",
   "metadata": {},
   "source": [
    " We also split the target of the data and then into Train and Test."
   ]
  },
  {
   "cell_type": "code",
   "execution_count": 6,
   "id": "d7cdc98e",
   "metadata": {},
   "outputs": [
    {
     "name": "stdout",
     "output_type": "stream",
     "text": [
      "We have 184113 observations in our dataset and 15 features\n",
      "Our target vector has also 184113 values\n"
     ]
    }
   ],
   "source": [
    "# Define predictors and target variable\n",
    "\n",
    "X = df.drop(['usd_pledged', \"backers_count\", \"state\"], axis=1)\n",
    "y = df['state']\n",
    "\n",
    "print(f\"We have {X.shape[0]} observations in our dataset and {X.shape[1]} features\")\n",
    "print(f\"Our target vector has also {y.shape[0]} values\")"
   ]
  },
  {
   "cell_type": "code",
   "execution_count": 7,
   "id": "dd8f6a09",
   "metadata": {},
   "outputs": [],
   "source": [
    "X_train, X_test, y_train, y_test = train_test_split(X, y, test_size=0.2, random_state=RSEED)"
   ]
  },
  {
   "cell_type": "markdown",
   "id": "61f39786",
   "metadata": {},
   "source": [
    "## First model"
   ]
  },
  {
   "cell_type": "markdown",
   "id": "d048a231",
   "metadata": {},
   "source": [
    "We need to set a reference in order to compare how good our model is. We will use the *Logistic Regression* for this purpose. But first we need to convert the categorical variables into numerical with a *OneHotEconde* and we will also scale the data. "
   ]
  },
  {
   "cell_type": "code",
   "execution_count": 8,
   "id": "72c85146",
   "metadata": {},
   "outputs": [],
   "source": [
    "num_pipeline = Pipeline([\n",
    "    ('std_scaler', StandardScaler())\n",
    "])\n",
    "\n",
    "# Pipeline for categorical features \n",
    "cat_pipeline = Pipeline([\n",
    "    ('imputer_cat', SimpleImputer(strategy='constant', fill_value='missing')),\n",
    "    ('1hot', OneHotEncoder(handle_unknown='ignore'))\n",
    "])"
   ]
  },
  {
   "cell_type": "code",
   "execution_count": 9,
   "id": "4fc10e2b",
   "metadata": {},
   "outputs": [],
   "source": [
    "preprocessor = ColumnTransformer([\n",
    "    ('num', num_pipeline, num_features),\n",
    "    ('cat', cat_pipeline, cat_features)\n",
    "])"
   ]
  },
  {
   "cell_type": "code",
   "execution_count": 10,
   "id": "be25632c",
   "metadata": {},
   "outputs": [],
   "source": [
    "pipe_logreg = Pipeline([\n",
    "    ('preprocessor', preprocessor),\n",
    "    ('logreg', LogisticRegression(max_iter=1000))\n",
    "])"
   ]
  },
  {
   "cell_type": "code",
   "execution_count": 11,
   "id": "c7e44572",
   "metadata": {},
   "outputs": [],
   "source": [
    "y_train_predicted = cross_val_predict(pipe_logreg, X_train, y_train, cv=5)"
   ]
  },
  {
   "cell_type": "code",
   "execution_count": 12,
   "id": "1e5c6ae9",
   "metadata": {},
   "outputs": [],
   "source": [
    "def print_scores(y_true, y_predicted):\n",
    "# This function prints out the scores and the confussion matrix\n",
    "\n",
    "    print('Cross validation scores:')\n",
    "    print('-------------------------')\n",
    "    print(\"Accuracy: {:.2f}\".format(accuracy_score(y_true, y_predicted)))\n",
    "    print(\"Recall: {:.2f}\".format(recall_score(y_true, y_predicted)))\n",
    "    print(\"Precision: {:.2f}\".format(precision_score(y_true, y_predicted)))\n",
    "\n",
    "    cm = confusion_matrix(y_true, y_predicted)\n",
    "    print(\"\")\n",
    "    print(\"Confusion matrix:\")\n",
    "    print('-------------------------')\n",
    "    print(cm)"
   ]
  },
  {
   "cell_type": "code",
   "execution_count": 13,
   "id": "c1a2d2eb",
   "metadata": {},
   "outputs": [
    {
     "name": "stdout",
     "output_type": "stream",
     "text": [
      "Cross validation scores:\n",
      "-------------------------\n",
      "Accuracy: 0.73\n",
      "Recall: 0.87\n",
      "Precision: 0.74\n",
      "\n",
      "Confusion matrix:\n",
      "-------------------------\n",
      "[[29617 27448]\n",
      " [11772 78453]]\n"
     ]
    }
   ],
   "source": [
    "print_scores(y_train, y_train_predicted)"
   ]
  },
  {
   "cell_type": "code",
   "execution_count": 14,
   "id": "e86aec3a",
   "metadata": {},
   "outputs": [],
   "source": [
    "pipe_logreg.fit(X_train, y_train)\n",
    "y_pred = pipe_logreg.predict(X_test)"
   ]
  },
  {
   "cell_type": "code",
   "execution_count": 15,
   "id": "6c438f8c",
   "metadata": {},
   "outputs": [
    {
     "name": "stdout",
     "output_type": "stream",
     "text": [
      "Cross validation scores:\n",
      "-------------------------\n",
      "Accuracy: 0.73\n",
      "Recall: 0.87\n",
      "Precision: 0.74\n",
      "\n",
      "Confusion matrix:\n",
      "-------------------------\n",
      "[[ 7463  6842]\n",
      " [ 3036 19482]]\n"
     ]
    }
   ],
   "source": [
    "print_scores(y_test, y_pred)"
   ]
  },
  {
   "cell_type": "markdown",
   "id": "7c247626",
   "metadata": {},
   "source": [
    "## Model Benchmark"
   ]
  },
  {
   "cell_type": "markdown",
   "id": "4366e7bb",
   "metadata": {},
   "source": [
    "With a reference we can now try different models and see how the score, we will use the accuracy as metric."
   ]
  },
  {
   "cell_type": "code",
   "execution_count": 16,
   "id": "54ba6a5d",
   "metadata": {},
   "outputs": [],
   "source": [
    "from sklearn.tree import DecisionTreeClassifier\n",
    "from sklearn.ensemble import RandomForestClassifier\n",
    "from sklearn.linear_model import RidgeClassifier\n",
    "from sklearn.ensemble import AdaBoostClassifier\n",
    "import xgboost as xgb"
   ]
  },
  {
   "cell_type": "code",
   "execution_count": 18,
   "id": "285692e4",
   "metadata": {},
   "outputs": [
    {
     "name": "stdout",
     "output_type": "stream",
     "text": [
      "Model DecisionTree done!\n",
      "Model RandomForest done!\n",
      "Model AdaBoost done!\n",
      "Model XGBoost done!\n",
      "Model RidgeRegression done!\n",
      "Model LogisticRegression done!\n"
     ]
    }
   ],
   "source": [
    "models = [DecisionTreeClassifier(max_depth=6, random_state=RSEED ),\n",
    "        RandomForestClassifier(n_estimators=200,max_depth=6 , random_state=RSEED, n_jobs = -1), \n",
    "        AdaBoostClassifier(random_state=RSEED),        \n",
    "        xgb.XGBClassifier(random_state=RSEED, n_jobs = -1, eval_metric = \"error\"),\n",
    "        RidgeClassifier(),\n",
    "        LogisticRegression(max_iter=1000)]\n",
    "\n",
    "model_name = [\"DecisionTree\", \"RandomForest\",\"AdaBoost\",\"XGBoost\", \"RidgeRegression\", \"LogisticRegression\"]\n",
    "accuracy = []\n",
    "recall = []\n",
    "precision = []\n",
    "accuracy_test = []\n",
    "recall_test = []\n",
    "precision_test = []\n",
    "\n",
    "X_train_prep = preprocessor.fit_transform(X_train)\n",
    "X_test_prep = preprocessor.transform(X_test)\n",
    "\n",
    "k = len(models)\n",
    "\n",
    "for i in range(k):\n",
    "    model = models[i].fit(X_train_prep, y_train)  \n",
    "    y_pred = models[i].predict(X_train_prep)\n",
    "    y_pred_test = models[i].predict(X_test_prep)\n",
    "    \n",
    "    accuracy.append(accuracy_score(y_train, y_pred))\n",
    "    recall.append(recall_score(y_train, y_pred))\n",
    "    precision.append(precision_score(y_train, y_pred))\n",
    "    \n",
    "    accuracy_test.append(accuracy_score(y_test, y_pred_test))\n",
    "    recall_test.append(recall_score(y_test, y_pred_test))\n",
    "    precision_test.append(precision_score(y_test, y_pred_test))\n",
    "    \n",
    "    print(f\"Model {model_name[i]} done!\")\n",
    "\n",
    "df_scores = pd.DataFrame({\"name\": model_name,\n",
    "                         \"accuracy_train\": accuracy,\n",
    "                         \"recall_train\": recall,\n",
    "                         \"precission_train\": precision,\n",
    "                         \"accuracy_test\": accuracy_test,\n",
    "                         \"recall_test\": recall_test,\n",
    "                         \"precission_test\": precision_test,\n",
    "                         })\n"
   ]
  },
  {
   "cell_type": "code",
   "execution_count": 19,
   "id": "3ffde5ec",
   "metadata": {},
   "outputs": [
    {
     "data": {
      "text/html": [
       "<div>\n",
       "<style scoped>\n",
       "    .dataframe tbody tr th:only-of-type {\n",
       "        vertical-align: middle;\n",
       "    }\n",
       "\n",
       "    .dataframe tbody tr th {\n",
       "        vertical-align: top;\n",
       "    }\n",
       "\n",
       "    .dataframe thead th {\n",
       "        text-align: right;\n",
       "    }\n",
       "</style>\n",
       "<table border=\"1\" class=\"dataframe\">\n",
       "  <thead>\n",
       "    <tr style=\"text-align: right;\">\n",
       "      <th></th>\n",
       "      <th>name</th>\n",
       "      <th>accuracy_train</th>\n",
       "      <th>recall_train</th>\n",
       "      <th>precission_train</th>\n",
       "      <th>accuracy_test</th>\n",
       "      <th>recall_test</th>\n",
       "      <th>precission_test</th>\n",
       "    </tr>\n",
       "  </thead>\n",
       "  <tbody>\n",
       "    <tr>\n",
       "      <th>3</th>\n",
       "      <td>XGBoost</td>\n",
       "      <td>0.815968</td>\n",
       "      <td>0.866888</td>\n",
       "      <td>0.838218</td>\n",
       "      <td>0.795318</td>\n",
       "      <td>0.847100</td>\n",
       "      <td>0.823298</td>\n",
       "    </tr>\n",
       "    <tr>\n",
       "      <th>2</th>\n",
       "      <td>AdaBoost</td>\n",
       "      <td>0.773494</td>\n",
       "      <td>0.828861</td>\n",
       "      <td>0.806688</td>\n",
       "      <td>0.773620</td>\n",
       "      <td>0.824318</td>\n",
       "      <td>0.809084</td>\n",
       "    </tr>\n",
       "    <tr>\n",
       "      <th>0</th>\n",
       "      <td>DecisionTree</td>\n",
       "      <td>0.771885</td>\n",
       "      <td>0.840953</td>\n",
       "      <td>0.797643</td>\n",
       "      <td>0.770388</td>\n",
       "      <td>0.836975</td>\n",
       "      <td>0.797554</td>\n",
       "    </tr>\n",
       "    <tr>\n",
       "      <th>1</th>\n",
       "      <td>RandomForest</td>\n",
       "      <td>0.760710</td>\n",
       "      <td>0.914514</td>\n",
       "      <td>0.749809</td>\n",
       "      <td>0.760829</td>\n",
       "      <td>0.911804</td>\n",
       "      <td>0.750631</td>\n",
       "    </tr>\n",
       "    <tr>\n",
       "      <th>5</th>\n",
       "      <td>LogisticRegression</td>\n",
       "      <td>0.734096</td>\n",
       "      <td>0.869859</td>\n",
       "      <td>0.741063</td>\n",
       "      <td>0.731744</td>\n",
       "      <td>0.865175</td>\n",
       "      <td>0.740085</td>\n",
       "    </tr>\n",
       "    <tr>\n",
       "      <th>4</th>\n",
       "      <td>RidgeRegression</td>\n",
       "      <td>0.696965</td>\n",
       "      <td>0.911654</td>\n",
       "      <td>0.691693</td>\n",
       "      <td>0.697961</td>\n",
       "      <td>0.908562</td>\n",
       "      <td>0.693009</td>\n",
       "    </tr>\n",
       "  </tbody>\n",
       "</table>\n",
       "</div>"
      ],
      "text/plain": [
       "                 name  accuracy_train  recall_train  precission_train  \\\n",
       "3             XGBoost        0.815968      0.866888          0.838218   \n",
       "2            AdaBoost        0.773494      0.828861          0.806688   \n",
       "0        DecisionTree        0.771885      0.840953          0.797643   \n",
       "1        RandomForest        0.760710      0.914514          0.749809   \n",
       "5  LogisticRegression        0.734096      0.869859          0.741063   \n",
       "4     RidgeRegression        0.696965      0.911654          0.691693   \n",
       "\n",
       "   accuracy_test  recall_test  precission_test  \n",
       "3       0.795318     0.847100         0.823298  \n",
       "2       0.773620     0.824318         0.809084  \n",
       "0       0.770388     0.836975         0.797554  \n",
       "1       0.760829     0.911804         0.750631  \n",
       "5       0.731744     0.865175         0.740085  \n",
       "4       0.697961     0.908562         0.693009  "
      ]
     },
     "execution_count": 19,
     "metadata": {},
     "output_type": "execute_result"
    }
   ],
   "source": [
    "df_scores.sort_values(\"accuracy_test\", ascending = False).head(20)"
   ]
  },
  {
   "cell_type": "code",
   "execution_count": 20,
   "id": "b4d0d165",
   "metadata": {},
   "outputs": [
    {
     "data": {
      "text/plain": [
       "Text(0.5, 1.0, 'Model Accuracy ')"
      ]
     },
     "execution_count": 20,
     "metadata": {},
     "output_type": "execute_result"
    },
    {
     "data": {
      "image/png": "[encoded data removed]",
      "text/plain": [
       "<Figure size 432x288 with 1 Axes>"
      ]
     },
     "metadata": {
      "needs_background": "light"
     },
     "output_type": "display_data"
    }
   ],
   "source": [
    "ax = plt.Figure()\n",
    "\n",
    "plot1 = df_scores.sort_values(\"accuracy_test\", ascending = True).plot(kind= \"barh\", x= \"name\", y = \"accuracy_test\", legend=None)\n",
    "plt.xlim([0,1])\n",
    "plot1.set_xlabel('Accuracy Test', fontsize = 12)\n",
    "plot1.set_ylabel('', fontsize = 12)\n",
    "plot1.set_title('Model Accuracy ', fontsize = 16)"
   ]
  },
  {
   "cell_type": "markdown",
   "id": "e875060b",
   "metadata": {},
   "source": [
    "Good! Now we will take the best candidates and optimaze them."
   ]
  },
  {
   "cell_type": "markdown",
   "id": "b5958ea5",
   "metadata": {},
   "source": [
    "## XGBoost"
   ]
  },
  {
   "cell_type": "markdown",
   "id": "c93a3534",
   "metadata": {},
   "source": [
    "We start with the best one: XGBoost. To find the best paramters we use a RandomizedSearch and then a GridSearch around the best parameters combination from the previous step"
   ]
  },
  {
   "cell_type": "code",
   "execution_count": 21,
   "id": "0e9aa47c",
   "metadata": {},
   "outputs": [
    {
     "data": {
      "text/plain": [
       "'\\nparam_grid_xgb = {\\n    \\'n_estimators\\': [100],\\n    \\'max_depth\\': list(range(3,15)),\\n    \"learning_rate\": np.linspace(0.0001, 1).astype(float),\\n    \\'booster\\': [\"gbtree\"]}\\n\\n# Instantiate random search and define the metric to optimize \\nrs_xgb = RandomizedSearchCV(xgb.XGBClassifier(random_state = RSEED,n_jobs = -1), param_grid_xgb, scoring=\\'accuracy\\',\\n                  cv=5, verbose=5, n_jobs=-1, n_iter=10, random_state = RSEED)\\n\\n# Fit randomized search object to data\\nrs_xgb.fit(X_train_prep, y_train)\\n\\nrs_xgb.best_params_\\n'"
      ]
     },
     "execution_count": 21,
     "metadata": {},
     "output_type": "execute_result"
    }
   ],
   "source": [
    "##Cell used for the optimization\n",
    "'''\n",
    "param_grid_xgb = {\n",
    "    'n_estimators': [100],\n",
    "    'max_depth': list(range(3,15)),\n",
    "    \"learning_rate\": np.linspace(0.0001, 1).astype(float),\n",
    "    'booster': [\"gbtree\"]}\n",
    "\n",
    "# Instantiate random search and define the metric to optimize \n",
    "rs_xgb = RandomizedSearchCV(xgb.XGBClassifier(random_state = RSEED,n_jobs = -1), param_grid_xgb, scoring='accuracy',\n",
    "                  cv=5, verbose=5, n_jobs=-1, n_iter=10, random_state = RSEED)\n",
    "\n",
    "# Fit randomized search object to data\n",
    "rs_xgb.fit(X_train_prep, y_train)\n",
    "\n",
    "rs_xgb.best_params_\n",
    "'''"
   ]
  },
  {
   "cell_type": "code",
   "execution_count": 22,
   "id": "d058fb0e",
   "metadata": {},
   "outputs": [
    {
     "data": {
      "text/plain": [
       "'\\nparam_grid_xgb = {\\n    \\'n_estimators\\': [100],\\n    \\'max_depth\\' : [9],\\n    \"learning_rate\": list(np.linspace(0.1,0.2,3)),\\n    \\'booster\\': [\"gbtree\"]}\\n\\ngrid_xgb = GridSearchCV(xgb.XGBClassifier(random_state = RSEED, n_jobs = -1), param_grid=param_grid_xgb, cv=5, scoring=\\'accuracy\\', \\n                           verbose=5, n_jobs=-1)\\ngrid_xgb.fit(X_train_prep, y_train)\\n\\nbest_xgb = grid_xgb.best_estimator_\\n'"
      ]
     },
     "execution_count": 22,
     "metadata": {},
     "output_type": "execute_result"
    }
   ],
   "source": [
    "# parameters around  the best model of the Random Search {'n_estimators': 25,'max_depth': 7,'learning_rate': 0.34700408163265306, 'booster': 'gbtree'}\n",
    "\n",
    "'''\n",
    "param_grid_xgb = {\n",
    "    'n_estimators': [100],\n",
    "    'max_depth' : [9],\n",
    "    \"learning_rate\": list(np.linspace(0.1,0.2,3)),\n",
    "    'booster': [\"gbtree\"]}\n",
    "\n",
    "grid_xgb = GridSearchCV(xgb.XGBClassifier(random_state = RSEED, n_jobs = -1), param_grid=param_grid_xgb, cv=5, scoring='accuracy', \n",
    "                           verbose=5, n_jobs=-1)\n",
    "grid_xgb.fit(X_train_prep, y_train)\n",
    "\n",
    "best_xgb = grid_xgb.best_estimator_\n",
    "'''"
   ]
  },
  {
   "cell_type": "code",
   "execution_count": 26,
   "id": "3ea3af39",
   "metadata": {},
   "outputs": [],
   "source": [
    "best_xgb = xgb.XGBClassifier(random_state = RSEED, n_jobs = -1,\n",
    "                             n_estimators = 100, booster = \"gbtree\",\n",
    "                             learning_rate = 0.1, max_depth = 9,\n",
    "                            eval_metric = \"error\")\n",
    "\n",
    "best_xgb.fit(X_train_prep, y_train)\n",
    "y_train_pred = best_xgb.predict(X_train_prep)\n",
    "y_pred = best_xgb.predict(X_test_prep)\n",
    "\n",
    "#grid_xgb.best_params_"
   ]
  },
  {
   "cell_type": "code",
   "execution_count": 27,
   "id": "8e7e0405",
   "metadata": {},
   "outputs": [
    {
     "name": "stdout",
     "output_type": "stream",
     "text": [
      "Cross validation scores:\n",
      "-------------------------\n",
      "Accuracy: 0.82\n",
      "Recall: 0.87\n",
      "Precision: 0.84\n",
      "\n",
      "Confusion matrix:\n",
      "-------------------------\n",
      "[[42540 14525]\n",
      " [11402 78823]]\n",
      "Cross validation scores:\n",
      "-------------------------\n",
      "Accuracy: 0.80\n",
      "Recall: 0.85\n",
      "Precision: 0.82\n",
      "\n",
      "Confusion matrix:\n",
      "-------------------------\n",
      "[[10174  4131]\n",
      " [ 3406 19112]]\n"
     ]
    }
   ],
   "source": [
    "print_scores(y_train, y_train_pred)\n",
    "print_scores(y_test, y_pred)"
   ]
  },
  {
   "cell_type": "markdown",
   "id": "5cef6fc2",
   "metadata": {},
   "source": [
    "Well, we got an extra % of accuracy. Let us check out which are the most important parameters in our model."
   ]
  },
  {
   "cell_type": "code",
   "execution_count": 28,
   "id": "7b7f4afe",
   "metadata": {},
   "outputs": [
    {
     "data": {
      "image/png": "[encoded data removed]",
      "text/plain": [
       "<Figure size 720x504 with 1 Axes>"
      ]
     },
     "metadata": {
      "needs_background": "light"
     },
     "output_type": "display_data"
    }
   ],
   "source": [
    "hot_encoder = preprocessor.named_transformers_[\"cat\"]['1hot']\n",
    "hot_encoder_names = hot_encoder.get_feature_names()\n",
    "column_names = num_features + list(hot_encoder_names)\n",
    "\n",
    "importance = list(best_xgb.feature_importances_)\n",
    "\n",
    "\n",
    "fig, ax = plt.subplots(figsize = (10,7))\n",
    "\n",
    "df_importance = pd.DataFrame({\"Feature\": column_names, \"Importance\": importance})\n",
    "df_importance.sort_values(\"Importance\", ascending = True, inplace = True)\n",
    "\n",
    "ax.barh(df_importance[\"Feature\"].tail(10), df_importance[\"Importance\"].tail(10))\n",
    "\n",
    "ax.set_xlabel('Feature importance %', fontsize = 14)\n",
    "ax.set_ylabel('', fontsize = 12)\n",
    "ax.set_title('Top10 Features', fontsize = 20)\n",
    "\n",
    "plt.savefig('Features_importance.png', transparent=True)"
   ]
  },
  {
   "cell_type": "code",
   "execution_count": 29,
   "id": "62c30954",
   "metadata": {},
   "outputs": [],
   "source": [
    "model_name.append(\"XGBoost optimized\")\n",
    "\n",
    "accuracy.append(accuracy_score(y_train, y_train_pred))\n",
    "recall.append(recall_score(y_train, y_train_pred))\n",
    "precision.append(precision_score(y_train, y_train_pred))\n",
    "    \n",
    "accuracy_test.append(accuracy_score(y_test, y_pred))\n",
    "recall_test.append(recall_score(y_test, y_pred))\n",
    "precision_test.append(precision_score(y_test, y_pred))"
   ]
  },
  {
   "cell_type": "markdown",
   "id": "29a224ec",
   "metadata": {},
   "source": [
    "## AdaBoost"
   ]
  },
  {
   "cell_type": "markdown",
   "id": "c361cdb8",
   "metadata": {},
   "source": [
    "We use the same strategy to optimize the AdaBoost model."
   ]
  },
  {
   "cell_type": "code",
   "execution_count": 30,
   "id": "4dc4aeb2",
   "metadata": {},
   "outputs": [
    {
     "data": {
      "text/plain": [
       "\"'\\n\\nparam_grid_ada = {\\n    'n_estimators': np.linspace(100, 500, 20).astype(int)}\\n\\n# Instantiate random search and define the metric to optimize \\nrs_ada = RandomizedSearchCV(AdaBoostClassifier(random_state=RSEED), param_grid_ada, scoring='accuracy',\\n                  cv=5, verbose=5, n_jobs=-1, n_iter=10, random_state=RSEED)\\n\\n# Fit randomized search object to data\\nrs_ada.fit(X_train_prep, y_train)\\n\\nbest_ada = rs_ada.best_estimator_\\n\\ny_train_pred = best_ada.predict(X_train_prep)\\ny_pred = best_ada.predict(X_test_prep)\\nrs_ada.best_params_\\nprint_scores(y_train, y_train_pred)\\nprint_scores(y_test, y_pred)\\n\""
      ]
     },
     "execution_count": 30,
     "metadata": {},
     "output_type": "execute_result"
    }
   ],
   "source": [
    "''''\n",
    "\n",
    "param_grid_ada = {\n",
    "    'n_estimators': np.linspace(100, 500, 20).astype(int)}\n",
    "\n",
    "# Instantiate random search and define the metric to optimize \n",
    "rs_ada = RandomizedSearchCV(AdaBoostClassifier(random_state=RSEED), param_grid_ada, scoring='accuracy',\n",
    "                  cv=5, verbose=5, n_jobs=-1, n_iter=10, random_state=RSEED)\n",
    "\n",
    "# Fit randomized search object to data\n",
    "rs_ada.fit(X_train_prep, y_train)\n",
    "\n",
    "best_ada = rs_ada.best_estimator_\n",
    "\n",
    "y_train_pred = best_ada.predict(X_train_prep)\n",
    "y_pred = best_ada.predict(X_test_prep)\n",
    "rs_ada.best_params_\n",
    "print_scores(y_train, y_train_pred)\n",
    "print_scores(y_test, y_pred)\n",
    "'''"
   ]
  },
  {
   "cell_type": "code",
   "execution_count": 31,
   "id": "aa684355",
   "metadata": {},
   "outputs": [
    {
     "data": {
      "text/plain": [
       "'\\nparam_grid_ada = {\\n    \\'n_estimators\\': np.linspace(150, 250, 3).astype(int),\\n    \"learning_rate\": np.linspace(0.5, 1, 3).astype(float)}\\n\\ngrid_ada = GridSearchCV(AdaBoostClassifier(random_state=RSEED), param_grid=param_grid_ada, cv=5, scoring=\\'accuracy\\', \\n                           verbose=5, n_jobs=-1)\\n\\ngrid_ada.fit(X_train_prep, y_train)\\n\\nbest_grid_ada = grid_ada.best_estimator_\\n\\ny_train_pred = best_grid_ada.predict(X_train_prep)\\ny_pred = best_grid_ada.predict(X_test_prep)\\n\\ngrid_ada.best_params_\\n'"
      ]
     },
     "execution_count": 31,
     "metadata": {},
     "output_type": "execute_result"
    }
   ],
   "source": [
    "\n",
    "'''\n",
    "param_grid_ada = {\n",
    "    'n_estimators': np.linspace(150, 250, 3).astype(int),\n",
    "    \"learning_rate\": np.linspace(0.5, 1, 3).astype(float)}\n",
    "\n",
    "grid_ada = GridSearchCV(AdaBoostClassifier(random_state=RSEED), param_grid=param_grid_ada, cv=5, scoring='accuracy', \n",
    "                           verbose=5, n_jobs=-1)\n",
    "\n",
    "grid_ada.fit(X_train_prep, y_train)\n",
    "\n",
    "best_grid_ada = grid_ada.best_estimator_\n",
    "\n",
    "y_train_pred = best_grid_ada.predict(X_train_prep)\n",
    "y_pred = best_grid_ada.predict(X_test_prep)\n",
    "\n",
    "grid_ada.best_params_\n",
    "'''"
   ]
  },
  {
   "cell_type": "code",
   "execution_count": 32,
   "id": "7240bab1",
   "metadata": {},
   "outputs": [
    {
     "name": "stdout",
     "output_type": "stream",
     "text": [
      "Cross validation scores:\n",
      "-------------------------\n",
      "Accuracy: 0.78\n",
      "Recall: 0.83\n",
      "Precision: 0.81\n",
      "\n",
      "Confusion matrix:\n",
      "-------------------------\n",
      "[[39300 17765]\n",
      " [15226 74999]]\n",
      "Cross validation scores:\n",
      "-------------------------\n",
      "Accuracy: 0.78\n",
      "Recall: 0.83\n",
      "Precision: 0.81\n",
      "\n",
      "Confusion matrix:\n",
      "-------------------------\n",
      "[[ 9944  4361]\n",
      " [ 3902 18616]]\n"
     ]
    }
   ],
   "source": [
    "ada2 = AdaBoostClassifier(n_estimators=225, learning_rate=1.0, random_state=RSEED)\n",
    "ada2.fit(X_train_prep, y_train)\n",
    "\n",
    "y_train_pred = ada2.predict(X_train_prep)\n",
    "y_pred = ada2.predict(X_test_prep)\n",
    "\n",
    "print_scores(y_train, y_train_pred)\n",
    "print_scores(y_test, y_pred)"
   ]
  },
  {
   "cell_type": "code",
   "execution_count": 33,
   "id": "f32ac76d",
   "metadata": {},
   "outputs": [],
   "source": [
    "model_name.append(\"AdaBoost optimized\")\n",
    "\n",
    "accuracy.append(accuracy_score(y_train, y_train_pred))\n",
    "recall.append(recall_score(y_train, y_train_pred))\n",
    "precision.append(precision_score(y_train, y_train_pred))\n",
    "    \n",
    "accuracy_test.append(accuracy_score(y_test, y_pred))\n",
    "recall_test.append(recall_score(y_test, y_pred))\n",
    "precision_test.append(precision_score(y_test, y_pred))"
   ]
  },
  {
   "cell_type": "markdown",
   "id": "2e97efba",
   "metadata": {},
   "source": [
    "## Voting Classifier"
   ]
  },
  {
   "cell_type": "code",
   "execution_count": null,
   "id": "bb0edd2e",
   "metadata": {},
   "outputs": [],
   "source": [
    "from sklearn.ensemble import VotingClassifier\n",
    "\n",
    "# Cell used for the optimization\n",
    "# {'rf__n_estimators': 200,'rf__max_features': 8,'rf__max_depth': 10,'dt__max_depth': 10}\n",
    "\n",
    "'''\n",
    "clf1 = DecisionTreeClassifier(random_state=RSEED)\n",
    "clf2 = RandomForestClassifier(random_state=RSEED)\n",
    "clf3 = LogisticRegression(random_state=RSEED)\n",
    "\n",
    "params = {'dt__max_depth': [5, 10], 'rf__n_estimators': [20, 200],'rf__max_depth': [5, 10], 'rf__max_features': [6, 8], }\n",
    "\n",
    "eclf = VotingClassifier(estimators=[('dt', clf1), ('rf', clf2), ('lr', clf3)], voting='hard')\n",
    "\n",
    "random_search = RandomizedSearchCV(eclf, param_distributions=params,n_iter=4)\n",
    "random_search.fit(X_train_prep, y_train)\n",
    "\n",
    "best_rs = random_search.best_estimator_\n",
    "random_search.best_params_\n",
    "\n",
    "'''"
   ]
  },
  {
   "cell_type": "code",
   "execution_count": null,
   "id": "0ba09e63",
   "metadata": {},
   "outputs": [],
   "source": [
    "clf1 = DecisionTreeClassifier(random_state=RSEED, max_depth = 10)\n",
    "clf2 = RandomForestClassifier(random_state=RSEED, max_depth = 10, max_features = 8, n_estimators = 200)\n",
    "clf3 = LogisticRegression(random_state=RSEED)\n",
    "\n",
    "eclf = VotingClassifier(estimators=[('dt', clf1), ('rf', clf2), ('lr', clf3)], voting='hard')"
   ]
  },
  {
   "cell_type": "code",
   "execution_count": null,
   "id": "907d639d",
   "metadata": {},
   "outputs": [],
   "source": [
    "y_train_pred = best_rs.predict(X_train_prep)\n",
    "y_pred = best_rs.predict(X_test_prep)\n",
    "\n",
    "print_scores(y_train, y_train_pred)\n",
    "print_scores(y_test, y_pred)"
   ]
  },
  {
   "cell_type": "code",
   "execution_count": null,
   "id": "61b283fe",
   "metadata": {},
   "outputs": [],
   "source": [
    "model_name.append(\"Voting Classifier\")\n",
    "\n",
    "accuracy.append(accuracy_score(y_train, y_train_pred))\n",
    "recall.append(recall_score(y_train, y_train_pred))\n",
    "precision.append(precision_score(y_train, y_train_pred))\n",
    "    \n",
    "accuracy_test.append(accuracy_score(y_test, y_pred))\n",
    "recall_test.append(recall_score(y_test, y_pred))\n",
    "precision_test.append(precision_score(y_test, y_pred))"
   ]
  },
  {
   "cell_type": "code",
   "execution_count": null,
   "id": "4dfba78c",
   "metadata": {},
   "outputs": [],
   "source": [
    "df_scores = pd.DataFrame({\"name\": model_name,\n",
    "                         \"accuracy_train\": accuracy,\n",
    "                         \"recall_train\": recall,\n",
    "                         \"precission_train\": precision,\n",
    "                         \"accuracy_test\": accuracy_test,\n",
    "                         \"recall_test\": recall_test,\n",
    "                         \"precission_test\": precision_test,\n",
    "                         })"
   ]
  },
  {
   "cell_type": "code",
   "execution_count": null,
   "id": "69cbed5c",
   "metadata": {},
   "outputs": [],
   "source": [
    "df_scores.sort_values(\"accuracy_test\", ascending = True , inplace= True)\n",
    "\n",
    "fig, ax = plt.subplots(figsize = (10,7))\n",
    "\n",
    "color_list = [\"lightblue\"] * len(df_scores[\"name\"].to_list())\n",
    "\n",
    "color_list[-1] = \"lightgreen\"\n",
    "color_list[-3] = \"lightgreen\"\n",
    "color_list[-4] = \"lightgreen\"\n",
    "\n",
    "#plot1 = df_scores.sort_values(\"accuracy_test\", ascending = True).plot\n",
    "\n",
    "hbars = ax.barh(df_scores[\"name\"], df_scores[\"accuracy_test\"], align='center', color =color_list)\n",
    "\n",
    "plt.xlim([0,1])\n",
    "\n",
    "ax.set_xlabel('Accuracy Test', fontsize = 12)\n",
    "ax.set_ylabel('.')\n",
    "ax.set_title('Model Accuracy ', fontsize = 24)\n",
    "\n",
    "plt.savefig('Models_accuracy.png', transparent=False)"
   ]
  },
  {
   "cell_type": "code",
   "execution_count": null,
   "id": "950b9f7c",
   "metadata": {},
   "outputs": [],
   "source": []
  }
 ],
 "metadata": {
  "kernelspec": {
   "display_name": "Python 3",
   "language": "python",
   "name": "python3"
  },
  "language_info": {
   "codemirror_mode": {
    "name": "ipython",
    "version": 3
   },
   "file_extension": ".py",
   "mimetype": "text/x-python",
   "name": "python",
   "nbconvert_exporter": "python",
   "pygments_lexer": "ipython3",
   "version": "3.8.5"
  }
 },
 "nbformat": 4,
 "nbformat_minor": 5
}
