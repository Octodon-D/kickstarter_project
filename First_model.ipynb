{
 "cells": [
  {
   "cell_type": "markdown",
   "id": "0fca739a",
   "metadata": {},
   "source": [
    "# Fitting the model"
   ]
  },
  {
   "cell_type": "markdown",
   "id": "e13c07f9",
   "metadata": {},
   "source": [
    "## Data Preprocessing"
   ]
  },
  {
   "cell_type": "markdown",
   "id": "051c0fdf",
   "metadata": {},
   "source": [
    "First we need to import the libraries and the data."
   ]
  },
  {
   "cell_type": "code",
   "execution_count": 1,
   "id": "b23fc852",
   "metadata": {},
   "outputs": [],
   "source": [
    "import numpy as np\n",
    "import pandas as pd\n",
    "import warnings\n",
    "import matplotlib.pyplot as plt\n",
    "import seaborn as sns\n",
    "\n",
    "from sklearn.pipeline import Pipeline\n",
    "from sklearn.compose import ColumnTransformer\n",
    "from sklearn.preprocessing import OneHotEncoder, StandardScaler\n",
    "from sklearn.impute import SimpleImputer\n",
    "from sklearn.model_selection import train_test_split\n",
    "from sklearn.model_selection import GridSearchCV, RandomizedSearchCV\n",
    "from sklearn.model_selection import cross_val_predict, cross_val_score, cross_validate\n",
    "from sklearn.metrics import roc_curve, confusion_matrix, accuracy_score, recall_score, precision_score\n",
    "\n",
    "from sklearn.linear_model import LogisticRegression\n",
    "\n",
    "# Set random seed \n",
    "RSEED = 42\n",
    "warnings.filterwarnings(\"ignore\")"
   ]
  },
  {
   "cell_type": "code",
   "execution_count": 2,
   "id": "174b816a",
   "metadata": {},
   "outputs": [
    {
     "data": {
      "text/html": [
       "<div>\n",
       "<style scoped>\n",
       "    .dataframe tbody tr th:only-of-type {\n",
       "        vertical-align: middle;\n",
       "    }\n",
       "\n",
       "    .dataframe tbody tr th {\n",
       "        vertical-align: top;\n",
       "    }\n",
       "\n",
       "    .dataframe thead th {\n",
       "        text-align: right;\n",
       "    }\n",
       "</style>\n",
       "<table border=\"1\" class=\"dataframe\">\n",
       "  <thead>\n",
       "    <tr style=\"text-align: right;\">\n",
       "      <th></th>\n",
       "      <th>backers_count</th>\n",
       "      <th>country</th>\n",
       "      <th>disable_communication</th>\n",
       "      <th>id</th>\n",
       "      <th>is_starrable</th>\n",
       "      <th>name</th>\n",
       "      <th>staff_pick</th>\n",
       "      <th>state</th>\n",
       "      <th>usd_pledged</th>\n",
       "      <th>usd_type</th>\n",
       "      <th>...</th>\n",
       "      <th>subcategory</th>\n",
       "      <th>city</th>\n",
       "      <th>region</th>\n",
       "      <th>city_type</th>\n",
       "      <th>creator_id</th>\n",
       "      <th>creator_num_projects</th>\n",
       "      <th>words_blurb</th>\n",
       "      <th>polarity_blurb</th>\n",
       "      <th>subjectivity_blurb</th>\n",
       "      <th>goal_usd</th>\n",
       "    </tr>\n",
       "  </thead>\n",
       "  <tbody>\n",
       "    <tr>\n",
       "      <th>0</th>\n",
       "      <td>21</td>\n",
       "      <td>US</td>\n",
       "      <td>False</td>\n",
       "      <td>287514992</td>\n",
       "      <td>False</td>\n",
       "      <td>New Final Round Album</td>\n",
       "      <td>0</td>\n",
       "      <td>1</td>\n",
       "      <td>802.00000</td>\n",
       "      <td>international</td>\n",
       "      <td>...</td>\n",
       "      <td>Rock</td>\n",
       "      <td>Chicago</td>\n",
       "      <td>IL</td>\n",
       "      <td>Town</td>\n",
       "      <td>1495925645</td>\n",
       "      <td>1</td>\n",
       "      <td>26</td>\n",
       "      <td>0.178788</td>\n",
       "      <td>0.518182</td>\n",
       "      <td>200.0000</td>\n",
       "    </tr>\n",
       "    <tr>\n",
       "      <th>1</th>\n",
       "      <td>97</td>\n",
       "      <td>US</td>\n",
       "      <td>False</td>\n",
       "      <td>385129759</td>\n",
       "      <td>False</td>\n",
       "      <td>Princess Pals Enamel Pin Series</td>\n",
       "      <td>0</td>\n",
       "      <td>1</td>\n",
       "      <td>2259.00000</td>\n",
       "      <td>international</td>\n",
       "      <td>...</td>\n",
       "      <td>Mixed Media</td>\n",
       "      <td>Sacramento</td>\n",
       "      <td>CA</td>\n",
       "      <td>Town</td>\n",
       "      <td>1175589980</td>\n",
       "      <td>4</td>\n",
       "      <td>9</td>\n",
       "      <td>0.625000</td>\n",
       "      <td>1.000000</td>\n",
       "      <td>400.0000</td>\n",
       "    </tr>\n",
       "    <tr>\n",
       "      <th>2</th>\n",
       "      <td>88</td>\n",
       "      <td>US</td>\n",
       "      <td>False</td>\n",
       "      <td>681033598</td>\n",
       "      <td>False</td>\n",
       "      <td>Their Life Through Their Lens-the Amish and Me...</td>\n",
       "      <td>1</td>\n",
       "      <td>1</td>\n",
       "      <td>29638.00000</td>\n",
       "      <td>international</td>\n",
       "      <td>...</td>\n",
       "      <td>Photobooks</td>\n",
       "      <td>Columbus</td>\n",
       "      <td>OH</td>\n",
       "      <td>Town</td>\n",
       "      <td>1196856269</td>\n",
       "      <td>2</td>\n",
       "      <td>25</td>\n",
       "      <td>0.225000</td>\n",
       "      <td>0.366667</td>\n",
       "      <td>27224.0000</td>\n",
       "    </tr>\n",
       "    <tr>\n",
       "      <th>3</th>\n",
       "      <td>193</td>\n",
       "      <td>IT</td>\n",
       "      <td>False</td>\n",
       "      <td>1031782682</td>\n",
       "      <td>False</td>\n",
       "      <td>WAO: THE ECO EFFECT SHOES</td>\n",
       "      <td>0</td>\n",
       "      <td>1</td>\n",
       "      <td>49075.15252</td>\n",
       "      <td>international</td>\n",
       "      <td>...</td>\n",
       "      <td>Footwear</td>\n",
       "      <td>Venice</td>\n",
       "      <td>Veneto</td>\n",
       "      <td>Town</td>\n",
       "      <td>1569700626</td>\n",
       "      <td>2</td>\n",
       "      <td>13</td>\n",
       "      <td>0.000000</td>\n",
       "      <td>0.100000</td>\n",
       "      <td>45461.0028</td>\n",
       "    </tr>\n",
       "    <tr>\n",
       "      <th>4</th>\n",
       "      <td>20</td>\n",
       "      <td>US</td>\n",
       "      <td>False</td>\n",
       "      <td>904085819</td>\n",
       "      <td>False</td>\n",
       "      <td>Apple Watch Development Course</td>\n",
       "      <td>0</td>\n",
       "      <td>0</td>\n",
       "      <td>549.00000</td>\n",
       "      <td>domestic</td>\n",
       "      <td>...</td>\n",
       "      <td>Software</td>\n",
       "      <td>Redmond</td>\n",
       "      <td>WA</td>\n",
       "      <td>Town</td>\n",
       "      <td>1870845385</td>\n",
       "      <td>1</td>\n",
       "      <td>22</td>\n",
       "      <td>0.156250</td>\n",
       "      <td>0.400000</td>\n",
       "      <td>1000.0000</td>\n",
       "    </tr>\n",
       "  </tbody>\n",
       "</table>\n",
       "<p>5 rows × 29 columns</p>\n",
       "</div>"
      ],
      "text/plain": [
       "   backers_count country  disable_communication          id  is_starrable  \\\n",
       "0             21      US                  False   287514992         False   \n",
       "1             97      US                  False   385129759         False   \n",
       "2             88      US                  False   681033598         False   \n",
       "3            193      IT                  False  1031782682         False   \n",
       "4             20      US                  False   904085819         False   \n",
       "\n",
       "                                                name  staff_pick  state  \\\n",
       "0                              New Final Round Album           0      1   \n",
       "1                    Princess Pals Enamel Pin Series           0      1   \n",
       "2  Their Life Through Their Lens-the Amish and Me...           1      1   \n",
       "3                          WAO: THE ECO EFFECT SHOES           0      1   \n",
       "4                     Apple Watch Development Course           0      0   \n",
       "\n",
       "   usd_pledged       usd_type  ...  subcategory        city  region  \\\n",
       "0    802.00000  international  ...         Rock     Chicago      IL   \n",
       "1   2259.00000  international  ...  Mixed Media  Sacramento      CA   \n",
       "2  29638.00000  international  ...   Photobooks    Columbus      OH   \n",
       "3  49075.15252  international  ...     Footwear      Venice  Veneto   \n",
       "4    549.00000       domestic  ...     Software     Redmond      WA   \n",
       "\n",
       "   city_type  creator_id  creator_num_projects  words_blurb  polarity_blurb  \\\n",
       "0       Town  1495925645                     1           26        0.178788   \n",
       "1       Town  1175589980                     4            9        0.625000   \n",
       "2       Town  1196856269                     2           25        0.225000   \n",
       "3       Town  1569700626                     2           13        0.000000   \n",
       "4       Town  1870845385                     1           22        0.156250   \n",
       "\n",
       "  subjectivity_blurb    goal_usd  \n",
       "0           0.518182    200.0000  \n",
       "1           1.000000    400.0000  \n",
       "2           0.366667  27224.0000  \n",
       "3           0.100000  45461.0028  \n",
       "4           0.400000   1000.0000  \n",
       "\n",
       "[5 rows x 29 columns]"
      ]
     },
     "execution_count": 2,
     "metadata": {},
     "output_type": "execute_result"
    }
   ],
   "source": [
    "df = pd.read_csv('data/data_clean_outlier.csv', index_col = 0)\n",
    "df.head()"
   ]
  },
  {
   "cell_type": "code",
   "execution_count": 3,
   "id": "a8c930c4",
   "metadata": {},
   "outputs": [
    {
     "name": "stdout",
     "output_type": "stream",
     "text": [
      "<class 'pandas.core.frame.DataFrame'>\n",
      "Int64Index: 184367 entries, 0 to 209221\n",
      "Data columns (total 29 columns):\n",
      " #   Column                 Non-Null Count   Dtype  \n",
      "---  ------                 --------------   -----  \n",
      " 0   backers_count          184367 non-null  int64  \n",
      " 1   country                184367 non-null  object \n",
      " 2   disable_communication  184367 non-null  bool   \n",
      " 3   id                     184367 non-null  int64  \n",
      " 4   is_starrable           184367 non-null  bool   \n",
      " 5   name                   184367 non-null  object \n",
      " 6   staff_pick             184367 non-null  int64  \n",
      " 7   state                  184367 non-null  int64  \n",
      " 8   usd_pledged            184367 non-null  float64\n",
      " 9   usd_type               184330 non-null  object \n",
      " 10  yr_launched            184367 non-null  int64  \n",
      " 11  mo_launched            184367 non-null  int64  \n",
      " 12  wd_launched            184367 non-null  int64  \n",
      " 13  yr_deadline            184367 non-null  int64  \n",
      " 14  mo_deadline            184367 non-null  int64  \n",
      " 15  wd_deadline            184367 non-null  int64  \n",
      " 16  founding_phase         184367 non-null  int64  \n",
      " 17  phase_before           184367 non-null  int64  \n",
      " 18  main_category          176308 non-null  object \n",
      " 19  subcategory            184367 non-null  object \n",
      " 20  city                   184152 non-null  object \n",
      " 21  region                 184152 non-null  object \n",
      " 22  city_type              184152 non-null  object \n",
      " 23  creator_id             184367 non-null  int64  \n",
      " 24  creator_num_projects   184367 non-null  int64  \n",
      " 25  words_blurb            184367 non-null  int64  \n",
      " 26  polarity_blurb         184367 non-null  float64\n",
      " 27  subjectivity_blurb     184367 non-null  float64\n",
      " 28  goal_usd               184367 non-null  float64\n",
      "dtypes: bool(2), float64(4), int64(15), object(8)\n",
      "memory usage: 39.7+ MB\n"
     ]
    }
   ],
   "source": [
    "df.info()"
   ]
  },
  {
   "cell_type": "markdown",
   "id": "ff4f52c7",
   "metadata": {},
   "source": [
    "Let us delete all the variables that are not going to be useful in our model:\n",
    "+ **\"id\", \"creator_id\", \"name\"**: are not interesting to make a prediction\n",
    "+ **\"disable_communication\", \"is starrable\"**: only False\n",
    "+ **\"city\", \"region\"**: these two variables will create too many columns in the One Hot encoding process. We keep \"country\"\n",
    "+ **\"yr_deadline\",\"mo_deadline\", \"wd_deadline\"**: these variables are hihgly correlated with the launching date and \"funding_phase\""
   ]
  },
  {
   "cell_type": "code",
   "execution_count": 4,
   "id": "1e8dc719",
   "metadata": {},
   "outputs": [],
   "source": [
    "df.dropna(\n",
    "    axis=0,\n",
    "    how='any',\n",
    "    thresh=None,\n",
    "    subset=None,\n",
    "    inplace=True\n",
    ")"
   ]
  },
  {
   "cell_type": "code",
   "execution_count": 5,
   "id": "2e3ce14b",
   "metadata": {},
   "outputs": [
    {
     "name": "stdout",
     "output_type": "stream",
     "text": [
      "<class 'pandas.core.frame.DataFrame'>\n",
      "Int64Index: 176076 entries, 0 to 209221\n",
      "Data columns (total 20 columns):\n",
      " #   Column                 Non-Null Count   Dtype  \n",
      "---  ------                 --------------   -----  \n",
      " 0   backers_count          176076 non-null  int64  \n",
      " 1   country                176076 non-null  object \n",
      " 2   disable_communication  176076 non-null  bool   \n",
      " 3   is_starrable           176076 non-null  bool   \n",
      " 4   staff_pick             176076 non-null  int64  \n",
      " 5   state                  176076 non-null  int64  \n",
      " 6   usd_pledged            176076 non-null  float64\n",
      " 7   usd_type               176076 non-null  object \n",
      " 8   yr_launched            176076 non-null  int64  \n",
      " 9   mo_launched            176076 non-null  int64  \n",
      " 10  wd_launched            176076 non-null  int64  \n",
      " 11  founding_phase         176076 non-null  int64  \n",
      " 12  phase_before           176076 non-null  int64  \n",
      " 13  main_category          176076 non-null  object \n",
      " 14  city_type              176076 non-null  object \n",
      " 15  creator_num_projects   176076 non-null  int64  \n",
      " 16  words_blurb            176076 non-null  int64  \n",
      " 17  polarity_blurb         176076 non-null  float64\n",
      " 18  subjectivity_blurb     176076 non-null  float64\n",
      " 19  goal_usd               176076 non-null  float64\n",
      "dtypes: bool(2), float64(4), int64(10), object(4)\n",
      "memory usage: 25.9+ MB\n"
     ]
    }
   ],
   "source": [
    "df.drop(['id', 'name', 'yr_deadline',\"mo_deadline\", \"wd_deadline\", \"city\", \"region\",\"subcategory\",\"creator_id\"], axis=1, inplace=True)  \n",
    "df.info()"
   ]
  },
  {
   "cell_type": "markdown",
   "id": "0afcc6c4",
   "metadata": {},
   "source": [
    "We split the variables in Categorical and Numerical variables."
   ]
  },
  {
   "cell_type": "code",
   "execution_count": 6,
   "id": "45c85b8d",
   "metadata": {},
   "outputs": [],
   "source": [
    "cat_features = list(df.columns[df.dtypes==object])\n",
    "\n",
    "num_features = list(df.columns[df.dtypes!=object])\n",
    "\n",
    "num_features.remove('usd_pledged')\n",
    "num_features.remove(\"backers_count\")\n",
    "num_features.remove(\"state\")"
   ]
  },
  {
   "cell_type": "markdown",
   "id": "d248846e",
   "metadata": {},
   "source": [
    " We also split the target of the data and then into Train and Test."
   ]
  },
  {
   "cell_type": "code",
   "execution_count": 7,
   "id": "9e094d41",
   "metadata": {},
   "outputs": [
    {
     "name": "stdout",
     "output_type": "stream",
     "text": [
      "We have 176076 observations in our dataset and 17 features\n",
      "Our target vector has also 176076 values\n"
     ]
    }
   ],
   "source": [
    "# Define predictors and target variable\n",
    "\n",
    "X = df.drop(['usd_pledged', \"backers_count\", \"state\"], axis=1)\n",
    "y = df['state']\n",
    "\n",
    "print(f\"We have {X.shape[0]} observations in our dataset and {X.shape[1]} features\")\n",
    "print(f\"Our target vector has also {y.shape[0]} values\")"
   ]
  },
  {
   "cell_type": "code",
   "execution_count": 8,
   "id": "0fd45586",
   "metadata": {},
   "outputs": [],
   "source": [
    "X_train, X_test, y_train, y_test = train_test_split(X, y, test_size=0.2, random_state=RSEED)"
   ]
  },
  {
   "cell_type": "markdown",
   "id": "6e8a49e4",
   "metadata": {},
   "source": [
    "## First model"
   ]
  },
  {
   "cell_type": "markdown",
   "id": "f0b67b95",
   "metadata": {},
   "source": [
    "We need to set a reference in order to compare how good our model is. We will use the *Logistic Regression* for this purpose. But first we need to convert the categorical variables into numerical with a *OneHotEconde* and we will also scale the data. "
   ]
  },
  {
   "cell_type": "code",
   "execution_count": 9,
   "id": "e4d367e7",
   "metadata": {},
   "outputs": [],
   "source": [
    "num_pipeline = Pipeline([\n",
    "    ('std_scaler', StandardScaler())\n",
    "])\n",
    "\n",
    "# Pipeline for categorical features \n",
    "cat_pipeline = Pipeline([\n",
    "    ('imputer_cat', SimpleImputer(strategy='constant', fill_value='missing')),\n",
    "    ('1hot', OneHotEncoder(handle_unknown='ignore'))\n",
    "])"
   ]
  },
  {
   "cell_type": "code",
   "execution_count": 10,
   "id": "7d3fea58",
   "metadata": {},
   "outputs": [],
   "source": [
    "preprocessor = ColumnTransformer([\n",
    "    ('num', num_pipeline, num_features),\n",
    "    ('cat', cat_pipeline, cat_features)\n",
    "])"
   ]
  },
  {
   "cell_type": "code",
   "execution_count": 11,
   "id": "a7151440",
   "metadata": {},
   "outputs": [],
   "source": [
    "pipe_logreg = Pipeline([\n",
    "    ('preprocessor', preprocessor),\n",
    "    ('logreg', LogisticRegression(max_iter=1000))\n",
    "])"
   ]
  },
  {
   "cell_type": "code",
   "execution_count": 12,
   "id": "e4638f78",
   "metadata": {},
   "outputs": [],
   "source": [
    "y_train_predicted = cross_val_predict(pipe_logreg, X_train, y_train, cv=5)"
   ]
  },
  {
   "cell_type": "code",
   "execution_count": 13,
   "id": "4248a84c",
   "metadata": {},
   "outputs": [],
   "source": [
    "def print_scores(y_true, y_predicted):\n",
    "# This function prints out the scores and the confussion matrix\n",
    "\n",
    "    print('Cross validation scores:')\n",
    "    print('-------------------------')\n",
    "    print(\"Accuracy: {:.2f}\".format(accuracy_score(y_true, y_predicted)))\n",
    "    print(\"Recall: {:.2f}\".format(recall_score(y_true, y_predicted)))\n",
    "    print(\"Precision: {:.2f}\".format(precision_score(y_true, y_predicted)))\n",
    "\n",
    "    cm = confusion_matrix(y_true, y_predicted)\n",
    "    print(\"\")\n",
    "    print(\"Confusion matrix:\")\n",
    "    print('-------------------------')\n",
    "    print(cm)"
   ]
  },
  {
   "cell_type": "code",
   "execution_count": 14,
   "id": "5ee1e399",
   "metadata": {},
   "outputs": [
    {
     "name": "stdout",
     "output_type": "stream",
     "text": [
      "Cross validation scores:\n",
      "-------------------------\n",
      "Accuracy: 0.75\n",
      "Recall: 0.85\n",
      "Precision: 0.76\n",
      "\n",
      "Confusion matrix:\n",
      "-------------------------\n",
      "[[34939 22039]\n",
      " [12745 71137]]\n"
     ]
    }
   ],
   "source": [
    "print_scores(y_train, y_train_predicted)"
   ]
  },
  {
   "cell_type": "code",
   "execution_count": 15,
   "id": "d9f943bf",
   "metadata": {},
   "outputs": [],
   "source": [
    "pipe_logreg.fit(X_train, y_train)\n",
    "y_pred = pipe_logreg.predict(X_test)"
   ]
  },
  {
   "cell_type": "code",
   "execution_count": 16,
   "id": "f76494fb",
   "metadata": {},
   "outputs": [
    {
     "name": "stdout",
     "output_type": "stream",
     "text": [
      "Cross validation scores:\n",
      "-------------------------\n",
      "Accuracy: 0.76\n",
      "Recall: 0.85\n",
      "Precision: 0.77\n",
      "\n",
      "Confusion matrix:\n",
      "-------------------------\n",
      "[[ 8749  5443]\n",
      " [ 3170 17854]]\n"
     ]
    }
   ],
   "source": [
    "print_scores(y_test, y_pred)"
   ]
  },
  {
   "cell_type": "markdown",
   "id": "c948e8c9",
   "metadata": {},
   "source": [
    "## Model Benchmark"
   ]
  },
  {
   "cell_type": "markdown",
   "id": "fe747504",
   "metadata": {},
   "source": [
    "With a reference we can now try different models and see how the score, we will use the accuracy as metric."
   ]
  },
  {
   "cell_type": "code",
   "execution_count": 17,
   "id": "47f9713b",
   "metadata": {},
   "outputs": [],
   "source": [
    "from sklearn.tree import DecisionTreeClassifier\n",
    "from sklearn.ensemble import RandomForestClassifier\n",
    "from sklearn.linear_model import RidgeClassifier\n",
    "from sklearn.ensemble import AdaBoostClassifier\n",
    "import xgboost as xgb"
   ]
  },
  {
   "cell_type": "code",
   "execution_count": 18,
   "id": "d1fc0009",
   "metadata": {},
   "outputs": [
    {
     "name": "stdout",
     "output_type": "stream",
     "text": [
      "Model DecisionTree done!\n",
      "Model RandomForest done!\n",
      "Model AdaBoost done!\n",
      "Model XGBoost done!\n",
      "Model RidgeRegression done!\n",
      "Model LogisticRegression done!\n"
     ]
    }
   ],
   "source": [
    "models = [DecisionTreeClassifier(max_depth=6, random_state=RSEED ),\n",
    "        RandomForestClassifier(n_estimators=200,max_depth=6 , random_state=RSEED, n_jobs = -1), \n",
    "        AdaBoostClassifier(random_state=RSEED),        \n",
    "        xgb.XGBClassifier(random_state=RSEED, n_jobs = -1, eval_metric = \"error\"),\n",
    "        RidgeClassifier(),\n",
    "        LogisticRegression(max_iter=1000)]\n",
    "\n",
    "model_name = [\"DecisionTree\", \"RandomForest\",\"AdaBoost\",\"XGBoost\", \"RidgeRegression\", \"LogisticRegression\"]\n",
    "accuracy = []\n",
    "recall = []\n",
    "precision = []\n",
    "accuracy_test = []\n",
    "recall_test = []\n",
    "precision_test = []\n",
    "\n",
    "X_train_prep = preprocessor.fit_transform(X_train)\n",
    "X_test_prep = preprocessor.transform(X_test)\n",
    "\n",
    "k = len(models)\n",
    "\n",
    "for i in range(k):\n",
    "    model = models[i].fit(X_train_prep, y_train)  \n",
    "    y_pred = models[i].predict(X_train_prep)\n",
    "    y_pred_test = models[i].predict(X_test_prep)\n",
    "    \n",
    "    accuracy.append(accuracy_score(y_train, y_pred))\n",
    "    recall.append(recall_score(y_train, y_pred))\n",
    "    precision.append(precision_score(y_train, y_pred))\n",
    "    \n",
    "    accuracy_test.append(accuracy_score(y_test, y_pred_test))\n",
    "    recall_test.append(recall_score(y_test, y_pred_test))\n",
    "    precision_test.append(precision_score(y_test, y_pred_test))\n",
    "    \n",
    "    print(f\"Model {model_name[i]} done!\")\n",
    "\n",
    "df_scores = pd.DataFrame({\"name\": model_name,\n",
    "                         \"accuracy_train\": accuracy,\n",
    "                         \"recall_train\": recall,\n",
    "                         \"precission_train\": precision,\n",
    "                         \"accuracy_test\": accuracy_test,\n",
    "                         \"recall_test\": recall_test,\n",
    "                         \"precission_test\": precision_test,\n",
    "                         })\n"
   ]
  },
  {
   "cell_type": "code",
   "execution_count": 19,
   "id": "0a84cc84",
   "metadata": {},
   "outputs": [
    {
     "data": {
      "text/html": [
       "<div>\n",
       "<style scoped>\n",
       "    .dataframe tbody tr th:only-of-type {\n",
       "        vertical-align: middle;\n",
       "    }\n",
       "\n",
       "    .dataframe tbody tr th {\n",
       "        vertical-align: top;\n",
       "    }\n",
       "\n",
       "    .dataframe thead th {\n",
       "        text-align: right;\n",
       "    }\n",
       "</style>\n",
       "<table border=\"1\" class=\"dataframe\">\n",
       "  <thead>\n",
       "    <tr style=\"text-align: right;\">\n",
       "      <th></th>\n",
       "      <th>name</th>\n",
       "      <th>accuracy_train</th>\n",
       "      <th>recall_train</th>\n",
       "      <th>precission_train</th>\n",
       "      <th>accuracy_test</th>\n",
       "      <th>recall_test</th>\n",
       "      <th>precission_test</th>\n",
       "    </tr>\n",
       "  </thead>\n",
       "  <tbody>\n",
       "    <tr>\n",
       "      <th>3</th>\n",
       "      <td>XGBoost</td>\n",
       "      <td>0.859172</td>\n",
       "      <td>0.900920</td>\n",
       "      <td>0.867665</td>\n",
       "      <td>0.840129</td>\n",
       "      <td>0.885607</td>\n",
       "      <td>0.852362</td>\n",
       "    </tr>\n",
       "    <tr>\n",
       "      <th>2</th>\n",
       "      <td>AdaBoost</td>\n",
       "      <td>0.794789</td>\n",
       "      <td>0.842565</td>\n",
       "      <td>0.818237</td>\n",
       "      <td>0.794412</td>\n",
       "      <td>0.844131</td>\n",
       "      <td>0.817457</td>\n",
       "    </tr>\n",
       "    <tr>\n",
       "      <th>1</th>\n",
       "      <td>RandomForest</td>\n",
       "      <td>0.790217</td>\n",
       "      <td>0.897165</td>\n",
       "      <td>0.782450</td>\n",
       "      <td>0.789386</td>\n",
       "      <td>0.896689</td>\n",
       "      <td>0.782338</td>\n",
       "    </tr>\n",
       "    <tr>\n",
       "      <th>0</th>\n",
       "      <td>DecisionTree</td>\n",
       "      <td>0.783075</td>\n",
       "      <td>0.862569</td>\n",
       "      <td>0.791775</td>\n",
       "      <td>0.782031</td>\n",
       "      <td>0.861349</td>\n",
       "      <td>0.791823</td>\n",
       "    </tr>\n",
       "    <tr>\n",
       "      <th>5</th>\n",
       "      <td>LogisticRegression</td>\n",
       "      <td>0.753727</td>\n",
       "      <td>0.848692</td>\n",
       "      <td>0.763940</td>\n",
       "      <td>0.755424</td>\n",
       "      <td>0.849220</td>\n",
       "      <td>0.766365</td>\n",
       "    </tr>\n",
       "    <tr>\n",
       "      <th>4</th>\n",
       "      <td>RidgeRegression</td>\n",
       "      <td>0.718025</td>\n",
       "      <td>0.859588</td>\n",
       "      <td>0.720716</td>\n",
       "      <td>0.718736</td>\n",
       "      <td>0.859351</td>\n",
       "      <td>0.722247</td>\n",
       "    </tr>\n",
       "  </tbody>\n",
       "</table>\n",
       "</div>"
      ],
      "text/plain": [
       "                 name  accuracy_train  recall_train  precission_train  \\\n",
       "3             XGBoost        0.859172      0.900920          0.867665   \n",
       "2            AdaBoost        0.794789      0.842565          0.818237   \n",
       "1        RandomForest        0.790217      0.897165          0.782450   \n",
       "0        DecisionTree        0.783075      0.862569          0.791775   \n",
       "5  LogisticRegression        0.753727      0.848692          0.763940   \n",
       "4     RidgeRegression        0.718025      0.859588          0.720716   \n",
       "\n",
       "   accuracy_test  recall_test  precission_test  \n",
       "3       0.840129     0.885607         0.852362  \n",
       "2       0.794412     0.844131         0.817457  \n",
       "1       0.789386     0.896689         0.782338  \n",
       "0       0.782031     0.861349         0.791823  \n",
       "5       0.755424     0.849220         0.766365  \n",
       "4       0.718736     0.859351         0.722247  "
      ]
     },
     "execution_count": 19,
     "metadata": {},
     "output_type": "execute_result"
    }
   ],
   "source": [
    "df_scores.sort_values(\"accuracy_test\", ascending = False).head(20)"
   ]
  },
  {
   "cell_type": "code",
   "execution_count": 20,
   "id": "a7d95381",
   "metadata": {},
   "outputs": [
    {
     "data": {
      "text/plain": [
       "Text(0.5, 1.0, 'Model Accuracy ')"
      ]
     },
     "execution_count": 20,
     "metadata": {},
     "output_type": "execute_result"
    },
    {
     "data": {
      "image/png": "[encoded data removed]",
      "text/plain": [
       "<Figure size 432x288 with 1 Axes>"
      ]
     },
     "metadata": {
      "needs_background": "light"
     },
     "output_type": "display_data"
    }
   ],
   "source": [
    "ax = plt.Figure()\n",
    "\n",
    "plot1 = df_scores.sort_values(\"accuracy_test\", ascending = True).plot(kind= \"barh\", x= \"name\", y = \"accuracy_test\", legend=None)\n",
    "plt.xlim([0,1])\n",
    "plot1.set_xlabel('Accuracy Test', fontsize = 12)\n",
    "plot1.set_ylabel('', fontsize = 12)\n",
    "plot1.set_title('Model Accuracy ', fontsize = 16)"
   ]
  },
  {
   "cell_type": "markdown",
   "id": "8ec62d50",
   "metadata": {},
   "source": [
    "Good! Now we will take the best candidates and optimaze them."
   ]
  },
  {
   "cell_type": "markdown",
   "id": "77f766e7",
   "metadata": {},
   "source": [
    "## XGBoost"
   ]
  },
  {
   "cell_type": "markdown",
   "id": "f5b28246",
   "metadata": {},
   "source": [
    "We start with the best one: XGBoost. To find the best paramters we use a RandomizedSearch and then a GridSearch around the best parameters combination from the previous step"
   ]
  },
  {
   "cell_type": "code",
   "execution_count": 21,
   "id": "75f221a4",
   "metadata": {},
   "outputs": [
    {
     "data": {
      "text/plain": [
       "'\\nparam_grid_xgb = {\\n    \\'n_estimators\\': [100],\\n    \\'max_depth\\': list(range(3,15)),\\n    \"learning_rate\": np.linspace(0.0001, 1).astype(float),\\n    \\'booster\\': [\"gbtree\"]}\\n\\n# Instantiate random search and define the metric to optimize \\nrs_xgb = RandomizedSearchCV(xgb.XGBClassifier(random_state = RSEED,n_jobs = -1), param_grid_xgb, scoring=\\'accuracy\\',\\n                  cv=5, verbose=5, n_jobs=-1, n_iter=10, random_state = RSEED)\\n\\n# Fit randomized search object to data\\nrs_xgb.fit(X_train_prep, y_train)\\n\\nrs_xgb.best_params_\\n'"
      ]
     },
     "execution_count": 21,
     "metadata": {},
     "output_type": "execute_result"
    }
   ],
   "source": [
    "##Cell used for the optimization\n",
    "'''\n",
    "param_grid_xgb = {\n",
    "    'n_estimators': [100],\n",
    "    'max_depth': list(range(3,15)),\n",
    "    \"learning_rate\": np.linspace(0.0001, 1).astype(float),\n",
    "    'booster': [\"gbtree\"]}\n",
    "\n",
    "# Instantiate random search and define the metric to optimize \n",
    "rs_xgb = RandomizedSearchCV(xgb.XGBClassifier(random_state = RSEED,n_jobs = -1), param_grid_xgb, scoring='accuracy',\n",
    "                  cv=5, verbose=5, n_jobs=-1, n_iter=10, random_state = RSEED)\n",
    "\n",
    "# Fit randomized search object to data\n",
    "rs_xgb.fit(X_train_prep, y_train)\n",
    "\n",
    "rs_xgb.best_params_\n",
    "'''"
   ]
  },
  {
   "cell_type": "code",
   "execution_count": 22,
   "id": "f52a24aa",
   "metadata": {},
   "outputs": [
    {
     "data": {
      "text/plain": [
       "'\\nparam_grid_xgb = {\\n    \\'n_estimators\\': [100],\\n    \\'max_depth\\' : [9],\\n    \"learning_rate\": list(np.linspace(0.1,0.2,3)),\\n    \\'booster\\': [\"gbtree\"]}\\n\\ngrid_xgb = GridSearchCV(xgb.XGBClassifier(random_state = RSEED, n_jobs = -1), param_grid=param_grid_xgb, cv=5, scoring=\\'accuracy\\', \\n                           verbose=5, n_jobs=-1)\\ngrid_xgb.fit(X_train_prep, y_train)\\n\\nbest_xgb = grid_xgb.best_estimator_\\n'"
      ]
     },
     "execution_count": 22,
     "metadata": {},
     "output_type": "execute_result"
    }
   ],
   "source": [
    "# parameters around  the best model of the Random Search {'n_estimators': 25,'max_depth': 7,'learning_rate': 0.34700408163265306, 'booster': 'gbtree'}\n",
    "\n",
    "'''\n",
    "param_grid_xgb = {\n",
    "    'n_estimators': [100],\n",
    "    'max_depth' : [9],\n",
    "    \"learning_rate\": list(np.linspace(0.1,0.2,3)),\n",
    "    'booster': [\"gbtree\"]}\n",
    "\n",
    "grid_xgb = GridSearchCV(xgb.XGBClassifier(random_state = RSEED, n_jobs = -1), param_grid=param_grid_xgb, cv=5, scoring='accuracy', \n",
    "                           verbose=5, n_jobs=-1)\n",
    "grid_xgb.fit(X_train_prep, y_train)\n",
    "\n",
    "best_xgb = grid_xgb.best_estimator_\n",
    "'''"
   ]
  },
  {
   "cell_type": "code",
   "execution_count": 23,
   "id": "8204a6d8",
   "metadata": {},
   "outputs": [],
   "source": [
    "best_xgb = xgb.XGBClassifier(random_state = RSEED, n_jobs = -1,\n",
    "                             n_estimators = 100, booster = \"gbtree\",\n",
    "                             learning_rate = 0.1, max_depth = 9,\n",
    "                            eval_metric = \"error\")\n",
    "\n",
    "best_xgb.fit(X_train_prep, y_train)\n",
    "y_train_pred = best_xgb.predict(X_train_prep)\n",
    "y_pred = best_xgb.predict(X_test_prep)\n",
    "\n",
    "#grid_xgb.best_params_"
   ]
  },
  {
   "cell_type": "code",
   "execution_count": 24,
   "id": "d82fef64",
   "metadata": {},
   "outputs": [
    {
     "name": "stdout",
     "output_type": "stream",
     "text": [
      "Cross validation scores:\n",
      "-------------------------\n",
      "Accuracy: 0.87\n",
      "Recall: 0.91\n",
      "Precision: 0.87\n",
      "\n",
      "Confusion matrix:\n",
      "-------------------------\n",
      "[[45820 11158]\n",
      " [ 7714 76168]]\n",
      "Cross validation scores:\n",
      "-------------------------\n",
      "Accuracy: 0.84\n",
      "Recall: 0.89\n",
      "Precision: 0.85\n",
      "\n",
      "Confusion matrix:\n",
      "-------------------------\n",
      "[[10946  3246]\n",
      " [ 2326 18698]]\n"
     ]
    }
   ],
   "source": [
    "print_scores(y_train, y_train_pred)\n",
    "print_scores(y_test, y_pred)"
   ]
  },
  {
   "cell_type": "markdown",
   "id": "071718a5",
   "metadata": {},
   "source": [
    "Well, we got an extra % of accuracy. Let us check out which are the most important parameters in our model."
   ]
  },
  {
   "cell_type": "code",
   "execution_count": 30,
   "id": "8280937f",
   "metadata": {},
   "outputs": [
    {
     "data": {
      "image/png": "[encoded data removed]",
      "text/plain": [
       "<Figure size 720x504 with 1 Axes>"
      ]
     },
     "metadata": {
      "needs_background": "light"
     },
     "output_type": "display_data"
    }
   ],
   "source": [
    "hot_encoder = preprocessor.named_transformers_[\"cat\"]['1hot']\n",
    "hot_encoder_names = hot_encoder.get_feature_names()\n",
    "column_names = num_features + list(hot_encoder_names)\n",
    "\n",
    "importance = list(best_xgb.feature_importances_)\n",
    "\n",
    "\n",
    "fig, ax = plt.subplots(figsize = (10,7))\n",
    "\n",
    "df_importance = pd.DataFrame({\"Feature\": column_names, \"Importance\": importance})\n",
    "df_importance.sort_values(\"Importance\", ascending = True, inplace = True)\n",
    "\n",
    "ax.barh(df_importance[\"Feature\"].tail(10), df_importance[\"Importance\"].tail(10))\n",
    "\n",
    "ax.set_xlabel('Feature importance %', fontsize = 14)\n",
    "ax.set_ylabel('', fontsize = 12)\n",
    "ax.set_title('Top10 Features', fontsize = 20)\n",
    "\n",
    "plt.savefig('Features_importance.png', transparent=True)"
   ]
  },
  {
   "cell_type": "code",
   "execution_count": 31,
   "id": "1773b592",
   "metadata": {},
   "outputs": [],
   "source": [
    "model_name.append(\"XGBoost optimized\")\n",
    "\n",
    "accuracy.append(accuracy_score(y_train, y_train_pred))\n",
    "recall.append(recall_score(y_train, y_train_pred))\n",
    "precision.append(precision_score(y_train, y_train_pred))\n",
    "    \n",
    "accuracy_test.append(accuracy_score(y_test, y_pred))\n",
    "recall_test.append(recall_score(y_test, y_pred))\n",
    "precision_test.append(precision_score(y_test, y_pred))"
   ]
  },
  {
   "cell_type": "markdown",
   "id": "ca928107",
   "metadata": {},
   "source": [
    "## AdaBoost"
   ]
  },
  {
   "cell_type": "markdown",
   "id": "a06dc138",
   "metadata": {},
   "source": [
    "We use the same strategy to optimize the AdaBoost model."
   ]
  },
  {
   "cell_type": "code",
   "execution_count": 32,
   "id": "c344ad83",
   "metadata": {},
   "outputs": [
    {
     "data": {
      "text/plain": [
       "\"'\\n\\nparam_grid_ada = {\\n    'n_estimators': np.linspace(100, 500, 20).astype(int)}\\n\\n# Instantiate random search and define the metric to optimize \\nrs_ada = RandomizedSearchCV(AdaBoostClassifier(random_state=RSEED), param_grid_ada, scoring='accuracy',\\n                  cv=5, verbose=5, n_jobs=-1, n_iter=10, random_state=RSEED)\\n\\n# Fit randomized search object to data\\nrs_ada.fit(X_train_prep, y_train)\\n\\nbest_ada = rs_ada.best_estimator_\\n\\ny_train_pred = best_ada.predict(X_train_prep)\\ny_pred = best_ada.predict(X_test_prep)\\nrs_ada.best_params_\\nprint_scores(y_train, y_train_pred)\\nprint_scores(y_test, y_pred)\\n\""
      ]
     },
     "execution_count": 32,
     "metadata": {},
     "output_type": "execute_result"
    }
   ],
   "source": [
    "''''\n",
    "\n",
    "param_grid_ada = {\n",
    "    'n_estimators': np.linspace(100, 500, 20).astype(int)}\n",
    "\n",
    "# Instantiate random search and define the metric to optimize \n",
    "rs_ada = RandomizedSearchCV(AdaBoostClassifier(random_state=RSEED), param_grid_ada, scoring='accuracy',\n",
    "                  cv=5, verbose=5, n_jobs=-1, n_iter=10, random_state=RSEED)\n",
    "\n",
    "# Fit randomized search object to data\n",
    "rs_ada.fit(X_train_prep, y_train)\n",
    "\n",
    "best_ada = rs_ada.best_estimator_\n",
    "\n",
    "y_train_pred = best_ada.predict(X_train_prep)\n",
    "y_pred = best_ada.predict(X_test_prep)\n",
    "rs_ada.best_params_\n",
    "print_scores(y_train, y_train_pred)\n",
    "print_scores(y_test, y_pred)\n",
    "'''"
   ]
  },
  {
   "cell_type": "code",
   "execution_count": 33,
   "id": "10a17467",
   "metadata": {},
   "outputs": [
    {
     "data": {
      "text/plain": [
       "'\\nparam_grid_ada = {\\n    \\'n_estimators\\': np.linspace(150, 250, 3).astype(int),\\n    \"learning_rate\": np.linspace(0.5, 1, 3).astype(float)}\\n\\ngrid_ada = GridSearchCV(AdaBoostClassifier(random_state=RSEED), param_grid=param_grid_ada, cv=5, scoring=\\'accuracy\\', \\n                           verbose=5, n_jobs=-1)\\n\\ngrid_ada.fit(X_train_prep, y_train)\\n\\nbest_grid_ada = grid_ada.best_estimator_\\n\\ny_train_pred = best_grid_ada.predict(X_train_prep)\\ny_pred = best_grid_ada.predict(X_test_prep)\\n\\ngrid_ada.best_params_\\n'"
      ]
     },
     "execution_count": 33,
     "metadata": {},
     "output_type": "execute_result"
    }
   ],
   "source": [
    "\n",
    "'''\n",
    "param_grid_ada = {\n",
    "    'n_estimators': np.linspace(150, 250, 3).astype(int),\n",
    "    \"learning_rate\": np.linspace(0.5, 1, 3).astype(float)}\n",
    "\n",
    "grid_ada = GridSearchCV(AdaBoostClassifier(random_state=RSEED), param_grid=param_grid_ada, cv=5, scoring='accuracy', \n",
    "                           verbose=5, n_jobs=-1)\n",
    "\n",
    "grid_ada.fit(X_train_prep, y_train)\n",
    "\n",
    "best_grid_ada = grid_ada.best_estimator_\n",
    "\n",
    "y_train_pred = best_grid_ada.predict(X_train_prep)\n",
    "y_pred = best_grid_ada.predict(X_test_prep)\n",
    "\n",
    "grid_ada.best_params_\n",
    "'''"
   ]
  },
  {
   "cell_type": "code",
   "execution_count": 34,
   "id": "bda6ee1d",
   "metadata": {},
   "outputs": [
    {
     "name": "stdout",
     "output_type": "stream",
     "text": [
      "Cross validation scores:\n",
      "-------------------------\n",
      "Accuracy: 0.80\n",
      "Recall: 0.84\n",
      "Precision: 0.82\n",
      "\n",
      "Confusion matrix:\n",
      "-------------------------\n",
      "[[41830 15148]\n",
      " [13525 70357]]\n",
      "Cross validation scores:\n",
      "-------------------------\n",
      "Accuracy: 0.79\n",
      "Recall: 0.84\n",
      "Precision: 0.82\n",
      "\n",
      "Confusion matrix:\n",
      "-------------------------\n",
      "[[10362  3830]\n",
      " [ 3401 17623]]\n"
     ]
    }
   ],
   "source": [
    "ada2 = AdaBoostClassifier(n_estimators=225, learning_rate=1.0, random_state=RSEED)\n",
    "ada2.fit(X_train_prep, y_train)\n",
    "\n",
    "y_train_pred = ada2.predict(X_train_prep)\n",
    "y_pred = ada2.predict(X_test_prep)\n",
    "\n",
    "print_scores(y_train, y_train_pred)\n",
    "print_scores(y_test, y_pred)"
   ]
  },
  {
   "cell_type": "code",
   "execution_count": 35,
   "id": "6647187e",
   "metadata": {},
   "outputs": [],
   "source": [
    "model_name.append(\"AdaBoost optimized\")\n",
    "\n",
    "accuracy.append(accuracy_score(y_train, y_train_pred))\n",
    "recall.append(recall_score(y_train, y_train_pred))\n",
    "precision.append(precision_score(y_train, y_train_pred))\n",
    "    \n",
    "accuracy_test.append(accuracy_score(y_test, y_pred))\n",
    "recall_test.append(recall_score(y_test, y_pred))\n",
    "precision_test.append(precision_score(y_test, y_pred))"
   ]
  },
  {
   "cell_type": "markdown",
   "id": "7f469327",
   "metadata": {},
   "source": [
    "## Voting Classifier"
   ]
  },
  {
   "cell_type": "code",
   "execution_count": 36,
   "id": "8bedcc9f",
   "metadata": {},
   "outputs": [
    {
     "data": {
      "text/plain": [
       "\"\\nclf1 = DecisionTreeClassifier(random_state=RSEED)\\nclf2 = RandomForestClassifier(random_state=RSEED)\\nclf3 = LogisticRegression(random_state=RSEED)\\n\\nparams = {'dt__max_depth': [5, 10], 'rf__n_estimators': [20, 200],'rf__max_depth': [5, 10], 'rf__max_features': [6, 8], }\\n\\neclf = VotingClassifier(estimators=[('dt', clf1), ('rf', clf2), ('lr', clf3)], voting='hard')\\n\\nrandom_search = RandomizedSearchCV(eclf, param_distributions=params,n_iter=4)\\nrandom_search.fit(X_train_prep, y_train)\\n\\nbest_rs = random_search.best_estimator_\\nrandom_search.best_params_\\n\\n\""
      ]
     },
     "execution_count": 36,
     "metadata": {},
     "output_type": "execute_result"
    }
   ],
   "source": [
    "from sklearn.ensemble import VotingClassifier\n",
    "\n",
    "# Cell used for the optimization\n",
    "# {'rf__n_estimators': 200,'rf__max_features': 8,'rf__max_depth': 10,'dt__max_depth': 10}\n",
    "\n",
    "'''\n",
    "clf1 = DecisionTreeClassifier(random_state=RSEED)\n",
    "clf2 = RandomForestClassifier(random_state=RSEED)\n",
    "clf3 = LogisticRegression(random_state=RSEED)\n",
    "\n",
    "params = {'dt__max_depth': [5, 10], 'rf__n_estimators': [20, 200],'rf__max_depth': [5, 10], 'rf__max_features': [6, 8], }\n",
    "\n",
    "eclf = VotingClassifier(estimators=[('dt', clf1), ('rf', clf2), ('lr', clf3)], voting='hard')\n",
    "\n",
    "random_search = RandomizedSearchCV(eclf, param_distributions=params,n_iter=4)\n",
    "random_search.fit(X_train_prep, y_train)\n",
    "\n",
    "best_rs = random_search.best_estimator_\n",
    "random_search.best_params_\n",
    "\n",
    "'''"
   ]
  },
  {
   "cell_type": "code",
   "execution_count": 37,
   "id": "d1939d9e",
   "metadata": {},
   "outputs": [],
   "source": [
    "clf1 = DecisionTreeClassifier(random_state=RSEED, max_depth = 10)\n",
    "clf2 = RandomForestClassifier(random_state=RSEED, max_depth = 10, max_features = 8, n_estimators = 200)\n",
    "clf3 = LogisticRegression(random_state=RSEED)\n",
    "\n",
    "eclf = VotingClassifier(estimators=[('dt', clf1), ('rf', clf2), ('lr', clf3)], voting='hard')"
   ]
  },
  {
   "cell_type": "code",
   "execution_count": 40,
   "id": "6b99d9f5",
   "metadata": {},
   "outputs": [
    {
     "name": "stdout",
     "output_type": "stream",
     "text": [
      "Cross validation scores:\n",
      "-------------------------\n",
      "Accuracy: 0.82\n",
      "Recall: 0.90\n",
      "Precision: 0.82\n",
      "\n",
      "Confusion matrix:\n",
      "-------------------------\n",
      "[[40542 16436]\n",
      " [ 8744 75138]]\n",
      "Cross validation scores:\n",
      "-------------------------\n",
      "Accuracy: 0.82\n",
      "Recall: 0.89\n",
      "Precision: 0.82\n",
      "\n",
      "Confusion matrix:\n",
      "-------------------------\n",
      "[[10029  4163]\n",
      " [ 2298 18726]]\n"
     ]
    }
   ],
   "source": [
    "eclf.fit(X_train_prep,y_train)\n",
    "\n",
    "y_train_pred = eclf.predict(X_train_prep)\n",
    "y_pred = eclf.predict(X_test_prep)\n",
    "\n",
    "print_scores(y_train, y_train_pred)\n",
    "print_scores(y_test, y_pred)"
   ]
  },
  {
   "cell_type": "code",
   "execution_count": 41,
   "id": "9d170307",
   "metadata": {},
   "outputs": [],
   "source": [
    "model_name.append(\"Voting Classifier\")\n",
    "\n",
    "accuracy.append(accuracy_score(y_train, y_train_pred))\n",
    "recall.append(recall_score(y_train, y_train_pred))\n",
    "precision.append(precision_score(y_train, y_train_pred))\n",
    "    \n",
    "accuracy_test.append(accuracy_score(y_test, y_pred))\n",
    "recall_test.append(recall_score(y_test, y_pred))\n",
    "precision_test.append(precision_score(y_test, y_pred))"
   ]
  },
  {
   "cell_type": "code",
   "execution_count": 42,
   "id": "f3eecbed",
   "metadata": {},
   "outputs": [],
   "source": [
    "df_scores = pd.DataFrame({\"name\": model_name,\n",
    "                         \"accuracy_train\": accuracy,\n",
    "                         \"recall_train\": recall,\n",
    "                         \"precission_train\": precision,\n",
    "                         \"accuracy_test\": accuracy_test,\n",
    "                         \"recall_test\": recall_test,\n",
    "                         \"precission_test\": precision_test,\n",
    "                         })"
   ]
  },
  {
   "cell_type": "code",
   "execution_count": 44,
   "id": "2e4b7f07",
   "metadata": {},
   "outputs": [
    {
     "data": {
      "image/png": "[encoded data removed]",
      "text/plain": [
       "<Figure size 720x504 with 1 Axes>"
      ]
     },
     "metadata": {
      "needs_background": "light"
     },
     "output_type": "display_data"
    }
   ],
   "source": [
    "df_scores.sort_values(\"accuracy_test\", ascending = True , inplace= True)\n",
    "\n",
    "fig, ax = plt.subplots(figsize = (10,7))\n",
    "\n",
    "color_list = [\"lightblue\"] * len(df_scores[\"name\"].to_list())\n",
    "\n",
    "color_list[-1] = \"lightgreen\"\n",
    "color_list[-4] = \"lightgreen\"\n",
    "color_list[-5] = \"lightgreen\"\n",
    "\n",
    "#plot1 = df_scores.sort_values(\"accuracy_test\", ascending = True).plot\n",
    "\n",
    "hbars = ax.barh(df_scores[\"name\"], df_scores[\"accuracy_test\"], align='center', color =color_list)\n",
    "\n",
    "plt.xlim([0,1])\n",
    "\n",
    "ax.set_xlabel('Accuracy Test', fontsize = 12)\n",
    "ax.set_ylabel('.')\n",
    "ax.set_title('Model Accuracy ', fontsize = 24)\n",
    "\n",
    "plt.savefig('Models_accuracy.png', transparent=False)"
   ]
  },
  {
   "cell_type": "code",
   "execution_count": null,
   "id": "9665ad87",
   "metadata": {},
   "outputs": [],
   "source": []
  }
 ],
 "metadata": {
  "kernelspec": {
   "display_name": "Python 3",
   "language": "python",
   "name": "python3"
  },
  "language_info": {
   "codemirror_mode": {
    "name": "ipython",
    "version": 3
   },
   "file_extension": ".py",
   "mimetype": "text/x-python",
   "name": "python",
   "nbconvert_exporter": "python",
   "pygments_lexer": "ipython3",
   "version": "3.8.5"
  }
 },
 "nbformat": 4,
 "nbformat_minor": 5
}
