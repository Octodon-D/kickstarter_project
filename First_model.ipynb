{
 "cells": [
  {
   "cell_type": "markdown",
   "id": "d8d6e87f",
   "metadata": {},
   "source": [
    "# Fitting the model"
   ]
  },
  {
   "cell_type": "markdown",
   "id": "574e3059",
   "metadata": {},
   "source": [
    "## Data Preprocessing"
   ]
  },
  {
   "cell_type": "code",
   "execution_count": 1,
   "id": "d9773552",
   "metadata": {},
   "outputs": [],
   "source": [
    "import numpy as np\n",
    "import pandas as pd\n",
    "import warnings\n",
    "import matplotlib.pyplot as plt\n",
    "import seaborn as sns\n",
    "\n",
    "from sklearn.pipeline import Pipeline\n",
    "from sklearn.compose import ColumnTransformer\n",
    "from sklearn.preprocessing import OneHotEncoder, StandardScaler\n",
    "from sklearn.impute import SimpleImputer\n",
    "from sklearn.model_selection import train_test_split\n",
    "from sklearn.model_selection import GridSearchCV, RandomizedSearchCV\n",
    "from sklearn.model_selection import cross_val_predict, cross_val_score, cross_validate\n",
    "from sklearn.metrics import roc_curve, confusion_matrix, accuracy_score, recall_score, precision_score\n",
    "\n",
    "from sklearn.linear_model import LogisticRegression\n",
    "\n",
    "# Set random seed \n",
    "RSEED = 42\n",
    "warnings.filterwarnings(\"ignore\")"
   ]
  },
  {
   "cell_type": "code",
   "execution_count": 2,
   "id": "1be52648",
   "metadata": {},
   "outputs": [
    {
     "data": {
      "text/html": [
       "<div>\n",
       "<style scoped>\n",
       "    .dataframe tbody tr th:only-of-type {\n",
       "        vertical-align: middle;\n",
       "    }\n",
       "\n",
       "    .dataframe tbody tr th {\n",
       "        vertical-align: top;\n",
       "    }\n",
       "\n",
       "    .dataframe thead th {\n",
       "        text-align: right;\n",
       "    }\n",
       "</style>\n",
       "<table border=\"1\" class=\"dataframe\">\n",
       "  <thead>\n",
       "    <tr style=\"text-align: right;\">\n",
       "      <th></th>\n",
       "      <th>backers_count</th>\n",
       "      <th>country</th>\n",
       "      <th>id</th>\n",
       "      <th>name</th>\n",
       "      <th>staff_pick</th>\n",
       "      <th>state</th>\n",
       "      <th>usd_pledged</th>\n",
       "      <th>usd_type</th>\n",
       "      <th>yr_launched</th>\n",
       "      <th>mo_launched</th>\n",
       "      <th>...</th>\n",
       "      <th>main_category</th>\n",
       "      <th>subcategory</th>\n",
       "      <th>city</th>\n",
       "      <th>region</th>\n",
       "      <th>city_type</th>\n",
       "      <th>creator_id</th>\n",
       "      <th>creator_num_projects</th>\n",
       "      <th>words_blurb</th>\n",
       "      <th>polarity_blurb</th>\n",
       "      <th>subjectivity_blurb</th>\n",
       "    </tr>\n",
       "  </thead>\n",
       "  <tbody>\n",
       "    <tr>\n",
       "      <th>0</th>\n",
       "      <td>21</td>\n",
       "      <td>US</td>\n",
       "      <td>287514992</td>\n",
       "      <td>New Final Round Album</td>\n",
       "      <td>0</td>\n",
       "      <td>1</td>\n",
       "      <td>802.00000</td>\n",
       "      <td>international</td>\n",
       "      <td>2013</td>\n",
       "      <td>12</td>\n",
       "      <td>...</td>\n",
       "      <td>Music</td>\n",
       "      <td>Rock</td>\n",
       "      <td>Chicago</td>\n",
       "      <td>IL</td>\n",
       "      <td>Town</td>\n",
       "      <td>1495925645</td>\n",
       "      <td>1</td>\n",
       "      <td>26</td>\n",
       "      <td>0.178788</td>\n",
       "      <td>0.518182</td>\n",
       "    </tr>\n",
       "    <tr>\n",
       "      <th>1</th>\n",
       "      <td>97</td>\n",
       "      <td>US</td>\n",
       "      <td>385129759</td>\n",
       "      <td>Princess Pals Enamel Pin Series</td>\n",
       "      <td>0</td>\n",
       "      <td>1</td>\n",
       "      <td>2259.00000</td>\n",
       "      <td>international</td>\n",
       "      <td>2019</td>\n",
       "      <td>2</td>\n",
       "      <td>...</td>\n",
       "      <td>Art</td>\n",
       "      <td>Mixed Media</td>\n",
       "      <td>Sacramento</td>\n",
       "      <td>CA</td>\n",
       "      <td>Town</td>\n",
       "      <td>1175589980</td>\n",
       "      <td>4</td>\n",
       "      <td>9</td>\n",
       "      <td>0.625000</td>\n",
       "      <td>1.000000</td>\n",
       "    </tr>\n",
       "    <tr>\n",
       "      <th>2</th>\n",
       "      <td>88</td>\n",
       "      <td>US</td>\n",
       "      <td>681033598</td>\n",
       "      <td>Their Life Through Their Lens-the Amish and Me...</td>\n",
       "      <td>1</td>\n",
       "      <td>1</td>\n",
       "      <td>29638.00000</td>\n",
       "      <td>international</td>\n",
       "      <td>2016</td>\n",
       "      <td>11</td>\n",
       "      <td>...</td>\n",
       "      <td>Photography</td>\n",
       "      <td>Photobooks</td>\n",
       "      <td>Columbus</td>\n",
       "      <td>OH</td>\n",
       "      <td>Town</td>\n",
       "      <td>1196856269</td>\n",
       "      <td>2</td>\n",
       "      <td>25</td>\n",
       "      <td>0.225000</td>\n",
       "      <td>0.366667</td>\n",
       "    </tr>\n",
       "    <tr>\n",
       "      <th>3</th>\n",
       "      <td>193</td>\n",
       "      <td>IT</td>\n",
       "      <td>1031782682</td>\n",
       "      <td>WAO: THE ECO EFFECT SHOES</td>\n",
       "      <td>0</td>\n",
       "      <td>1</td>\n",
       "      <td>49075.15252</td>\n",
       "      <td>international</td>\n",
       "      <td>2018</td>\n",
       "      <td>10</td>\n",
       "      <td>...</td>\n",
       "      <td>Fashion</td>\n",
       "      <td>Footwear</td>\n",
       "      <td>Venice</td>\n",
       "      <td>Veneto</td>\n",
       "      <td>Town</td>\n",
       "      <td>1569700626</td>\n",
       "      <td>2</td>\n",
       "      <td>13</td>\n",
       "      <td>0.000000</td>\n",
       "      <td>0.100000</td>\n",
       "    </tr>\n",
       "    <tr>\n",
       "      <th>4</th>\n",
       "      <td>20</td>\n",
       "      <td>US</td>\n",
       "      <td>904085819</td>\n",
       "      <td>Apple Watch Development Course</td>\n",
       "      <td>0</td>\n",
       "      <td>0</td>\n",
       "      <td>549.00000</td>\n",
       "      <td>domestic</td>\n",
       "      <td>2015</td>\n",
       "      <td>3</td>\n",
       "      <td>...</td>\n",
       "      <td>Technology</td>\n",
       "      <td>Software</td>\n",
       "      <td>Redmond</td>\n",
       "      <td>WA</td>\n",
       "      <td>Town</td>\n",
       "      <td>1870845385</td>\n",
       "      <td>1</td>\n",
       "      <td>22</td>\n",
       "      <td>0.156250</td>\n",
       "      <td>0.400000</td>\n",
       "    </tr>\n",
       "  </tbody>\n",
       "</table>\n",
       "<p>5 rows × 27 columns</p>\n",
       "</div>"
      ],
      "text/plain": [
       "   backers_count country          id  \\\n",
       "0             21      US   287514992   \n",
       "1             97      US   385129759   \n",
       "2             88      US   681033598   \n",
       "3            193      IT  1031782682   \n",
       "4             20      US   904085819   \n",
       "\n",
       "                                                name  staff_pick  state  \\\n",
       "0                              New Final Round Album           0      1   \n",
       "1                    Princess Pals Enamel Pin Series           0      1   \n",
       "2  Their Life Through Their Lens-the Amish and Me...           1      1   \n",
       "3                          WAO: THE ECO EFFECT SHOES           0      1   \n",
       "4                     Apple Watch Development Course           0      0   \n",
       "\n",
       "   usd_pledged       usd_type  yr_launched  mo_launched  ...  main_category  \\\n",
       "0    802.00000  international         2013           12  ...          Music   \n",
       "1   2259.00000  international         2019            2  ...            Art   \n",
       "2  29638.00000  international         2016           11  ...    Photography   \n",
       "3  49075.15252  international         2018           10  ...        Fashion   \n",
       "4    549.00000       domestic         2015            3  ...     Technology   \n",
       "\n",
       "   subcategory        city  region  city_type  creator_id  \\\n",
       "0         Rock     Chicago      IL       Town  1495925645   \n",
       "1  Mixed Media  Sacramento      CA       Town  1175589980   \n",
       "2   Photobooks    Columbus      OH       Town  1196856269   \n",
       "3     Footwear      Venice  Veneto       Town  1569700626   \n",
       "4     Software     Redmond      WA       Town  1870845385   \n",
       "\n",
       "   creator_num_projects words_blurb polarity_blurb subjectivity_blurb  \n",
       "0                     1          26       0.178788           0.518182  \n",
       "1                     4           9       0.625000           1.000000  \n",
       "2                     2          25       0.225000           0.366667  \n",
       "3                     2          13       0.000000           0.100000  \n",
       "4                     1          22       0.156250           0.400000  \n",
       "\n",
       "[5 rows x 27 columns]"
      ]
     },
     "execution_count": 2,
     "metadata": {},
     "output_type": "execute_result"
    }
   ],
   "source": [
    "df = pd.read_csv('data/data_clean.csv', index_col = 0)\n",
    "df.head()"
   ]
  },
  {
   "cell_type": "code",
   "execution_count": 3,
   "id": "5a317982",
   "metadata": {},
   "outputs": [
    {
     "name": "stdout",
     "output_type": "stream",
     "text": [
      "<class 'pandas.core.frame.DataFrame'>\n",
      "Int64Index: 184113 entries, 0 to 184112\n",
      "Data columns (total 27 columns):\n",
      " #   Column                Non-Null Count   Dtype  \n",
      "---  ------                --------------   -----  \n",
      " 0   backers_count         184113 non-null  int64  \n",
      " 1   country               184113 non-null  object \n",
      " 2   id                    184113 non-null  int64  \n",
      " 3   name                  184113 non-null  object \n",
      " 4   staff_pick            184113 non-null  int64  \n",
      " 5   state                 184113 non-null  int64  \n",
      " 6   usd_pledged           184113 non-null  float64\n",
      " 7   usd_type              184113 non-null  object \n",
      " 8   yr_launched           184113 non-null  int64  \n",
      " 9   mo_launched           184113 non-null  int64  \n",
      " 10  wd_launched           184113 non-null  int64  \n",
      " 11  yr_deadline           184113 non-null  int64  \n",
      " 12  mo_deadline           184113 non-null  int64  \n",
      " 13  wd_deadline           184113 non-null  int64  \n",
      " 14  founding_phase        184113 non-null  int64  \n",
      " 15  phase_before          184113 non-null  int64  \n",
      " 16  goal_usd              184113 non-null  float64\n",
      " 17  main_category         184113 non-null  object \n",
      " 18  subcategory           184113 non-null  object \n",
      " 19  city                  184113 non-null  object \n",
      " 20  region                184113 non-null  object \n",
      " 21  city_type             184113 non-null  object \n",
      " 22  creator_id            184113 non-null  int64  \n",
      " 23  creator_num_projects  184113 non-null  int64  \n",
      " 24  words_blurb           184113 non-null  int64  \n",
      " 25  polarity_blurb        184113 non-null  float64\n",
      " 26  subjectivity_blurb    184113 non-null  float64\n",
      "dtypes: float64(4), int64(15), object(8)\n",
      "memory usage: 39.3+ MB\n"
     ]
    }
   ],
   "source": [
    "df.info()"
   ]
  },
  {
   "cell_type": "markdown",
   "id": "7026bab4",
   "metadata": {},
   "source": [
    "Let us delete all the variables that are not going to be useful in our model:\n",
    "+ **\"id\", \"creator_id\", \"name\"**: \n",
    "+ **\"disable_communication\", \"is starrable\"**: only False\n",
    "+ **\"city\", \"region\"**: these two variables will create too many columns in the One Hot encoding process. We keep \"country\"\n",
    "+ **\"yr_deadline\",\"mo_deadline\", \"wd_deadline\"**: these variables are hihgly correlated with the launching date and \"funding_phase\""
   ]
  },
  {
   "cell_type": "code",
   "execution_count": 4,
   "id": "ba881e03",
   "metadata": {},
   "outputs": [
    {
     "name": "stdout",
     "output_type": "stream",
     "text": [
      "<class 'pandas.core.frame.DataFrame'>\n",
      "Int64Index: 184113 entries, 0 to 184112\n",
      "Data columns (total 19 columns):\n",
      " #   Column                Non-Null Count   Dtype  \n",
      "---  ------                --------------   -----  \n",
      " 0   backers_count         184113 non-null  int64  \n",
      " 1   country               184113 non-null  object \n",
      " 2   staff_pick            184113 non-null  int64  \n",
      " 3   state                 184113 non-null  int64  \n",
      " 4   usd_pledged           184113 non-null  float64\n",
      " 5   usd_type              184113 non-null  object \n",
      " 6   yr_launched           184113 non-null  int64  \n",
      " 7   mo_launched           184113 non-null  int64  \n",
      " 8   wd_launched           184113 non-null  int64  \n",
      " 9   founding_phase        184113 non-null  int64  \n",
      " 10  phase_before          184113 non-null  int64  \n",
      " 11  goal_usd              184113 non-null  float64\n",
      " 12  main_category         184113 non-null  object \n",
      " 13  city_type             184113 non-null  object \n",
      " 14  creator_id            184113 non-null  int64  \n",
      " 15  creator_num_projects  184113 non-null  int64  \n",
      " 16  words_blurb           184113 non-null  int64  \n",
      " 17  polarity_blurb        184113 non-null  float64\n",
      " 18  subjectivity_blurb    184113 non-null  float64\n",
      "dtypes: float64(4), int64(11), object(4)\n",
      "memory usage: 28.1+ MB\n"
     ]
    }
   ],
   "source": [
    "df.drop(['id', 'name', 'yr_deadline',\"mo_deadline\", \"wd_deadline\",\"city\", \"region\",\"subcategory\"], axis=1, inplace=True)\n",
    "df.info()"
   ]
  },
  {
   "cell_type": "code",
   "execution_count": 5,
   "id": "4867a873",
   "metadata": {},
   "outputs": [],
   "source": [
    "cat_features = list(df.columns[df.dtypes==object])\n",
    "\n",
    "num_features = list(df.columns[df.dtypes!=object])\n",
    "\n",
    "num_features.remove('usd_pledged')\n",
    "num_features.remove(\"backers_count\")\n",
    "num_features.remove(\"state\")"
   ]
  },
  {
   "cell_type": "code",
   "execution_count": 6,
   "id": "22d1ae5d",
   "metadata": {},
   "outputs": [
    {
     "name": "stdout",
     "output_type": "stream",
     "text": [
      "We have 184113 observations in our dataset and 16 features\n",
      "Our target vector has also 184113 values\n"
     ]
    }
   ],
   "source": [
    "# Define predictors and target variable\n",
    "\n",
    "X = df.drop(['usd_pledged', \"backers_count\", \"state\"], axis=1)\n",
    "y = df['state']\n",
    "\n",
    "print(f\"We have {X.shape[0]} observations in our dataset and {X.shape[1]} features\")\n",
    "print(f\"Our target vector has also {y.shape[0]} values\")"
   ]
  },
  {
   "cell_type": "code",
   "execution_count": 7,
   "id": "209c7026",
   "metadata": {},
   "outputs": [],
   "source": [
    "X_train, X_test, y_train, y_test = train_test_split(X, y, test_size=0.2, random_state=RSEED)"
   ]
  },
  {
   "cell_type": "markdown",
   "id": "94e932a0",
   "metadata": {},
   "source": [
    "## First model"
   ]
  },
  {
   "cell_type": "code",
   "execution_count": 8,
   "id": "97a0af0f",
   "metadata": {},
   "outputs": [],
   "source": [
    "num_pipeline = Pipeline([\n",
    "    ('std_scaler', StandardScaler())\n",
    "])\n",
    "\n",
    "# Pipeline for categorical features \n",
    "cat_pipeline = Pipeline([\n",
    "    ('imputer_cat', SimpleImputer(strategy='constant', fill_value='missing')),\n",
    "    ('1hot', OneHotEncoder(handle_unknown='ignore'))\n",
    "])"
   ]
  },
  {
   "cell_type": "code",
   "execution_count": 9,
   "id": "83718c1f",
   "metadata": {},
   "outputs": [],
   "source": [
    "preprocessor = ColumnTransformer([\n",
    "    ('num', num_pipeline, num_features),\n",
    "    ('cat', cat_pipeline, cat_features)\n",
    "])"
   ]
  },
  {
   "cell_type": "code",
   "execution_count": 10,
   "id": "82174676",
   "metadata": {},
   "outputs": [],
   "source": [
    "pipe_logreg = Pipeline([\n",
    "    ('preprocessor', preprocessor),\n",
    "    ('logreg', LogisticRegression(max_iter=1000))\n",
    "])"
   ]
  },
  {
   "cell_type": "code",
   "execution_count": 11,
   "id": "72f46d06",
   "metadata": {},
   "outputs": [],
   "source": [
    "y_train_predicted = cross_val_predict(pipe_logreg, X_train, y_train, cv=5)"
   ]
  },
  {
   "cell_type": "code",
   "execution_count": 12,
   "id": "8813f673",
   "metadata": {},
   "outputs": [],
   "source": [
    "def print_scores(y_true, y_predicted):\n",
    "# This function prints out a \n",
    "\n",
    "    print('Cross validation scores:')\n",
    "    print('-------------------------')\n",
    "    print(\"Accuracy: {:.2f}\".format(accuracy_score(y_true, y_predicted)))\n",
    "    print(\"Recall: {:.2f}\".format(recall_score(y_true, y_predicted)))\n",
    "    print(\"Precision: {:.2f}\".format(precision_score(y_true, y_predicted)))\n",
    "\n",
    "    cm = confusion_matrix(y_true, y_predicted)\n",
    "    print(\"\")\n",
    "    print(\"Confusion matrix:\")\n",
    "    print('-------------------------')\n",
    "    print(cm)"
   ]
  },
  {
   "cell_type": "code",
   "execution_count": 13,
   "id": "5d248d44",
   "metadata": {},
   "outputs": [
    {
     "name": "stdout",
     "output_type": "stream",
     "text": [
      "Cross validation scores:\n",
      "-------------------------\n",
      "Accuracy: 0.73\n",
      "Recall: 0.87\n",
      "Precision: 0.74\n",
      "\n",
      "Confusion matrix:\n",
      "-------------------------\n",
      "[[29597 27468]\n",
      " [11792 78433]]\n"
     ]
    }
   ],
   "source": [
    "print_scores(y_train, y_train_predicted)"
   ]
  },
  {
   "cell_type": "code",
   "execution_count": 14,
   "id": "62ff0dd0",
   "metadata": {},
   "outputs": [],
   "source": [
    "pipe_logreg.fit(X_train, y_train)\n",
    "y_pred = pipe_logreg.predict(X_test)"
   ]
  },
  {
   "cell_type": "code",
   "execution_count": 15,
   "id": "73cf65d9",
   "metadata": {},
   "outputs": [
    {
     "name": "stdout",
     "output_type": "stream",
     "text": [
      "Cross validation scores:\n",
      "-------------------------\n",
      "Accuracy: 0.73\n",
      "Recall: 0.87\n",
      "Precision: 0.74\n",
      "\n",
      "Confusion matrix:\n",
      "-------------------------\n",
      "[[ 7466  6839]\n",
      " [ 3033 19485]]\n"
     ]
    }
   ],
   "source": [
    "print_scores(y_test, y_pred)"
   ]
  },
  {
   "cell_type": "markdown",
   "id": "f82a05af",
   "metadata": {},
   "source": [
    "## Model Benchmark"
   ]
  },
  {
   "cell_type": "code",
   "execution_count": 16,
   "id": "367ab3ec",
   "metadata": {},
   "outputs": [],
   "source": [
    "from sklearn.tree import DecisionTreeClassifier\n",
    "from sklearn.ensemble import RandomForestClassifier\n",
    "from sklearn.ensemble import ExtraTreesClassifier\n",
    "from sklearn.linear_model import RidgeClassifier\n",
    "from sklearn.ensemble import AdaBoostClassifier\n",
    "from sklearn.neighbors import KNeighborsClassifier\n",
    "import xgboost as xgb"
   ]
  },
  {
   "cell_type": "code",
   "execution_count": 17,
   "id": "cc861a60",
   "metadata": {},
   "outputs": [
    {
     "name": "stdout",
     "output_type": "stream",
     "text": [
      "Model DecisionTree done!\n",
      "Model RandomForest done!\n",
      "Model AdaBoost done!\n",
      "[12:22:04] WARNING: /Users/travis/build/dmlc/xgboost/src/learner.cc:1095: Starting in XGBoost 1.3.0, the default evaluation metric used with the objective 'binary:logistic' was changed from 'error' to 'logloss'. Explicitly set eval_metric if you'd like to restore the old behavior.\n",
      "Model XGBoost done!\n",
      "Model RidgeRegression done!\n",
      "Model LogisticRegression done!\n"
     ]
    }
   ],
   "source": [
    "models = [DecisionTreeClassifier(max_depth=6, random_state=RSEED ),\n",
    "        RandomForestClassifier(n_estimators=200,max_depth=6 , random_state=RSEED, n_jobs = -1), \n",
    "        AdaBoostClassifier(random_state=RSEED),        \n",
    "        xgb.XGBClassifier(),\n",
    "        RidgeClassifier(),\n",
    "        LogisticRegression(max_iter=1000)]\n",
    "\n",
    "model_name = [\"DecisionTree\", \"RandomForest\",\"AdaBoost\",\"XGBoost\", \"RidgeRegression\", \"LogisticRegression\"]\n",
    "accuracy = []\n",
    "recall = []\n",
    "precision = []\n",
    "accuracy_test = []\n",
    "recall_test = []\n",
    "precision_test = []\n",
    "\n",
    "X_train_prep = preprocessor.fit_transform(X_train)\n",
    "X_test_prep = preprocessor.transform(X_test)\n",
    "\n",
    "k = len(models)\n",
    "\n",
    "for i in range(k):\n",
    "    model = models[i].fit(X_train_prep, y_train)  \n",
    "    y_pred = models[i].predict(X_train_prep)\n",
    "    y_pred_test = models[i].predict(X_test_prep)\n",
    "    \n",
    "    accuracy.append(accuracy_score(y_train, y_pred))\n",
    "    recall.append(recall_score(y_train, y_pred))\n",
    "    precision.append(precision_score(y_train, y_pred))\n",
    "    \n",
    "    accuracy_test.append(accuracy_score(y_test, y_pred_test))\n",
    "    recall_test.append(recall_score(y_test, y_pred_test))\n",
    "    precision_test.append(precision_score(y_test, y_pred_test))\n",
    "    \n",
    "    print(f\"Model {model_name[i]} done!\")\n",
    "\n",
    "df_scores = pd.DataFrame({\"name\": model_name,\n",
    "                         \"accuracy_train\": accuracy,\n",
    "                         \"recall_train\": recall,\n",
    "                         \"precission_train\": precision,\n",
    "                         \"accuracy_test\": accuracy_test,\n",
    "                         \"recall_test\": recall_test,\n",
    "                         \"precission_test\": precision_test,\n",
    "                         })\n"
   ]
  },
  {
   "cell_type": "code",
   "execution_count": 18,
   "id": "76d34b6f",
   "metadata": {},
   "outputs": [
    {
     "data": {
      "text/html": [
       "<div>\n",
       "<style scoped>\n",
       "    .dataframe tbody tr th:only-of-type {\n",
       "        vertical-align: middle;\n",
       "    }\n",
       "\n",
       "    .dataframe tbody tr th {\n",
       "        vertical-align: top;\n",
       "    }\n",
       "\n",
       "    .dataframe thead th {\n",
       "        text-align: right;\n",
       "    }\n",
       "</style>\n",
       "<table border=\"1\" class=\"dataframe\">\n",
       "  <thead>\n",
       "    <tr style=\"text-align: right;\">\n",
       "      <th></th>\n",
       "      <th>name</th>\n",
       "      <th>accuracy_train</th>\n",
       "      <th>recall_train</th>\n",
       "      <th>precission_train</th>\n",
       "      <th>accuracy_test</th>\n",
       "      <th>recall_test</th>\n",
       "      <th>precission_test</th>\n",
       "    </tr>\n",
       "  </thead>\n",
       "  <tbody>\n",
       "    <tr>\n",
       "      <th>3</th>\n",
       "      <td>XGBoost</td>\n",
       "      <td>0.817129</td>\n",
       "      <td>0.867864</td>\n",
       "      <td>0.839117</td>\n",
       "      <td>0.795780</td>\n",
       "      <td>0.847677</td>\n",
       "      <td>0.823540</td>\n",
       "    </tr>\n",
       "    <tr>\n",
       "      <th>2</th>\n",
       "      <td>AdaBoost</td>\n",
       "      <td>0.773494</td>\n",
       "      <td>0.828861</td>\n",
       "      <td>0.806688</td>\n",
       "      <td>0.773620</td>\n",
       "      <td>0.824318</td>\n",
       "      <td>0.809084</td>\n",
       "    </tr>\n",
       "    <tr>\n",
       "      <th>0</th>\n",
       "      <td>DecisionTree</td>\n",
       "      <td>0.771885</td>\n",
       "      <td>0.840953</td>\n",
       "      <td>0.797643</td>\n",
       "      <td>0.770388</td>\n",
       "      <td>0.836975</td>\n",
       "      <td>0.797554</td>\n",
       "    </tr>\n",
       "    <tr>\n",
       "      <th>1</th>\n",
       "      <td>RandomForest</td>\n",
       "      <td>0.760785</td>\n",
       "      <td>0.912419</td>\n",
       "      <td>0.750746</td>\n",
       "      <td>0.760965</td>\n",
       "      <td>0.908873</td>\n",
       "      <td>0.751984</td>\n",
       "    </tr>\n",
       "    <tr>\n",
       "      <th>5</th>\n",
       "      <td>LogisticRegression</td>\n",
       "      <td>0.734103</td>\n",
       "      <td>0.869859</td>\n",
       "      <td>0.741070</td>\n",
       "      <td>0.731907</td>\n",
       "      <td>0.865308</td>\n",
       "      <td>0.740199</td>\n",
       "    </tr>\n",
       "    <tr>\n",
       "      <th>4</th>\n",
       "      <td>RidgeRegression</td>\n",
       "      <td>0.697189</td>\n",
       "      <td>0.911809</td>\n",
       "      <td>0.691839</td>\n",
       "      <td>0.697445</td>\n",
       "      <td>0.908340</td>\n",
       "      <td>0.692628</td>\n",
       "    </tr>\n",
       "  </tbody>\n",
       "</table>\n",
       "</div>"
      ],
      "text/plain": [
       "                 name  accuracy_train  recall_train  precission_train  \\\n",
       "3             XGBoost        0.817129      0.867864          0.839117   \n",
       "2            AdaBoost        0.773494      0.828861          0.806688   \n",
       "0        DecisionTree        0.771885      0.840953          0.797643   \n",
       "1        RandomForest        0.760785      0.912419          0.750746   \n",
       "5  LogisticRegression        0.734103      0.869859          0.741070   \n",
       "4     RidgeRegression        0.697189      0.911809          0.691839   \n",
       "\n",
       "   accuracy_test  recall_test  precission_test  \n",
       "3       0.795780     0.847677         0.823540  \n",
       "2       0.773620     0.824318         0.809084  \n",
       "0       0.770388     0.836975         0.797554  \n",
       "1       0.760965     0.908873         0.751984  \n",
       "5       0.731907     0.865308         0.740199  \n",
       "4       0.697445     0.908340         0.692628  "
      ]
     },
     "execution_count": 18,
     "metadata": {},
     "output_type": "execute_result"
    }
   ],
   "source": [
    "df_scores.sort_values(\"accuracy_test\", ascending = False).head(20)"
   ]
  },
  {
   "cell_type": "code",
   "execution_count": 19,
   "id": "405fb75f",
   "metadata": {},
   "outputs": [
    {
     "data": {
      "text/plain": [
       "<AxesSubplot:ylabel='name'>"
      ]
     },
     "execution_count": 19,
     "metadata": {},
     "output_type": "execute_result"
    },
    {
     "data": {
      "image/png": "[encoded data removed]",
      "text/plain": [
       "<Figure size 432x288 with 1 Axes>"
      ]
     },
     "metadata": {
      "needs_background": "light"
     },
     "output_type": "display_data"
    }
   ],
   "source": [
    "df_scores.sort_values(\"accuracy_test\", ascending = True).plot(kind= \"barh\", x= \"name\", y = \"accuracy_test\")"
   ]
  },
  {
   "cell_type": "markdown",
   "id": "30492daf",
   "metadata": {},
   "source": [
    "## XGBoost"
   ]
  },
  {
   "cell_type": "code",
   "execution_count": 36,
   "id": "2d85b728",
   "metadata": {},
   "outputs": [
    {
     "name": "stdout",
     "output_type": "stream",
     "text": [
      "Fitting 5 folds for each of 30 candidates, totalling 150 fits\n",
      "[13:02:13] WARNING: /Users/travis/build/dmlc/xgboost/src/learner.cc:1095: Starting in XGBoost 1.3.0, the default evaluation metric used with the objective 'binary:logistic' was changed from 'error' to 'logloss'. Explicitly set eval_metric if you'd like to restore the old behavior.\n"
     ]
    },
    {
     "data": {
      "text/plain": [
       "RandomizedSearchCV(cv=5,\n",
       "                   estimator=XGBClassifier(base_score=None, booster=None,\n",
       "                                           colsample_bylevel=None,\n",
       "                                           colsample_bynode=None,\n",
       "                                           colsample_bytree=None, gamma=None,\n",
       "                                           gpu_id=None, importance_type='gain',\n",
       "                                           interaction_constraints=None,\n",
       "                                           learning_rate=None,\n",
       "                                           max_delta_step=None, max_depth=None,\n",
       "                                           min_child_weight=None, missing=nan,\n",
       "                                           monotone_constraints=None,\n",
       "                                           n_estimators=100,...\n",
       "       7.34720408e-01, 7.55126531e-01, 7.75532653e-01, 7.95938776e-01,\n",
       "       8.16344898e-01, 8.36751020e-01, 8.57157143e-01, 8.77563265e-01,\n",
       "       8.97969388e-01, 9.18375510e-01, 9.38781633e-01, 9.59187755e-01,\n",
       "       9.79593878e-01, 1.00000000e+00]),\n",
       "                                        'max_depth': [None, 3, 4, 5, 6, 7, 8, 9,\n",
       "                                                      10, 11, 12, 13, 14],\n",
       "                                        'n_estimators': [2, 3, 4, 5, 6, 7, 8, 9,\n",
       "                                                         10, 11, 12, 13, 14, 15,\n",
       "                                                         16, 17, 18, 19, 20, 21,\n",
       "                                                         22, 23, 24, 25, 26, 27,\n",
       "                                                         28, 29, 30, 31, ...]},\n",
       "                   scoring='accuracy', verbose=5)"
      ]
     },
     "execution_count": 36,
     "metadata": {},
     "output_type": "execute_result"
    }
   ],
   "source": [
    "param_grid_xgb = {\n",
    "    'n_estimators': list(range(2,52)),\n",
    "    'max_depth': [None] + list(range(3,15)),\n",
    "    \"learning_rate\": np.linspace(0.0001, 1).astype(float),\n",
    "    'booster': [\"gbtree\", \"gblinear\", \"dart\"]}\n",
    "\n",
    "# Instantiate random search and define the metric to optimize \n",
    "rs_xgb = RandomizedSearchCV(xgb.XGBClassifier(), param_grid_xgb, scoring='accuracy',\n",
    "                  cv=5, verbose=5, n_jobs=-1, n_iter=30)\n",
    "\n",
    "# Fit randomized search object to data\n",
    "rs_xgb.fit(X_train_prep, y_train)"
   ]
  },
  {
   "cell_type": "code",
   "execution_count": 37,
   "id": "9e73e1ec",
   "metadata": {},
   "outputs": [
    {
     "data": {
      "text/plain": [
       "{'n_estimators': 25,\n",
       " 'max_depth': 7,\n",
       " 'learning_rate': 0.34700408163265306,\n",
       " 'booster': 'gbtree'}"
      ]
     },
     "execution_count": 37,
     "metadata": {},
     "output_type": "execute_result"
    }
   ],
   "source": [
    "rs_xgb.best_params_"
   ]
  },
  {
   "cell_type": "code",
   "execution_count": 38,
   "id": "2aed057b",
   "metadata": {},
   "outputs": [
    {
     "ename": "NameError",
     "evalue": "name 'param_logreg' is not defined",
     "output_type": "error",
     "traceback": [
      "\u001b[0;31m---------------------------------------------------------------------------\u001b[0m",
      "\u001b[0;31mNameError\u001b[0m                                 Traceback (most recent call last)",
      "\u001b[0;32m<ipython-input-38-a4574dea955e>\u001b[0m in \u001b[0;36m<module>\u001b[0;34m\u001b[0m\n\u001b[1;32m      5\u001b[0m     'booster': [\"gbtree\", \"gblinear\", \"dart\"]}\n\u001b[1;32m      6\u001b[0m \u001b[0;34m\u001b[0m\u001b[0m\n\u001b[0;32m----> 7\u001b[0;31m grid_xgb = GridSearchCV(pipe_logreg, param_grid=param_logreg, cv=5, scoring='accuracy', \n\u001b[0m\u001b[1;32m      8\u001b[0m                            verbose=5, n_jobs=-1)\n",
      "\u001b[0;31mNameError\u001b[0m: name 'param_logreg' is not defined"
     ]
    }
   ],
   "source": [
    "param_grid_xgb = {\n",
    "    'n_estimators': np.linspace(20, 100).astype(int),\n",
    "    'max_depth': [None] + list(np.linspace(3, 10).astype(int)),\n",
    "    \"learning_rate\": np.linspace(0.0001, 1).astype(float),\n",
    "    'booster': [\"gbtree\", \"gblinear\", \"dart\"]}\n",
    "\n",
    "grid_xgb = GridSearchCV(pipe_logreg, param_grid=param_logreg, cv=5, scoring='accuracy', \n",
    "                           verbose=5, n_jobs=-1)"
   ]
  },
  {
   "cell_type": "code",
   "execution_count": 40,
   "id": "d78a8466",
   "metadata": {},
   "outputs": [],
   "source": [
    "best_xgb = rs_xgb.best_estimator_\n",
    "\n",
    "y_train_pred = best_xgb.predict(X_train_prep)\n",
    "y_pred = best_xgb.predict(X_test_prep)"
   ]
  },
  {
   "cell_type": "code",
   "execution_count": 41,
   "id": "f8ab94a1",
   "metadata": {},
   "outputs": [
    {
     "name": "stdout",
     "output_type": "stream",
     "text": [
      "Cross validation scores:\n",
      "-------------------------\n",
      "Accuracy: 0.80\n",
      "Recall: 0.86\n",
      "Precision: 0.83\n",
      "\n",
      "Confusion matrix:\n",
      "-------------------------\n",
      "[[40964 16101]\n",
      " [12779 77446]]\n",
      "Cross validation scores:\n",
      "-------------------------\n",
      "Accuracy: 0.79\n",
      "Recall: 0.85\n",
      "Precision: 0.82\n",
      "\n",
      "Confusion matrix:\n",
      "-------------------------\n",
      "[[10123  4182]\n",
      " [ 3457 19061]]\n"
     ]
    }
   ],
   "source": [
    "print_scores(y_train, y_train_pred)\n",
    "print_scores(y_test, y_pred)"
   ]
  },
  {
   "cell_type": "code",
   "execution_count": null,
   "id": "e79b856c",
   "metadata": {},
   "outputs": [],
   "source": [
    "model_name.append(\"XGBoost optimized\")\n",
    "\n",
    "accuracy.append(accuracy_score(y_train, y_train_pred))\n",
    "recall.append(recall_score(y_train, y_train_pred))\n",
    "precision.append(precision_score(y_train, y_train_pred))\n",
    "    \n",
    "accuracy_test.append(accuracy_score(y_test, y_pred))\n",
    "recall_test.append(recall_score(y_test, y_pred))\n",
    "precision_test.append(precision_score(y_test, y_pred))"
   ]
  },
  {
   "cell_type": "markdown",
   "id": "ac96fe47",
   "metadata": {},
   "source": [
    "## AdaBoost"
   ]
  },
  {
   "cell_type": "code",
   "execution_count": null,
   "id": "8564c6ee",
   "metadata": {},
   "outputs": [],
   "source": [
    "param_grid_ada = {\n",
    "    'n_estimators': np.linspace(10, 200).astype(int),\n",
    "    'max_depth': [None] + list(np.linspace(3, 20).astype(int)),\n",
    "    \"learning_rate\": np.linspace(0.0001, 1).astype(float),\n",
    "    'booster': [\"gbtree\", \"gblinear\", \"dart\"]}\n",
    "\n",
    "# Instantiate random search and define the metric to optimize \n",
    "rs_ada = RandomizedSearchCV(AdaBoostClassifier(random_state=RSEED), param_grid_ada, scoring='accuracy',\n",
    "                  cv=5, verbose=5, n_jobs=-1, n_iter=10)\n",
    "\n",
    "# Fit randomized search object to data\n",
    "rs_ada.fit(X_train_prep, y_train)"
   ]
  },
  {
   "cell_type": "code",
   "execution_count": null,
   "id": "eacf15fd",
   "metadata": {},
   "outputs": [],
   "source": [
    "best_ada = rs_ada.best_estimator_\n",
    "\n",
    "y_train_pred = best_ada.predict(X_train_prep)\n",
    "y_pred = best_ada.predict(X_test_prep)"
   ]
  },
  {
   "cell_type": "code",
   "execution_count": null,
   "id": "0b6e2b41",
   "metadata": {},
   "outputs": [],
   "source": [
    "model_name.append(\"XGBoost optimized\")\n",
    "\n",
    "accuracy.append(accuracy_score(y_train, y_train_pred))\n",
    "recall.append(recall_score(y_train, y_train_pred))\n",
    "precision.append(precision_score(y_train, y_train_pred))\n",
    "    \n",
    "accuracy_test.append(accuracy_score(y_test, y_pred))\n",
    "recall_test.append(recall_score(y_test, y_pred))\n",
    "precision_test.append(precision_score(y_test, y_pred))"
   ]
  },
  {
   "cell_type": "code",
   "execution_count": null,
   "id": "620ec64e",
   "metadata": {},
   "outputs": [],
   "source": [
    "print_scores(y_train, y_train_pred)\n",
    "print_scores(y_test, y_pred)"
   ]
  }
 ],
 "metadata": {
  "kernelspec": {
   "display_name": "Python 3",
   "language": "python",
   "name": "python3"
  },
  "language_info": {
   "codemirror_mode": {
    "name": "ipython",
    "version": 3
   },
   "file_extension": ".py",
   "mimetype": "text/x-python",
   "name": "python",
   "nbconvert_exporter": "python",
   "pygments_lexer": "ipython3",
   "version": "3.8.5"
  }
 },
 "nbformat": 4,
 "nbformat_minor": 5
}
